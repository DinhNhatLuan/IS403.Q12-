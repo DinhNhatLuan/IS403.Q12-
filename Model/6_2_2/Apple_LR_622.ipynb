{
 "cells": [
  {
   "cell_type": "markdown",
   "id": "6bcae2e7",
   "metadata": {},
   "source": [
    "Import Libraries"
   ]
  },
  {
   "cell_type": "code",
   "execution_count": 1,
   "id": "876fa03c",
   "metadata": {},
   "outputs": [],
   "source": [
    "# Library to support working with data\n",
    "import numpy as np\n",
    "import pandas as pd\n",
    "\n",
    "# Graphing support library\n",
    "import matplotlib.pyplot as plt\n",
    "\n",
    "# Data Normalization Support Library\n",
    "from sklearn.preprocessing import MinMaxScaler\n",
    "\n",
    "# Library to support building Linear Regression models\n",
    "from sklearn.linear_model import LinearRegression\n",
    "\n",
    "# Performance metrics calculation support library\n",
    "from sklearn.metrics import mean_squared_error, mean_absolute_percentage_error, mean_squared_log_error"
   ]
  },
  {
   "cell_type": "markdown",
   "id": "cb352c3f",
   "metadata": {},
   "source": [
    "Data preprocessing"
   ]
  },
  {
   "cell_type": "markdown",
   "id": "69b17257",
   "metadata": {},
   "source": [
    "Read data"
   ]
  },
  {
   "cell_type": "code",
   "execution_count": 2,
   "id": "db508588",
   "metadata": {},
   "outputs": [
    {
     "data": {
      "text/html": [
       "<div>\n",
       "<style scoped>\n",
       "    .dataframe tbody tr th:only-of-type {\n",
       "        vertical-align: middle;\n",
       "    }\n",
       "\n",
       "    .dataframe tbody tr th {\n",
       "        vertical-align: top;\n",
       "    }\n",
       "\n",
       "    .dataframe thead th {\n",
       "        text-align: right;\n",
       "    }\n",
       "</style>\n",
       "<table border=\"1\" class=\"dataframe\">\n",
       "  <thead>\n",
       "    <tr style=\"text-align: right;\">\n",
       "      <th></th>\n",
       "      <th>Date</th>\n",
       "      <th>Open</th>\n",
       "      <th>High</th>\n",
       "      <th>Low</th>\n",
       "      <th>Close</th>\n",
       "      <th>Adj Close</th>\n",
       "      <th>Volume</th>\n",
       "    </tr>\n",
       "  </thead>\n",
       "  <tbody>\n",
       "    <tr>\n",
       "      <th>0</th>\n",
       "      <td>2009-12-31</td>\n",
       "      <td>7.611786</td>\n",
       "      <td>7.619643</td>\n",
       "      <td>7.520000</td>\n",
       "      <td>7.526071</td>\n",
       "      <td>6.326138</td>\n",
       "      <td>352410800</td>\n",
       "    </tr>\n",
       "    <tr>\n",
       "      <th>1</th>\n",
       "      <td>2010-01-04</td>\n",
       "      <td>7.622500</td>\n",
       "      <td>7.660714</td>\n",
       "      <td>7.585000</td>\n",
       "      <td>7.643214</td>\n",
       "      <td>6.424604</td>\n",
       "      <td>493729600</td>\n",
       "    </tr>\n",
       "    <tr>\n",
       "      <th>2</th>\n",
       "      <td>2010-01-05</td>\n",
       "      <td>7.664286</td>\n",
       "      <td>7.699643</td>\n",
       "      <td>7.616071</td>\n",
       "      <td>7.656429</td>\n",
       "      <td>6.435713</td>\n",
       "      <td>601904800</td>\n",
       "    </tr>\n",
       "    <tr>\n",
       "      <th>3</th>\n",
       "      <td>2010-01-06</td>\n",
       "      <td>7.656429</td>\n",
       "      <td>7.686786</td>\n",
       "      <td>7.526786</td>\n",
       "      <td>7.534643</td>\n",
       "      <td>6.333343</td>\n",
       "      <td>552160000</td>\n",
       "    </tr>\n",
       "    <tr>\n",
       "      <th>4</th>\n",
       "      <td>2010-01-07</td>\n",
       "      <td>7.562500</td>\n",
       "      <td>7.571429</td>\n",
       "      <td>7.466071</td>\n",
       "      <td>7.520714</td>\n",
       "      <td>6.321635</td>\n",
       "      <td>477131200</td>\n",
       "    </tr>\n",
       "  </tbody>\n",
       "</table>\n",
       "</div>"
      ],
      "text/plain": [
       "         Date      Open      High       Low     Close  Adj Close     Volume\n",
       "0  2009-12-31  7.611786  7.619643  7.520000  7.526071   6.326138  352410800\n",
       "1  2010-01-04  7.622500  7.660714  7.585000  7.643214   6.424604  493729600\n",
       "2  2010-01-05  7.664286  7.699643  7.616071  7.656429   6.435713  601904800\n",
       "3  2010-01-06  7.656429  7.686786  7.526786  7.534643   6.333343  552160000\n",
       "4  2010-01-07  7.562500  7.571429  7.466071  7.520714   6.321635  477131200"
      ]
     },
     "execution_count": 2,
     "metadata": {},
     "output_type": "execute_result"
    }
   ],
   "source": [
    "df = pd.read_csv('Apple_clean.csv')\n",
    "df.head()"
   ]
  },
  {
   "cell_type": "markdown",
   "id": "0758ba31",
   "metadata": {},
   "source": [
    "Reset index"
   ]
  },
  {
   "cell_type": "code",
   "execution_count": 3,
   "id": "6275b589",
   "metadata": {},
   "outputs": [
    {
     "data": {
      "text/html": [
       "<div>\n",
       "<style scoped>\n",
       "    .dataframe tbody tr th:only-of-type {\n",
       "        vertical-align: middle;\n",
       "    }\n",
       "\n",
       "    .dataframe tbody tr th {\n",
       "        vertical-align: top;\n",
       "    }\n",
       "\n",
       "    .dataframe thead th {\n",
       "        text-align: right;\n",
       "    }\n",
       "</style>\n",
       "<table border=\"1\" class=\"dataframe\">\n",
       "  <thead>\n",
       "    <tr style=\"text-align: right;\">\n",
       "      <th></th>\n",
       "      <th>Close</th>\n",
       "    </tr>\n",
       "  </thead>\n",
       "  <tbody>\n",
       "    <tr>\n",
       "      <th>0</th>\n",
       "      <td>7.526071</td>\n",
       "    </tr>\n",
       "    <tr>\n",
       "      <th>1</th>\n",
       "      <td>7.643214</td>\n",
       "    </tr>\n",
       "    <tr>\n",
       "      <th>2</th>\n",
       "      <td>7.656429</td>\n",
       "    </tr>\n",
       "    <tr>\n",
       "      <th>3</th>\n",
       "      <td>7.534643</td>\n",
       "    </tr>\n",
       "    <tr>\n",
       "      <th>4</th>\n",
       "      <td>7.520714</td>\n",
       "    </tr>\n",
       "  </tbody>\n",
       "</table>\n",
       "</div>"
      ],
      "text/plain": [
       "      Close\n",
       "0  7.526071\n",
       "1  7.643214\n",
       "2  7.656429\n",
       "3  7.534643\n",
       "4  7.520714"
      ]
     },
     "execution_count": 3,
     "metadata": {},
     "output_type": "execute_result"
    }
   ],
   "source": [
    "# Convert 'Date' to datetime and set as index\n",
    "df['Date'] = pd.to_datetime(df['Date'])\n",
    "df.set_index('Date', inplace=True)\n",
    "\n",
    "# Select the Close column as dependent variable\n",
    "df_Close = df[['Close']]\n",
    "df_Close = df_Close.reset_index(drop=True)\n",
    "df_Close.head()\n"
   ]
  },
  {
   "cell_type": "markdown",
   "id": "6eaba443",
   "metadata": {},
   "source": [
    "Data normalization"
   ]
  },
  {
   "cell_type": "code",
   "execution_count": 4,
   "id": "269701fc",
   "metadata": {},
   "outputs": [],
   "source": [
    "# Min-max normalization\n",
    "scaler = MinMaxScaler(feature_range=(0, 1))\n",
    "data_scaled = scaler.fit_transform(np.array(df_Close))"
   ]
  },
  {
   "cell_type": "markdown",
   "id": "2c2a6c78",
   "metadata": {},
   "source": [
    "Data splitting"
   ]
  },
  {
   "cell_type": "code",
   "execution_count": 5,
   "id": "633bf304",
   "metadata": {},
   "outputs": [],
   "source": [
    "# Split data into training, validation, and test sets (6:2:2)\n",
    "train_size = int(0.6 * len(data_scaled))\n",
    "val_size = int(0.2 * len(data_scaled))\n",
    "test_size = len(data_scaled) - train_size - val_size\n",
    "\n",
    "train_data = data_scaled[: train_size]\n",
    "val_data = data_scaled[train_size : train_size + val_size]\n",
    "test_data = data_scaled[train_size + val_size :]"
   ]
  },
  {
   "cell_type": "markdown",
   "id": "b7bca29f",
   "metadata": {},
   "source": [
    "Model training and testing"
   ]
  },
  {
   "cell_type": "markdown",
   "id": "70950735",
   "metadata": {},
   "source": [
    "Training process"
   ]
  },
  {
   "cell_type": "code",
   "execution_count": 6,
   "id": "e679fcad",
   "metadata": {},
   "outputs": [
    {
     "name": "stdout",
     "output_type": "stream",
     "text": [
      "Intercept: -0.0034918336232137026\n",
      "Coefficients: [6.38614721e-05]\n",
      "R-squared: 0.8778943969883614\n"
     ]
    }
   ],
   "source": [
    "# Prepare training data\n",
    "x_train = np.arange(train_size).reshape(-1, 1)\n",
    "y_train = train_data.reshape(-1)\n",
    "\n",
    "# Train Linear Regression model\n",
    "model = LinearRegression()\n",
    "model.fit(x_train, y_train)\n",
    "\n",
    "print(\"Intercept:\", model.intercept_)\n",
    "print(\"Coefficients:\", model.coef_)\n",
    "print(\"R-squared:\", model.score(x_train, y_train))"
   ]
  },
  {
   "cell_type": "markdown",
   "id": "c27102c0",
   "metadata": {},
   "source": [
    "Testing process"
   ]
  },
  {
   "cell_type": "code",
   "execution_count": 7,
   "id": "ed829272",
   "metadata": {},
   "outputs": [
    {
     "name": "stdout",
     "output_type": "stream",
     "text": [
      "MAPE (Validation): 0.4949437565341788\n",
      "RMSE (Validation): 73.44582164164777\n",
      "MSLE (Validation): 0.6252056012984846\n"
     ]
    }
   ],
   "source": [
    "# Validation data\n",
    "x_val = np.array(range(train_size, train_size + val_size)).reshape(-1, 1)\n",
    "y_val = np.array(val_data).reshape(-1)\n",
    "y_pred_val = model.predict(x_val)\n",
    "\n",
    "# Evaluate\n",
    "y_val_inv = scaler.inverse_transform(y_val.reshape(-1, 1))\n",
    "y_pred_val_inv = scaler.inverse_transform(y_pred_val.reshape(-1, 1))\n",
    "\n",
    "val_mape = mean_absolute_percentage_error(y_val_inv, y_pred_val_inv)\n",
    "val_mse = mean_squared_error(y_val_inv, y_pred_val_inv)\n",
    "val_rmse = np.sqrt(val_mse)\n",
    "val_msle = mean_squared_log_error(y_val_inv, y_pred_val_inv)\n",
    "\n",
    "print(f\"MAPE (Validation): {val_mape}\")\n",
    "print(f\"RMSE (Validation): {val_rmse}\")\n",
    "print(f\"MSLE (Validation): {val_msle}\")\n"
   ]
  },
  {
   "cell_type": "code",
   "execution_count": 8,
   "id": "c1872dbf",
   "metadata": {},
   "outputs": [
    {
     "name": "stdout",
     "output_type": "stream",
     "text": [
      "MAPE (Test): 0.652616142836216\n",
      "RMSE (Test): 131.32216663200543\n",
      "MSLE (Test): 1.1299491518094982\n"
     ]
    }
   ],
   "source": [
    "# Test data\n",
    "x_test = np.array(range(train_size + val_size, len(data_scaled))).reshape(-1, 1)\n",
    "y_test = np.array(test_data).reshape(-1)\n",
    "y_pred_test = model.predict(x_test)\n",
    "\n",
    "# Evaluate\n",
    "y_test_inv = scaler.inverse_transform(y_test.reshape(-1, 1))\n",
    "y_pred_test_inv = scaler.inverse_transform(y_pred_test.reshape(-1, 1))\n",
    "\n",
    "test_mape = mean_absolute_percentage_error(y_test_inv, y_pred_test_inv)\n",
    "test_mse = mean_squared_error(y_test_inv, y_pred_test_inv)\n",
    "test_rmse = np.sqrt(test_mse)\n",
    "test_msle = mean_squared_log_error(y_test_inv, y_pred_test_inv)\n",
    "\n",
    "print(f\"MAPE (Test): {test_mape}\")\n",
    "print(f\"RMSE (Test): {test_rmse}\")\n",
    "print(f\"MSLE (Test): {test_msle}\")\n"
   ]
  },
  {
   "cell_type": "markdown",
   "id": "b3441ad7",
   "metadata": {},
   "source": [
    "Predicting the next 30 days"
   ]
  },
  {
   "cell_type": "code",
   "execution_count": 9,
   "id": "dfae6514",
   "metadata": {},
   "outputs": [],
   "source": [
    "# Create index for next 30 days\n",
    "last_index = df_Close.index[-1]\n",
    "x_next_30_days = np.array(range(last_index + 1, last_index + 31)).reshape(-1, 1)"
   ]
  },
  {
   "cell_type": "markdown",
   "id": "8dd5b84b",
   "metadata": {},
   "source": [
    "Preparing the prediction data"
   ]
  },
  {
   "cell_type": "markdown",
   "id": "e54ad4ec",
   "metadata": {},
   "source": [
    "Prediction process"
   ]
  },
  {
   "cell_type": "code",
   "execution_count": 10,
   "id": "30a751ac",
   "metadata": {},
   "outputs": [
    {
     "name": "stdout",
     "output_type": "stream",
     "text": [
      "Predicted closing prices for the next 30 days:\n",
      "[72.60510203 72.62184274 72.63858346 72.65532417 72.67206489 72.6888056\n",
      " 72.70554631 72.72228703 72.73902774 72.75576846 72.77250917 72.78924989\n",
      " 72.8059906  72.82273132 72.83947203 72.85621275 72.87295346 72.88969418\n",
      " 72.90643489 72.92317561 72.93991632 72.95665703 72.97339775 72.99013846\n",
      " 73.00687918 73.02361989 73.04036061 73.05710132 73.07384204 73.09058275]\n"
     ]
    }
   ],
   "source": [
    "# Predict next 30 days\n",
    "y_next_30_days = model.predict(x_next_30_days)\n",
    "y_next_30_days_inv = scaler.inverse_transform(y_next_30_days.reshape(-1, 1))\n",
    "\n",
    "print(\"Predicted closing prices for the next 30 days:\")\n",
    "print(y_next_30_days_inv.flatten())\n"
   ]
  },
  {
   "cell_type": "markdown",
   "id": "d1c7c2eb",
   "metadata": {},
   "source": [
    "Preparing the forecast date index"
   ]
  },
  {
   "cell_type": "code",
   "execution_count": 11,
   "id": "8c27706a",
   "metadata": {},
   "outputs": [],
   "source": [
    "# Generate future date index\n",
    "last_date = df.index[-1]\n",
    "next_date = last_date + pd.DateOffset(days=1)\n",
    "index_next_30_days = pd.date_range(start=next_date, periods=30).tolist()"
   ]
  },
  {
   "cell_type": "markdown",
   "id": "f5f3c720",
   "metadata": {},
   "source": [
    "Visualization"
   ]
  },
  {
   "cell_type": "code",
   "execution_count": 12,
   "id": "1026a127",
   "metadata": {},
   "outputs": [
    {
     "data": {
      "image/png": "[encoded data removed]",
      "text/plain": [
       "<Figure size 1400x500 with 1 Axes>"
      ]
     },
     "metadata": {},
     "output_type": "display_data"
    }
   ],
   "source": [
    "plt.figure(figsize=(14, 5))\n",
    "\n",
    "plt.plot(df.index[:train_size], scaler.inverse_transform(y_train.reshape(-1, 1)))\n",
    "plt.plot(df.index[train_size:train_size + val_size], y_val_inv)\n",
    "plt.plot(df.index[train_size:train_size + val_size], y_pred_val_inv)\n",
    "plt.plot(df.index[train_size + val_size:], y_test_inv)\n",
    "plt.plot(df.index[train_size + val_size:], y_pred_test_inv)\n",
    "plt.plot(index_next_30_days, y_next_30_days_inv)\n",
    "\n",
    "plt.legend(['Train', 'Validate', 'PredictValidate', 'Test', 'PredictTest', 'Next30Days'])\n",
    "plt.grid()\n",
    "plt.title(f\"Apple Closing Price Data from {df.index[0].strftime('%Y-%m-%d')} to {index_next_30_days[-1].strftime('%Y-%m-%d')}\")\n",
    "plt.xlabel(\"Date\")\n",
    "plt.ylabel(\"Close value\")\n",
    "plt.savefig('LR_622_Apple.png')\n",
    "plt.show()\n"
   ]
  }
 ],
 "metadata": {
  "kernelspec": {
   "display_name": "Python 3",
   "language": "python",
   "name": "python3"
  },
  "language_info": {
   "codemirror_mode": {
    "name": "ipython",
    "version": 3
   },
   "file_extension": ".py",
   "mimetype": "text/x-python",
   "name": "python",
   "nbconvert_exporter": "python",
   "pygments_lexer": "ipython3",
   "version": "3.11.14"
  }
 },
 "nbformat": 4,
 "nbformat_minor": 5
}
