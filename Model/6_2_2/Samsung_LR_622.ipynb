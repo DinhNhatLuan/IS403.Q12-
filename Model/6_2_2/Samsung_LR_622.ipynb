{
 "cells": [
  {
   "cell_type": "markdown",
   "id": "6bcae2e7",
   "metadata": {},
   "source": [
    "Import Libraries"
   ]
  },
  {
   "cell_type": "code",
   "execution_count": 1,
   "id": "876fa03c",
   "metadata": {},
   "outputs": [],
   "source": [
    "# Library to support working with data\n",
    "import numpy as np\n",
    "import pandas as pd\n",
    "\n",
    "# Graphing support library\n",
    "import matplotlib.pyplot as plt\n",
    "\n",
    "# Data Normalization Support Library\n",
    "from sklearn.preprocessing import MinMaxScaler\n",
    "\n",
    "# Library to support building Linear Regression models\n",
    "from sklearn.linear_model import LinearRegression\n",
    "\n",
    "# Performance metrics calculation support library\n",
    "from sklearn.metrics import mean_squared_error, mean_absolute_percentage_error, mean_squared_log_error"
   ]
  },
  {
   "cell_type": "markdown",
   "id": "cb352c3f",
   "metadata": {},
   "source": [
    "Data preprocessing"
   ]
  },
  {
   "cell_type": "markdown",
   "id": "69b17257",
   "metadata": {},
   "source": [
    "Read data"
   ]
  },
  {
   "cell_type": "code",
   "execution_count": 2,
   "id": "db508588",
   "metadata": {},
   "outputs": [
    {
     "data": {
      "text/html": [
       "<div>\n",
       "<style scoped>\n",
       "    .dataframe tbody tr th:only-of-type {\n",
       "        vertical-align: middle;\n",
       "    }\n",
       "\n",
       "    .dataframe tbody tr th {\n",
       "        vertical-align: top;\n",
       "    }\n",
       "\n",
       "    .dataframe thead th {\n",
       "        text-align: right;\n",
       "    }\n",
       "</style>\n",
       "<table border=\"1\" class=\"dataframe\">\n",
       "  <thead>\n",
       "    <tr style=\"text-align: right;\">\n",
       "      <th></th>\n",
       "      <th>Date</th>\n",
       "      <th>Open</th>\n",
       "      <th>High</th>\n",
       "      <th>Low</th>\n",
       "      <th>Close</th>\n",
       "      <th>Adj Close</th>\n",
       "      <th>Volume</th>\n",
       "    </tr>\n",
       "  </thead>\n",
       "  <tbody>\n",
       "    <tr>\n",
       "      <th>0</th>\n",
       "      <td>1/4/2010</td>\n",
       "      <td>16060</td>\n",
       "      <td>16180</td>\n",
       "      <td>16000</td>\n",
       "      <td>16180</td>\n",
       "      <td>11978.36523</td>\n",
       "      <td>11950800</td>\n",
       "    </tr>\n",
       "    <tr>\n",
       "      <th>1</th>\n",
       "      <td>1/5/2010</td>\n",
       "      <td>16520</td>\n",
       "      <td>16580</td>\n",
       "      <td>16300</td>\n",
       "      <td>16440</td>\n",
       "      <td>12170.84668</td>\n",
       "      <td>27925850</td>\n",
       "    </tr>\n",
       "    <tr>\n",
       "      <th>2</th>\n",
       "      <td>1/6/2010</td>\n",
       "      <td>16580</td>\n",
       "      <td>16820</td>\n",
       "      <td>16520</td>\n",
       "      <td>16820</td>\n",
       "      <td>12452.17090</td>\n",
       "      <td>22948850</td>\n",
       "    </tr>\n",
       "    <tr>\n",
       "      <th>3</th>\n",
       "      <td>1/7/2010</td>\n",
       "      <td>16820</td>\n",
       "      <td>16820</td>\n",
       "      <td>16260</td>\n",
       "      <td>16260</td>\n",
       "      <td>12037.59082</td>\n",
       "      <td>22107950</td>\n",
       "    </tr>\n",
       "    <tr>\n",
       "      <th>4</th>\n",
       "      <td>1/8/2010</td>\n",
       "      <td>16400</td>\n",
       "      <td>16420</td>\n",
       "      <td>16120</td>\n",
       "      <td>16420</td>\n",
       "      <td>12156.04102</td>\n",
       "      <td>14777550</td>\n",
       "    </tr>\n",
       "  </tbody>\n",
       "</table>\n",
       "</div>"
      ],
      "text/plain": [
       "       Date   Open   High    Low  Close    Adj Close    Volume\n",
       "0  1/4/2010  16060  16180  16000  16180  11978.36523  11950800\n",
       "1  1/5/2010  16520  16580  16300  16440  12170.84668  27925850\n",
       "2  1/6/2010  16580  16820  16520  16820  12452.17090  22948850\n",
       "3  1/7/2010  16820  16820  16260  16260  12037.59082  22107950\n",
       "4  1/8/2010  16400  16420  16120  16420  12156.04102  14777550"
      ]
     },
     "execution_count": 2,
     "metadata": {},
     "output_type": "execute_result"
    }
   ],
   "source": [
    "df = pd.read_csv('Samsung_clean.csv')\n",
    "df.head()"
   ]
  },
  {
   "cell_type": "markdown",
   "id": "0758ba31",
   "metadata": {},
   "source": [
    "Reset index"
   ]
  },
  {
   "cell_type": "code",
   "execution_count": 3,
   "id": "6275b589",
   "metadata": {},
   "outputs": [
    {
     "data": {
      "text/html": [
       "<div>\n",
       "<style scoped>\n",
       "    .dataframe tbody tr th:only-of-type {\n",
       "        vertical-align: middle;\n",
       "    }\n",
       "\n",
       "    .dataframe tbody tr th {\n",
       "        vertical-align: top;\n",
       "    }\n",
       "\n",
       "    .dataframe thead th {\n",
       "        text-align: right;\n",
       "    }\n",
       "</style>\n",
       "<table border=\"1\" class=\"dataframe\">\n",
       "  <thead>\n",
       "    <tr style=\"text-align: right;\">\n",
       "      <th></th>\n",
       "      <th>Close</th>\n",
       "    </tr>\n",
       "  </thead>\n",
       "  <tbody>\n",
       "    <tr>\n",
       "      <th>0</th>\n",
       "      <td>16180</td>\n",
       "    </tr>\n",
       "    <tr>\n",
       "      <th>1</th>\n",
       "      <td>16440</td>\n",
       "    </tr>\n",
       "    <tr>\n",
       "      <th>2</th>\n",
       "      <td>16820</td>\n",
       "    </tr>\n",
       "    <tr>\n",
       "      <th>3</th>\n",
       "      <td>16260</td>\n",
       "    </tr>\n",
       "    <tr>\n",
       "      <th>4</th>\n",
       "      <td>16420</td>\n",
       "    </tr>\n",
       "  </tbody>\n",
       "</table>\n",
       "</div>"
      ],
      "text/plain": [
       "   Close\n",
       "0  16180\n",
       "1  16440\n",
       "2  16820\n",
       "3  16260\n",
       "4  16420"
      ]
     },
     "execution_count": 3,
     "metadata": {},
     "output_type": "execute_result"
    }
   ],
   "source": [
    "# Convert 'Date' to datetime and set as index\n",
    "df['Date'] = pd.to_datetime(df['Date'])\n",
    "df.set_index('Date', inplace=True)\n",
    "\n",
    "# Select the Close column as dependent variable\n",
    "df_Close = df[['Close']]\n",
    "df_Close = df_Close.reset_index(drop=True)\n",
    "df_Close.head()\n"
   ]
  },
  {
   "cell_type": "markdown",
   "id": "6eaba443",
   "metadata": {},
   "source": [
    "Data normalization"
   ]
  },
  {
   "cell_type": "code",
   "execution_count": 4,
   "id": "269701fc",
   "metadata": {},
   "outputs": [],
   "source": [
    "# Min-max normalization\n",
    "scaler = MinMaxScaler(feature_range=(0, 1))\n",
    "data_scaled = scaler.fit_transform(np.array(df_Close))"
   ]
  },
  {
   "cell_type": "markdown",
   "id": "2c2a6c78",
   "metadata": {},
   "source": [
    "Data splitting"
   ]
  },
  {
   "cell_type": "code",
   "execution_count": 5,
   "id": "633bf304",
   "metadata": {},
   "outputs": [],
   "source": [
    "# Split data into training, validation, and test sets (6:2:2)\n",
    "train_size = int(0.6 * len(data_scaled))\n",
    "val_size = int(0.2 * len(data_scaled))\n",
    "test_size = len(data_scaled) - train_size - val_size\n",
    "\n",
    "train_data = data_scaled[: train_size]\n",
    "val_data = data_scaled[train_size : train_size + val_size]\n",
    "test_data = data_scaled[train_size + val_size :]"
   ]
  },
  {
   "cell_type": "markdown",
   "id": "b7bca29f",
   "metadata": {},
   "source": [
    "Model training and testing"
   ]
  },
  {
   "cell_type": "markdown",
   "id": "70950735",
   "metadata": {},
   "source": [
    "Training process"
   ]
  },
  {
   "cell_type": "code",
   "execution_count": 6,
   "id": "e679fcad",
   "metadata": {},
   "outputs": [
    {
     "name": "stdout",
     "output_type": "stream",
     "text": [
      "Intercept: -0.0036303185770690805\n",
      "Coefficients: [0.00015942]\n",
      "R-squared: 0.7619957667016589\n"
     ]
    }
   ],
   "source": [
    "# Prepare training data\n",
    "x_train = np.arange(train_size).reshape(-1, 1)\n",
    "y_train = train_data.reshape(-1)\n",
    "\n",
    "# Train Linear Regression model\n",
    "model = LinearRegression()\n",
    "model.fit(x_train, y_train)\n",
    "\n",
    "print(\"Intercept:\", model.intercept_)\n",
    "print(\"Coefficients:\", model.coef_)\n",
    "print(\"R-squared:\", model.score(x_train, y_train))"
   ]
  },
  {
   "cell_type": "markdown",
   "id": "c27102c0",
   "metadata": {},
   "source": [
    "Testing process"
   ]
  },
  {
   "cell_type": "code",
   "execution_count": 7,
   "id": "ed829272",
   "metadata": {},
   "outputs": [
    {
     "name": "stdout",
     "output_type": "stream",
     "text": [
      "MAPE (Validation): 0.1837251214131133\n",
      "RMSE (Validation): 17025.954624397873\n",
      "MSLE (Validation): 0.06983590722292106\n"
     ]
    }
   ],
   "source": [
    "# Validation data\n",
    "x_val = np.array(range(train_size, train_size + val_size)).reshape(-1, 1)\n",
    "y_val = np.array(val_data).reshape(-1)\n",
    "y_pred_val = model.predict(x_val)\n",
    "\n",
    "# Evaluate\n",
    "y_val_inv = scaler.inverse_transform(y_val.reshape(-1, 1))\n",
    "y_pred_val_inv = scaler.inverse_transform(y_pred_val.reshape(-1, 1))\n",
    "\n",
    "val_mape = mean_absolute_percentage_error(y_val_inv, y_pred_val_inv)\n",
    "val_mse = mean_squared_error(y_val_inv, y_pred_val_inv)\n",
    "val_rmse = np.sqrt(val_mse)\n",
    "val_msle = mean_squared_log_error(y_val_inv, y_pred_val_inv)\n",
    "\n",
    "print(f\"MAPE (Validation): {val_mape}\")\n",
    "print(f\"RMSE (Validation): {val_rmse}\")\n",
    "print(f\"MSLE (Validation): {val_msle}\")\n"
   ]
  },
  {
   "cell_type": "code",
   "execution_count": 8,
   "id": "c1872dbf",
   "metadata": {},
   "outputs": [
    {
     "name": "stdout",
     "output_type": "stream",
     "text": [
      "MAPE (Test): 0.12895808447109436\n",
      "RMSE (Test): 10687.784141518012\n",
      "MSLE (Test): 0.024239967509698247\n"
     ]
    }
   ],
   "source": [
    "# Test data\n",
    "x_test = np.array(range(train_size + val_size, len(data_scaled))).reshape(-1, 1)\n",
    "y_test = np.array(test_data).reshape(-1)\n",
    "y_pred_test = model.predict(x_test)\n",
    "\n",
    "# Evaluate\n",
    "y_test_inv = scaler.inverse_transform(y_test.reshape(-1, 1))\n",
    "y_pred_test_inv = scaler.inverse_transform(y_pred_test.reshape(-1, 1))\n",
    "\n",
    "test_mape = mean_absolute_percentage_error(y_test_inv, y_pred_test_inv)\n",
    "test_mse = mean_squared_error(y_test_inv, y_pred_test_inv)\n",
    "test_rmse = np.sqrt(test_mse)\n",
    "test_msle = mean_squared_log_error(y_test_inv, y_pred_test_inv)\n",
    "\n",
    "print(f\"MAPE (Test): {test_mape}\")\n",
    "print(f\"RMSE (Test): {test_rmse}\")\n",
    "print(f\"MSLE (Test): {test_msle}\")\n"
   ]
  },
  {
   "cell_type": "markdown",
   "id": "b3441ad7",
   "metadata": {},
   "source": [
    "Predicting the next 30 days"
   ]
  },
  {
   "cell_type": "code",
   "execution_count": 9,
   "id": "dfae6514",
   "metadata": {},
   "outputs": [],
   "source": [
    "# Create index for next 30 days\n",
    "last_index = df_Close.index[-1]\n",
    "x_next_30_days = np.array(range(last_index + 1, last_index + 31)).reshape(-1, 1)"
   ]
  },
  {
   "cell_type": "markdown",
   "id": "8dd5b84b",
   "metadata": {},
   "source": [
    "Preparing the prediction data"
   ]
  },
  {
   "cell_type": "markdown",
   "id": "e54ad4ec",
   "metadata": {},
   "source": [
    "Prediction process"
   ]
  },
  {
   "cell_type": "code",
   "execution_count": 10,
   "id": "30a751ac",
   "metadata": {},
   "outputs": [
    {
     "name": "stdout",
     "output_type": "stream",
     "text": [
      "Predicted closing prices for the next 30 days:\n",
      "[68128.94827497 68143.04125247 68157.13422997 68171.22720748\n",
      " 68185.32018498 68199.41316248 68213.50613998 68227.59911748\n",
      " 68241.69209499 68255.78507249 68269.87804999 68283.97102749\n",
      " 68298.06400499 68312.15698249 68326.24996    68340.3429375\n",
      " 68354.435915   68368.5288925  68382.62187    68396.71484751\n",
      " 68410.80782501 68424.90080251 68438.99378001 68453.08675751\n",
      " 68467.17973502 68481.27271252 68495.36569002 68509.45866752\n",
      " 68523.55164502 68537.64462252]\n"
     ]
    }
   ],
   "source": [
    "# Predict next 30 days\n",
    "y_next_30_days = model.predict(x_next_30_days)\n",
    "y_next_30_days_inv = scaler.inverse_transform(y_next_30_days.reshape(-1, 1))\n",
    "\n",
    "print(\"Predicted closing prices for the next 30 days:\")\n",
    "print(y_next_30_days_inv.flatten())\n"
   ]
  },
  {
   "cell_type": "markdown",
   "id": "d1c7c2eb",
   "metadata": {},
   "source": [
    "Preparing the forecast date index"
   ]
  },
  {
   "cell_type": "code",
   "execution_count": 11,
   "id": "8c27706a",
   "metadata": {},
   "outputs": [],
   "source": [
    "# Generate future date index\n",
    "last_date = df.index[-1]\n",
    "next_date = last_date + pd.DateOffset(days=1)\n",
    "index_next_30_days = pd.date_range(start=next_date, periods=30).tolist()"
   ]
  },
  {
   "cell_type": "markdown",
   "id": "f5f3c720",
   "metadata": {},
   "source": [
    "Visualization"
   ]
  },
  {
   "cell_type": "code",
   "execution_count": 12,
   "id": "1026a127",
   "metadata": {},
   "outputs": [
    {
     "data": {
      "image/png": "[encoded data removed]",
      "text/plain": [
       "<Figure size 1400x500 with 1 Axes>"
      ]
     },
     "metadata": {},
     "output_type": "display_data"
    }
   ],
   "source": [
    "plt.figure(figsize=(14, 5))\n",
    "\n",
    "plt.plot(df.index[:train_size], scaler.inverse_transform(y_train.reshape(-1, 1)))\n",
    "plt.plot(df.index[train_size:train_size + val_size], y_val_inv)\n",
    "plt.plot(df.index[train_size:train_size + val_size], y_pred_val_inv)\n",
    "plt.plot(df.index[train_size + val_size:], y_test_inv)\n",
    "plt.plot(df.index[train_size + val_size:], y_pred_test_inv)\n",
    "plt.plot(index_next_30_days, y_next_30_days_inv)\n",
    "\n",
    "plt.legend(['Train', 'Validate', 'PredictValidate', 'Test', 'PredictTest', 'Next30Days'])\n",
    "plt.grid()\n",
    "plt.title(f\"Samsung Closing Price Data from {df.index[0].strftime('%Y-%m-%d')} to {index_next_30_days[-1].strftime('%Y-%m-%d')}\")\n",
    "plt.xlabel(\"Date\")\n",
    "plt.ylabel(\"Close value\")\n",
    "plt.savefig('LR_622_Samsung.png')\n",
    "plt.show()\n"
   ]
  }
 ],
 "metadata": {
  "kernelspec": {
   "display_name": "Python 3",
   "language": "python",
   "name": "python3"
  },
  "language_info": {
   "codemirror_mode": {
    "name": "ipython",
    "version": 3
   },
   "file_extension": ".py",
   "mimetype": "text/x-python",
   "name": "python",
   "nbconvert_exporter": "python",
   "pygments_lexer": "ipython3",
   "version": "3.11.14"
  }
 },
 "nbformat": 4,
 "nbformat_minor": 5
}
