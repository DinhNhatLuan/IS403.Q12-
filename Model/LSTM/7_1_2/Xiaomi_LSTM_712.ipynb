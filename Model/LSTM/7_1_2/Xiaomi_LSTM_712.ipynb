{
 "cells": [
  {
   "cell_type": "code",
   "execution_count": 69,
   "id": "8748dffb-367f-499d-bb96-5e5a44bf99cc",
   "metadata": {},
   "outputs": [],
   "source": [
    "import numpy as np\n",
    "import pandas as pd\n",
    "import matplotlib.pyplot as plt\n",
    "\n",
    "from numpy import array\n",
    "from keras.models import Sequential\n",
    "from keras.layers import Dense, LSTM, Dropout\n",
    "from keras.callbacks import EarlyStopping, ModelCheckpoint\n",
    "from sklearn.preprocessing import MinMaxScaler\n",
    "from sklearn.metrics import mean_squared_error, mean_absolute_percentage_error, mean_squared_log_error\n"
   ]
  },
  {
   "cell_type": "code",
   "execution_count": 70,
   "id": "29854bd4-ce3d-4dc1-8af9-b39e2c56e629",
   "metadata": {},
   "outputs": [
    {
     "data": {
      "text/html": [
       "<div>\n",
       "<style scoped>\n",
       "    .dataframe tbody tr th:only-of-type {\n",
       "        vertical-align: middle;\n",
       "    }\n",
       "\n",
       "    .dataframe tbody tr th {\n",
       "        vertical-align: top;\n",
       "    }\n",
       "\n",
       "    .dataframe thead th {\n",
       "        text-align: right;\n",
       "    }\n",
       "</style>\n",
       "<table border=\"1\" class=\"dataframe\">\n",
       "  <thead>\n",
       "    <tr style=\"text-align: right;\">\n",
       "      <th></th>\n",
       "      <th>Date</th>\n",
       "      <th>Open</th>\n",
       "      <th>High</th>\n",
       "      <th>Low</th>\n",
       "      <th>Close</th>\n",
       "      <th>Adj Close</th>\n",
       "      <th>Volume</th>\n",
       "    </tr>\n",
       "  </thead>\n",
       "  <tbody>\n",
       "    <tr>\n",
       "      <th>0</th>\n",
       "      <td>2018-07-09</td>\n",
       "      <td>16.600000</td>\n",
       "      <td>17.000000</td>\n",
       "      <td>16.000000</td>\n",
       "      <td>16.799999</td>\n",
       "      <td>16.799999</td>\n",
       "      <td>462182642</td>\n",
       "    </tr>\n",
       "    <tr>\n",
       "      <th>1</th>\n",
       "      <td>2018-07-10</td>\n",
       "      <td>17.000000</td>\n",
       "      <td>19.340000</td>\n",
       "      <td>17.000000</td>\n",
       "      <td>19.000000</td>\n",
       "      <td>19.000000</td>\n",
       "      <td>534072218</td>\n",
       "    </tr>\n",
       "    <tr>\n",
       "      <th>2</th>\n",
       "      <td>2018-07-11</td>\n",
       "      <td>18.500000</td>\n",
       "      <td>19.799999</td>\n",
       "      <td>18.299999</td>\n",
       "      <td>19.000000</td>\n",
       "      <td>19.000000</td>\n",
       "      <td>374721138</td>\n",
       "    </tr>\n",
       "    <tr>\n",
       "      <th>3</th>\n",
       "      <td>2018-07-12</td>\n",
       "      <td>19.400000</td>\n",
       "      <td>19.700001</td>\n",
       "      <td>19.020000</td>\n",
       "      <td>19.260000</td>\n",
       "      <td>19.260000</td>\n",
       "      <td>132592630</td>\n",
       "    </tr>\n",
       "    <tr>\n",
       "      <th>4</th>\n",
       "      <td>2018-07-13</td>\n",
       "      <td>19.600000</td>\n",
       "      <td>21.799999</td>\n",
       "      <td>19.520000</td>\n",
       "      <td>21.450001</td>\n",
       "      <td>21.450001</td>\n",
       "      <td>364065075</td>\n",
       "    </tr>\n",
       "    <tr>\n",
       "      <th>...</th>\n",
       "      <td>...</td>\n",
       "      <td>...</td>\n",
       "      <td>...</td>\n",
       "      <td>...</td>\n",
       "      <td>...</td>\n",
       "      <td>...</td>\n",
       "      <td>...</td>\n",
       "    </tr>\n",
       "    <tr>\n",
       "      <th>1795</th>\n",
       "      <td>2025-10-22</td>\n",
       "      <td>46.000000</td>\n",
       "      <td>46.740002</td>\n",
       "      <td>45.700001</td>\n",
       "      <td>46.340000</td>\n",
       "      <td>46.340000</td>\n",
       "      <td>121391262</td>\n",
       "    </tr>\n",
       "    <tr>\n",
       "      <th>1796</th>\n",
       "      <td>2025-10-23</td>\n",
       "      <td>46.020000</td>\n",
       "      <td>47.080002</td>\n",
       "      <td>45.700001</td>\n",
       "      <td>46.740002</td>\n",
       "      <td>46.740002</td>\n",
       "      <td>106829656</td>\n",
       "    </tr>\n",
       "    <tr>\n",
       "      <th>1797</th>\n",
       "      <td>2025-10-24</td>\n",
       "      <td>47.099998</td>\n",
       "      <td>47.400002</td>\n",
       "      <td>45.740002</td>\n",
       "      <td>45.919998</td>\n",
       "      <td>45.919998</td>\n",
       "      <td>170946122</td>\n",
       "    </tr>\n",
       "    <tr>\n",
       "      <th>1798</th>\n",
       "      <td>2025-10-27</td>\n",
       "      <td>45.720001</td>\n",
       "      <td>46.000000</td>\n",
       "      <td>43.880001</td>\n",
       "      <td>45.799999</td>\n",
       "      <td>45.799999</td>\n",
       "      <td>282836746</td>\n",
       "    </tr>\n",
       "    <tr>\n",
       "      <th>1799</th>\n",
       "      <td>2025-10-28</td>\n",
       "      <td>45.400002</td>\n",
       "      <td>45.480000</td>\n",
       "      <td>44.299999</td>\n",
       "      <td>44.919998</td>\n",
       "      <td>44.919998</td>\n",
       "      <td>184222833</td>\n",
       "    </tr>\n",
       "  </tbody>\n",
       "</table>\n",
       "<p>1800 rows × 7 columns</p>\n",
       "</div>"
      ],
      "text/plain": [
       "            Date       Open       High        Low      Close  Adj Close  \\\n",
       "0     2018-07-09  16.600000  17.000000  16.000000  16.799999  16.799999   \n",
       "1     2018-07-10  17.000000  19.340000  17.000000  19.000000  19.000000   \n",
       "2     2018-07-11  18.500000  19.799999  18.299999  19.000000  19.000000   \n",
       "3     2018-07-12  19.400000  19.700001  19.020000  19.260000  19.260000   \n",
       "4     2018-07-13  19.600000  21.799999  19.520000  21.450001  21.450001   \n",
       "...          ...        ...        ...        ...        ...        ...   \n",
       "1795  2025-10-22  46.000000  46.740002  45.700001  46.340000  46.340000   \n",
       "1796  2025-10-23  46.020000  47.080002  45.700001  46.740002  46.740002   \n",
       "1797  2025-10-24  47.099998  47.400002  45.740002  45.919998  45.919998   \n",
       "1798  2025-10-27  45.720001  46.000000  43.880001  45.799999  45.799999   \n",
       "1799  2025-10-28  45.400002  45.480000  44.299999  44.919998  44.919998   \n",
       "\n",
       "         Volume  \n",
       "0     462182642  \n",
       "1     534072218  \n",
       "2     374721138  \n",
       "3     132592630  \n",
       "4     364065075  \n",
       "...         ...  \n",
       "1795  121391262  \n",
       "1796  106829656  \n",
       "1797  170946122  \n",
       "1798  282836746  \n",
       "1799  184222833  \n",
       "\n",
       "[1800 rows x 7 columns]"
      ]
     },
     "execution_count": 70,
     "metadata": {},
     "output_type": "execute_result"
    }
   ],
   "source": [
    "stock_xiaomi = pd.read_csv('Xiaomi_clean.csv')\n",
    "stock_xiaomi"
   ]
  },
  {
   "cell_type": "code",
   "execution_count": 71,
   "id": "94016693-7245-4242-a5bc-fc2b9c8d9b65",
   "metadata": {},
   "outputs": [],
   "source": [
    "stock_xiaomi['Date'] = pd.to_datetime(stock_xiaomi['Date'])\n",
    "stock_xiaomi = stock_xiaomi.set_index(pd.DatetimeIndex(stock_xiaomi['Date'].values))\n",
    "df_xiaomi = pd.DataFrame(stock_xiaomi, columns=['Close'])\n"
   ]
  },
  {
   "cell_type": "code",
   "execution_count": 72,
   "id": "a6bd73b3-612b-49ec-b7d0-ee139242b2a1",
   "metadata": {},
   "outputs": [],
   "source": [
    "scaler = MinMaxScaler(feature_range=(0,1))\n",
    "df_xiaomi_scaled = scaler.fit_transform(np.array(df_xiaomi).reshape(-1,1))"
   ]
  },
  {
   "cell_type": "code",
   "execution_count": 73,
   "id": "a1c945b9-4b64-45ef-bc1b-c3ccd50337e3",
   "metadata": {},
   "outputs": [],
   "source": [
    "train_size = int(len(df_xiaomi_scaled) * 0.7)\n",
    "val_size = int(len(df_xiaomi_scaled) * 0.1)\n",
    "test_size = len(df_xiaomi_scaled) - train_size - val_size\n",
    "\n",
    "train_data = df_xiaomi_scaled[:train_size]\n",
    "val_data = df_xiaomi_scaled[train_size:train_size+val_size]\n",
    "test_data = df_xiaomi_scaled[train_size+val_size:]"
   ]
  },
  {
   "cell_type": "code",
   "execution_count": 74,
   "id": "336353e8-510a-4a1e-95e0-9844febc49c6",
   "metadata": {},
   "outputs": [],
   "source": [
    "def create_dataset(dataset, time_step=1):\n",
    "    dataX, dataY = [], []\n",
    "    for i in range(len(dataset) - time_step):\n",
    "        a = dataset[i:(i + time_step), 0]\n",
    "        dataX.append(a)\n",
    "        dataY.append(dataset[i + time_step, 0])\n",
    "    return np.array(dataX), np.array(dataY)\n",
    "\n",
    "time_step = 100"
   ]
  },
  {
   "cell_type": "code",
   "execution_count": 75,
   "id": "87c38a1a-fb0c-4f02-8241-03db90a80e59",
   "metadata": {},
   "outputs": [],
   "source": [
    "train_last_window = train_data[-time_step:]\n",
    "val_data_extended = np.concatenate((train_last_window, val_data), axis=0)\n",
    "val_last_window = val_data[-time_step:]\n",
    "test_data_extended = np.concatenate((val_last_window, test_data), axis=0)\n",
    "\n",
    "X_train, y_train = create_dataset(train_data, time_step)\n",
    "X_val, y_val = create_dataset(val_data_extended, time_step)\n",
    "X_test, y_test = create_dataset(test_data_extended, time_step)"
   ]
  },
  {
   "cell_type": "code",
   "execution_count": 76,
   "id": "5ffef4ea-9286-4a0e-96d6-69fcf5d7809e",
   "metadata": {},
   "outputs": [],
   "source": [
    "X_train = X_train.reshape(X_train.shape[0], X_train.shape[1], 1)\n",
    "X_val = X_val.reshape(X_val.shape[0], X_val.shape[1], 1)\n",
    "X_test = X_test.reshape(X_test.shape[0], X_test.shape[1], 1)"
   ]
  },
  {
   "cell_type": "code",
   "execution_count": 77,
   "id": "e19492ab-ab97-4072-863b-17cde410ef92",
   "metadata": {},
   "outputs": [],
   "source": [
    "from keras.layers import Input\n",
    "\n",
    "model = Sequential()\n",
    "# Dùng Input ở layer đầu tiên\n",
    "model.add(Input(shape=(time_step, 1)))\n",
    "model.add(LSTM(64, return_sequences=True))\n",
    "model.add(LSTM(64, return_sequences=False))\n",
    "model.add(Dropout(0.2))\n",
    "model.add(Dense(1, activation='relu'))\n",
    "model.compile(loss='mean_squared_error', optimizer='adam')\n"
   ]
  },
  {
   "cell_type": "code",
   "execution_count": 78,
   "id": "4c62c035-2272-46d2-9199-98f0842de135",
   "metadata": {},
   "outputs": [
    {
     "name": "stdout",
     "output_type": "stream",
     "text": [
      "Epoch 1/50\n",
      "\u001b[1m37/37\u001b[0m \u001b[32m━━━━━━━━━━━━━━━━━━━━\u001b[0m\u001b[37m\u001b[0m \u001b[1m10s\u001b[0m 123ms/step - loss: 0.0041 - val_loss: 3.7457e-04\n",
      "Epoch 2/50\n",
      "\u001b[1m37/37\u001b[0m \u001b[32m━━━━━━━━━━━━━━━━━━━━\u001b[0m\u001b[37m\u001b[0m \u001b[1m5s\u001b[0m 106ms/step - loss: 7.2398e-04 - val_loss: 3.0111e-04\n",
      "Epoch 3/50\n",
      "\u001b[1m37/37\u001b[0m \u001b[32m━━━━━━━━━━━━━━━━━━━━\u001b[0m\u001b[37m\u001b[0m \u001b[1m5s\u001b[0m 104ms/step - loss: 6.6409e-04 - val_loss: 2.0750e-04\n",
      "Epoch 4/50\n",
      "\u001b[1m37/37\u001b[0m \u001b[32m━━━━━━━━━━━━━━━━━━━━\u001b[0m\u001b[37m\u001b[0m \u001b[1m4s\u001b[0m 106ms/step - loss: 6.0974e-04 - val_loss: 3.1677e-04\n",
      "Epoch 5/50\n",
      "\u001b[1m37/37\u001b[0m \u001b[32m━━━━━━━━━━━━━━━━━━━━\u001b[0m\u001b[37m\u001b[0m \u001b[1m5s\u001b[0m 108ms/step - loss: 6.0849e-04 - val_loss: 1.8238e-04\n",
      "Epoch 6/50\n",
      "\u001b[1m37/37\u001b[0m \u001b[32m━━━━━━━━━━━━━━━━━━━━\u001b[0m\u001b[37m\u001b[0m \u001b[1m4s\u001b[0m 106ms/step - loss: 5.7682e-04 - val_loss: 1.9911e-04\n",
      "Epoch 7/50\n",
      "\u001b[1m37/37\u001b[0m \u001b[32m━━━━━━━━━━━━━━━━━━━━\u001b[0m\u001b[37m\u001b[0m \u001b[1m4s\u001b[0m 107ms/step - loss: 5.8527e-04 - val_loss: 2.8315e-04\n",
      "Epoch 8/50\n",
      "\u001b[1m37/37\u001b[0m \u001b[32m━━━━━━━━━━━━━━━━━━━━\u001b[0m\u001b[37m\u001b[0m \u001b[1m4s\u001b[0m 106ms/step - loss: 6.6240e-04 - val_loss: 2.2621e-04\n",
      "Epoch 9/50\n",
      "\u001b[1m37/37\u001b[0m \u001b[32m━━━━━━━━━━━━━━━━━━━━\u001b[0m\u001b[37m\u001b[0m \u001b[1m5s\u001b[0m 103ms/step - loss: 4.9622e-04 - val_loss: 1.5279e-04\n",
      "Epoch 10/50\n",
      "\u001b[1m37/37\u001b[0m \u001b[32m━━━━━━━━━━━━━━━━━━━━\u001b[0m\u001b[37m\u001b[0m \u001b[1m4s\u001b[0m 108ms/step - loss: 4.7900e-04 - val_loss: 1.4636e-04\n",
      "Epoch 11/50\n",
      "\u001b[1m37/37\u001b[0m \u001b[32m━━━━━━━━━━━━━━━━━━━━\u001b[0m\u001b[37m\u001b[0m \u001b[1m5s\u001b[0m 106ms/step - loss: 4.7668e-04 - val_loss: 2.1075e-04\n",
      "Epoch 12/50\n",
      "\u001b[1m37/37\u001b[0m \u001b[32m━━━━━━━━━━━━━━━━━━━━\u001b[0m\u001b[37m\u001b[0m \u001b[1m4s\u001b[0m 107ms/step - loss: 4.9998e-04 - val_loss: 1.3827e-04\n",
      "Epoch 13/50\n",
      "\u001b[1m37/37\u001b[0m \u001b[32m━━━━━━━━━━━━━━━━━━━━\u001b[0m\u001b[37m\u001b[0m \u001b[1m4s\u001b[0m 109ms/step - loss: 4.4961e-04 - val_loss: 1.4469e-04\n",
      "Epoch 14/50\n",
      "\u001b[1m37/37\u001b[0m \u001b[32m━━━━━━━━━━━━━━━━━━━━\u001b[0m\u001b[37m\u001b[0m \u001b[1m5s\u001b[0m 110ms/step - loss: 4.6539e-04 - val_loss: 1.4954e-04\n",
      "Epoch 15/50\n",
      "\u001b[1m37/37\u001b[0m \u001b[32m━━━━━━━━━━━━━━━━━━━━\u001b[0m\u001b[37m\u001b[0m \u001b[1m5s\u001b[0m 108ms/step - loss: 4.8866e-04 - val_loss: 1.2801e-04\n",
      "Epoch 16/50\n",
      "\u001b[1m37/37\u001b[0m \u001b[32m━━━━━━━━━━━━━━━━━━━━\u001b[0m\u001b[37m\u001b[0m \u001b[1m4s\u001b[0m 110ms/step - loss: 4.4845e-04 - val_loss: 1.6156e-04\n",
      "Epoch 17/50\n",
      "\u001b[1m37/37\u001b[0m \u001b[32m━━━━━━━━━━━━━━━━━━━━\u001b[0m\u001b[37m\u001b[0m \u001b[1m4s\u001b[0m 102ms/step - loss: 4.2625e-04 - val_loss: 1.3078e-04\n",
      "Epoch 18/50\n",
      "\u001b[1m37/37\u001b[0m \u001b[32m━━━━━━━━━━━━━━━━━━━━\u001b[0m\u001b[37m\u001b[0m \u001b[1m4s\u001b[0m 98ms/step - loss: 3.7450e-04 - val_loss: 1.4095e-04\n",
      "Epoch 19/50\n",
      "\u001b[1m37/37\u001b[0m \u001b[32m━━━━━━━━━━━━━━━━━━━━\u001b[0m\u001b[37m\u001b[0m \u001b[1m4s\u001b[0m 98ms/step - loss: 3.8044e-04 - val_loss: 1.1629e-04\n",
      "Epoch 20/50\n",
      "\u001b[1m37/37\u001b[0m \u001b[32m━━━━━━━━━━━━━━━━━━━━\u001b[0m\u001b[37m\u001b[0m \u001b[1m5s\u001b[0m 97ms/step - loss: 3.8851e-04 - val_loss: 1.5555e-04\n",
      "Epoch 21/50\n",
      "\u001b[1m37/37\u001b[0m \u001b[32m━━━━━━━━━━━━━━━━━━━━\u001b[0m\u001b[37m\u001b[0m \u001b[1m4s\u001b[0m 96ms/step - loss: 4.0546e-04 - val_loss: 1.2137e-04\n",
      "Epoch 22/50\n",
      "\u001b[1m37/37\u001b[0m \u001b[32m━━━━━━━━━━━━━━━━━━━━\u001b[0m\u001b[37m\u001b[0m \u001b[1m5s\u001b[0m 95ms/step - loss: 3.5347e-04 - val_loss: 1.0462e-04\n",
      "Epoch 23/50\n",
      "\u001b[1m37/37\u001b[0m \u001b[32m━━━━━━━━━━━━━━━━━━━━\u001b[0m\u001b[37m\u001b[0m \u001b[1m4s\u001b[0m 98ms/step - loss: 4.1124e-04 - val_loss: 1.6832e-04\n",
      "Epoch 24/50\n",
      "\u001b[1m37/37\u001b[0m \u001b[32m━━━━━━━━━━━━━━━━━━━━\u001b[0m\u001b[37m\u001b[0m \u001b[1m4s\u001b[0m 97ms/step - loss: 3.6662e-04 - val_loss: 1.1265e-04\n",
      "Epoch 25/50\n",
      "\u001b[1m37/37\u001b[0m \u001b[32m━━━━━━━━━━━━━━━━━━━━\u001b[0m\u001b[37m\u001b[0m \u001b[1m5s\u001b[0m 104ms/step - loss: 3.3229e-04 - val_loss: 1.1931e-04\n",
      "Epoch 26/50\n",
      "\u001b[1m37/37\u001b[0m \u001b[32m━━━━━━━━━━━━━━━━━━━━\u001b[0m\u001b[37m\u001b[0m \u001b[1m4s\u001b[0m 99ms/step - loss: 4.4884e-04 - val_loss: 1.3859e-04\n",
      "Epoch 27/50\n",
      "\u001b[1m37/37\u001b[0m \u001b[32m━━━━━━━━━━━━━━━━━━━━\u001b[0m\u001b[37m\u001b[0m \u001b[1m4s\u001b[0m 102ms/step - loss: 3.2381e-04 - val_loss: 9.4793e-05\n",
      "Epoch 28/50\n",
      "\u001b[1m37/37\u001b[0m \u001b[32m━━━━━━━━━━━━━━━━━━━━\u001b[0m\u001b[37m\u001b[0m \u001b[1m5s\u001b[0m 107ms/step - loss: 3.3527e-04 - val_loss: 9.0687e-05\n",
      "Epoch 29/50\n",
      "\u001b[1m37/37\u001b[0m \u001b[32m━━━━━━━━━━━━━━━━━━━━\u001b[0m\u001b[37m\u001b[0m \u001b[1m3s\u001b[0m 89ms/step - loss: 3.3854e-04 - val_loss: 9.5140e-05\n",
      "Epoch 30/50\n",
      "\u001b[1m37/37\u001b[0m \u001b[32m━━━━━━━━━━━━━━━━━━━━\u001b[0m\u001b[37m\u001b[0m \u001b[1m4s\u001b[0m 100ms/step - loss: 3.2942e-04 - val_loss: 1.4236e-04\n",
      "Epoch 31/50\n",
      "\u001b[1m37/37\u001b[0m \u001b[32m━━━━━━━━━━━━━━━━━━━━\u001b[0m\u001b[37m\u001b[0m \u001b[1m4s\u001b[0m 98ms/step - loss: 3.2369e-04 - val_loss: 1.0577e-04\n",
      "Epoch 32/50\n",
      "\u001b[1m37/37\u001b[0m \u001b[32m━━━━━━━━━━━━━━━━━━━━\u001b[0m\u001b[37m\u001b[0m \u001b[1m4s\u001b[0m 97ms/step - loss: 2.8667e-04 - val_loss: 1.6604e-04\n",
      "Epoch 33/50\n",
      "\u001b[1m37/37\u001b[0m \u001b[32m━━━━━━━━━━━━━━━━━━━━\u001b[0m\u001b[37m\u001b[0m \u001b[1m5s\u001b[0m 96ms/step - loss: 2.9176e-04 - val_loss: 1.0776e-04\n"
     ]
    }
   ],
   "source": [
    "history = model.fit(\n",
    "    X_train, y_train,\n",
    "    validation_data=(X_val, y_val),\n",
    "    epochs=50,        # Số epoch bạn muốn train\n",
    "    batch_size=32,    # batch size\n",
    "    verbose=1,\n",
    "    callbacks=[EarlyStopping(monitor='val_loss', patience=5, restore_best_weights=True)]\n",
    ")"
   ]
  },
  {
   "cell_type": "code",
   "execution_count": 79,
   "id": "740ae010-615b-4c9c-8b31-b75ba7944c03",
   "metadata": {},
   "outputs": [
    {
     "name": "stdout",
     "output_type": "stream",
     "text": [
      "\u001b[1m12/12\u001b[0m \u001b[32m━━━━━━━━━━━━━━━━━━━━\u001b[0m\u001b[37m\u001b[0m \u001b[1m1s\u001b[0m 80ms/step\n",
      "\u001b[1m6/6\u001b[0m \u001b[32m━━━━━━━━━━━━━━━━━━━━\u001b[0m\u001b[37m\u001b[0m \u001b[1m0s\u001b[0m 55ms/step\n"
     ]
    }
   ],
   "source": [
    "y_pred_test = model.predict(X_test)\n",
    "y_pred_val = model.predict(X_val)"
   ]
  },
  {
   "cell_type": "code",
   "execution_count": 80,
   "id": "cd9a8f3d-fcd8-4f36-b280-53ace9e48a3a",
   "metadata": {},
   "outputs": [
    {
     "name": "stdout",
     "output_type": "stream",
     "text": [
      "Validation MAPE: 0.06802958694806027\n",
      "Validation RMSE: 0.009522995898135007\n",
      "Validation MSLE: 7.230870109196984e-05\n"
     ]
    }
   ],
   "source": [
    "val_mape = mean_absolute_percentage_error(y_pred_val, y_val)\n",
    "val_mse = mean_squared_error(y_pred_val, y_val)\n",
    "val_rmse = np.sqrt(val_mse)\n",
    "val_msle = mean_squared_log_error(y_pred_val, y_val)\n",
    "print(f\"Validation MAPE: {val_mape}\")\n",
    "print(f\"Validation RMSE: {val_rmse}\")\n",
    "print(f\"Validation MSLE: {val_msle}\")"
   ]
  },
  {
   "cell_type": "code",
   "execution_count": 81,
   "id": "01760189-ed2f-474e-a5cb-15b016b98368",
   "metadata": {},
   "outputs": [
    {
     "name": "stdout",
     "output_type": "stream",
     "text": [
      "Test MAPE: 0.04072226889999549\n",
      "Test RMSE: 0.02990657830522683\n",
      "Test MSLE: 0.00030757355960905745\n"
     ]
    }
   ],
   "source": [
    "test_mape = mean_absolute_percentage_error(y_pred_test, y_test)\n",
    "test_mse = mean_squared_error(y_pred_test, y_test)\n",
    "test_rmse = np.sqrt(test_mse)\n",
    "test_msle = mean_squared_log_error(y_pred_test, y_test)\n",
    "print(f\"Test MAPE: {test_mape}\")\n",
    "print(f\"Test RMSE: {test_rmse}\")\n",
    "print(f\"Test MSLE: {test_msle}\")"
   ]
  },
  {
   "cell_type": "code",
   "execution_count": 82,
   "id": "7eb572f9-d282-4988-9922-2cbeb025debd",
   "metadata": {},
   "outputs": [],
   "source": [
    "x_input = test_data[5:].reshape(1,-1)\n",
    "temp_input = list(x_input[0])\n",
    "prediction_next30_days = []\n",
    "\n",
    "for i in range(30):\n",
    "    if len(temp_input) > time_step:\n",
    "        x_input = np.array(temp_input[-time_step:])\n",
    "        x_input = x_input.reshape((1, time_step, 1))\n",
    "        y_hat = model.predict(x_input, verbose=0)\n",
    "        temp_input.extend(y_hat[0].tolist())\n",
    "        prediction_next30_days.extend(y_hat.tolist())\n",
    "    else:\n",
    "        x_input = np.array(temp_input).reshape((1, time_step, 1))\n",
    "        y_hat = model.predict(x_input, verbose=0)\n",
    "        temp_input.extend(y_hat[0].tolist())\n",
    "        prediction_next30_days.extend(y_hat.tolist())"
   ]
  },
  {
   "cell_type": "code",
   "execution_count": 83,
   "id": "bd7a2b81-07d2-409b-b54e-ef6a9a5227da",
   "metadata": {},
   "outputs": [],
   "source": [
    "last_date = stock_xiaomi.index.max()\n",
    "future_dates = pd.date_range(start=last_date + pd.DateOffset(days=1), periods=30, freq='D')"
   ]
  },
  {
   "cell_type": "code",
   "execution_count": 84,
   "id": "e74b3b4d-20fd-4398-88f3-e5b1dea962f7",
   "metadata": {},
   "outputs": [],
   "source": [
    "prediction_next30_days = scaler.inverse_transform(prediction_next30_days).reshape(-1)\n",
    "y_pred_test = scaler.inverse_transform(y_pred_test)\n",
    "y_pred_val = scaler.inverse_transform(y_pred_val)\n",
    "train_data_inv = scaler.inverse_transform(train_data) \n",
    "val_data_inv = scaler.inverse_transform(val_data)\n",
    "test_data_inv = scaler.inverse_transform(test_data)"
   ]
  },
  {
   "cell_type": "code",
   "execution_count": 85,
   "id": "f02bcca9-5ba0-4eaa-86fb-9d1a3b8d399c",
   "metadata": {},
   "outputs": [
    {
     "data": {
      "image/png": "[encoded data removed]",
      "text/plain": [
       "<Figure size 1600x500 with 1 Axes>"
      ]
     },
     "metadata": {},
     "output_type": "display_data"
    }
   ],
   "source": [
    "plt.figure(figsize=(16,5))\n",
    "plt.plot(stock_xiaomi.index[:train_size], train_data_inv)\n",
    "plt.plot(stock_xiaomi.index[train_size:train_size+val_size], val_data_inv)\n",
    "plt.plot(stock_xiaomi.index[train_size:train_size+val_size], y_pred_val)\n",
    "plt.plot(stock_xiaomi.index[train_size+val_size:], test_data_inv)\n",
    "plt.plot(stock_xiaomi.index[train_size+val_size:], y_pred_test)\n",
    "plt.plot(future_dates, prediction_next30_days)\n",
    "plt.xlabel('Date')\n",
    "plt.ylabel('Close Value')\n",
    "plt.title('Samsung Closing Price Prediction')\n",
    "plt.legend(['Train','Validation','PredictValidation','Test','PredictTest','Next30Days'])\n",
    "plt.grid()\n",
    "plt.show()"
   ]
  },
  {
   "cell_type": "code",
   "execution_count": null,
   "id": "7589ee17-8f72-4928-a7f4-055341dc5983",
   "metadata": {},
   "outputs": [],
   "source": []
  }
 ],
 "metadata": {
  "kernelspec": {
   "display_name": "Python 3 (ipykernel)",
   "language": "python",
   "name": "python3"
  },
  "language_info": {
   "codemirror_mode": {
    "name": "ipython",
    "version": 3
   },
   "file_extension": ".py",
   "mimetype": "text/x-python",
   "name": "python",
   "nbconvert_exporter": "python",
   "pygments_lexer": "ipython3",
   "version": "3.13.7"
  }
 },
 "nbformat": 4,
 "nbformat_minor": 5
}
