{
 "cells": [
  {
   "cell_type": "code",
   "execution_count": 52,
   "id": "edcdcdeb-d6f7-405f-94d0-07030f728baa",
   "metadata": {},
   "outputs": [],
   "source": [
    "import numpy as np\n",
    "import pandas as pd\n",
    "import matplotlib.pyplot as plt\n",
    "\n",
    "from numpy import array\n",
    "from keras.models import Sequential\n",
    "from keras.layers import Dense, LSTM, Dropout\n",
    "from keras.callbacks import EarlyStopping, ModelCheckpoint\n",
    "from sklearn.preprocessing import MinMaxScaler\n",
    "from sklearn.metrics import mean_squared_error, mean_absolute_percentage_error, mean_squared_log_error\n"
   ]
  },
  {
   "cell_type": "code",
   "execution_count": 53,
   "id": "11157c6d-579c-4700-a772-e3758be5addd",
   "metadata": {},
   "outputs": [
    {
     "data": {
      "text/html": [
       "<div>\n",
       "<style scoped>\n",
       "    .dataframe tbody tr th:only-of-type {\n",
       "        vertical-align: middle;\n",
       "    }\n",
       "\n",
       "    .dataframe tbody tr th {\n",
       "        vertical-align: top;\n",
       "    }\n",
       "\n",
       "    .dataframe thead th {\n",
       "        text-align: right;\n",
       "    }\n",
       "</style>\n",
       "<table border=\"1\" class=\"dataframe\">\n",
       "  <thead>\n",
       "    <tr style=\"text-align: right;\">\n",
       "      <th></th>\n",
       "      <th>Date</th>\n",
       "      <th>Open</th>\n",
       "      <th>High</th>\n",
       "      <th>Low</th>\n",
       "      <th>Close</th>\n",
       "      <th>Adj Close</th>\n",
       "      <th>Volume</th>\n",
       "    </tr>\n",
       "  </thead>\n",
       "  <tbody>\n",
       "    <tr>\n",
       "      <th>0</th>\n",
       "      <td>2009-12-31</td>\n",
       "      <td>7.611786</td>\n",
       "      <td>7.619643</td>\n",
       "      <td>7.520000</td>\n",
       "      <td>7.526071</td>\n",
       "      <td>6.326138</td>\n",
       "      <td>352410800</td>\n",
       "    </tr>\n",
       "    <tr>\n",
       "      <th>1</th>\n",
       "      <td>2010-01-04</td>\n",
       "      <td>7.622500</td>\n",
       "      <td>7.660714</td>\n",
       "      <td>7.585000</td>\n",
       "      <td>7.643214</td>\n",
       "      <td>6.424604</td>\n",
       "      <td>493729600</td>\n",
       "    </tr>\n",
       "    <tr>\n",
       "      <th>2</th>\n",
       "      <td>2010-01-05</td>\n",
       "      <td>7.664286</td>\n",
       "      <td>7.699643</td>\n",
       "      <td>7.616071</td>\n",
       "      <td>7.656429</td>\n",
       "      <td>6.435713</td>\n",
       "      <td>601904800</td>\n",
       "    </tr>\n",
       "    <tr>\n",
       "      <th>3</th>\n",
       "      <td>2010-01-06</td>\n",
       "      <td>7.656429</td>\n",
       "      <td>7.686786</td>\n",
       "      <td>7.526786</td>\n",
       "      <td>7.534643</td>\n",
       "      <td>6.333343</td>\n",
       "      <td>552160000</td>\n",
       "    </tr>\n",
       "    <tr>\n",
       "      <th>4</th>\n",
       "      <td>2010-01-07</td>\n",
       "      <td>7.562500</td>\n",
       "      <td>7.571429</td>\n",
       "      <td>7.466071</td>\n",
       "      <td>7.520714</td>\n",
       "      <td>6.321635</td>\n",
       "      <td>477131200</td>\n",
       "    </tr>\n",
       "    <tr>\n",
       "      <th>...</th>\n",
       "      <td>...</td>\n",
       "      <td>...</td>\n",
       "      <td>...</td>\n",
       "      <td>...</td>\n",
       "      <td>...</td>\n",
       "      <td>...</td>\n",
       "      <td>...</td>\n",
       "    </tr>\n",
       "    <tr>\n",
       "      <th>3977</th>\n",
       "      <td>2025-10-23</td>\n",
       "      <td>259.940002</td>\n",
       "      <td>260.619995</td>\n",
       "      <td>258.010010</td>\n",
       "      <td>259.579987</td>\n",
       "      <td>259.579987</td>\n",
       "      <td>32754900</td>\n",
       "    </tr>\n",
       "    <tr>\n",
       "      <th>3978</th>\n",
       "      <td>2025-10-24</td>\n",
       "      <td>261.190002</td>\n",
       "      <td>264.130005</td>\n",
       "      <td>259.179993</td>\n",
       "      <td>262.820007</td>\n",
       "      <td>262.820007</td>\n",
       "      <td>38253700</td>\n",
       "    </tr>\n",
       "    <tr>\n",
       "      <th>3979</th>\n",
       "      <td>2025-10-27</td>\n",
       "      <td>264.880005</td>\n",
       "      <td>269.119995</td>\n",
       "      <td>264.649994</td>\n",
       "      <td>268.809998</td>\n",
       "      <td>268.809998</td>\n",
       "      <td>44888200</td>\n",
       "    </tr>\n",
       "    <tr>\n",
       "      <th>3980</th>\n",
       "      <td>2025-10-28</td>\n",
       "      <td>268.989990</td>\n",
       "      <td>269.890015</td>\n",
       "      <td>268.149994</td>\n",
       "      <td>269.000000</td>\n",
       "      <td>269.000000</td>\n",
       "      <td>41461500</td>\n",
       "    </tr>\n",
       "    <tr>\n",
       "      <th>3981</th>\n",
       "      <td>2025-10-29</td>\n",
       "      <td>269.274994</td>\n",
       "      <td>271.410004</td>\n",
       "      <td>267.109985</td>\n",
       "      <td>267.994995</td>\n",
       "      <td>267.994995</td>\n",
       "      <td>18090425</td>\n",
       "    </tr>\n",
       "  </tbody>\n",
       "</table>\n",
       "<p>3982 rows × 7 columns</p>\n",
       "</div>"
      ],
      "text/plain": [
       "            Date        Open        High         Low       Close   Adj Close  \\\n",
       "0     2009-12-31    7.611786    7.619643    7.520000    7.526071    6.326138   \n",
       "1     2010-01-04    7.622500    7.660714    7.585000    7.643214    6.424604   \n",
       "2     2010-01-05    7.664286    7.699643    7.616071    7.656429    6.435713   \n",
       "3     2010-01-06    7.656429    7.686786    7.526786    7.534643    6.333343   \n",
       "4     2010-01-07    7.562500    7.571429    7.466071    7.520714    6.321635   \n",
       "...          ...         ...         ...         ...         ...         ...   \n",
       "3977  2025-10-23  259.940002  260.619995  258.010010  259.579987  259.579987   \n",
       "3978  2025-10-24  261.190002  264.130005  259.179993  262.820007  262.820007   \n",
       "3979  2025-10-27  264.880005  269.119995  264.649994  268.809998  268.809998   \n",
       "3980  2025-10-28  268.989990  269.890015  268.149994  269.000000  269.000000   \n",
       "3981  2025-10-29  269.274994  271.410004  267.109985  267.994995  267.994995   \n",
       "\n",
       "         Volume  \n",
       "0     352410800  \n",
       "1     493729600  \n",
       "2     601904800  \n",
       "3     552160000  \n",
       "4     477131200  \n",
       "...         ...  \n",
       "3977   32754900  \n",
       "3978   38253700  \n",
       "3979   44888200  \n",
       "3980   41461500  \n",
       "3981   18090425  \n",
       "\n",
       "[3982 rows x 7 columns]"
      ]
     },
     "execution_count": 53,
     "metadata": {},
     "output_type": "execute_result"
    }
   ],
   "source": [
    "stock_apple = pd.read_csv('Apple_clean.csv')\n",
    "stock_apple"
   ]
  },
  {
   "cell_type": "code",
   "execution_count": 54,
   "id": "0b608a07-0e71-4b9f-ba2c-c0048ff2728e",
   "metadata": {},
   "outputs": [],
   "source": [
    "stock_apple['Date'] = pd.to_datetime(stock_apple['Date'])\n",
    "stock_apple = stock_apple.set_index(pd.DatetimeIndex(stock_apple['Date'].values))\n",
    "df_apple = pd.DataFrame(stock_apple, columns=['Close'])\n"
   ]
  },
  {
   "cell_type": "code",
   "execution_count": 55,
   "id": "019e49fe-8797-4f22-a056-af29d0cf53e9",
   "metadata": {},
   "outputs": [],
   "source": [
    "scaler = MinMaxScaler(feature_range=(0,1))\n",
    "df_apple_scaled = scaler.fit_transform(np.array(df_apple).reshape(-1,1))"
   ]
  },
  {
   "cell_type": "code",
   "execution_count": 56,
   "id": "a39e5424-cb31-44c0-abf6-c672a72f006a",
   "metadata": {},
   "outputs": [],
   "source": [
    "train_size = int(len(df_apple_scaled) * 0.7)\n",
    "val_size = int(len(df_apple_scaled) * 0.1)\n",
    "test_size = len(df_apple_scaled) - train_size - val_size\n",
    "\n",
    "train_data = df_apple_scaled[:train_size]\n",
    "val_data = df_apple_scaled[train_size:train_size+val_size]\n",
    "test_data = df_apple_scaled[train_size+val_size:]"
   ]
  },
  {
   "cell_type": "code",
   "execution_count": 57,
   "id": "7a7633ef-a355-4f9f-9ccb-f04b2519dd30",
   "metadata": {},
   "outputs": [],
   "source": [
    "def create_dataset(dataset, time_step=1):\n",
    "    dataX, dataY = [], []\n",
    "    for i in range(len(dataset) - time_step):\n",
    "        a = dataset[i:(i + time_step), 0]\n",
    "        dataX.append(a)\n",
    "        dataY.append(dataset[i + time_step, 0])\n",
    "    return np.array(dataX), np.array(dataY)\n",
    "\n",
    "time_step = 100"
   ]
  },
  {
   "cell_type": "code",
   "execution_count": 58,
   "id": "c4077db4-dbf9-49e7-8713-00d34bf5dca1",
   "metadata": {},
   "outputs": [],
   "source": [
    "train_last_window = train_data[-time_step:]\n",
    "val_data_extended = np.concatenate((train_last_window, val_data), axis=0)\n",
    "val_last_window = val_data[-time_step:]\n",
    "test_data_extended = np.concatenate((val_last_window, test_data), axis=0)\n",
    "\n",
    "X_train, y_train = create_dataset(train_data, time_step)\n",
    "X_val, y_val = create_dataset(val_data_extended, time_step)\n",
    "X_test, y_test = create_dataset(test_data_extended, time_step)"
   ]
  },
  {
   "cell_type": "code",
   "execution_count": 59,
   "id": "e9140734-b074-408c-b4e8-8b734c49b560",
   "metadata": {},
   "outputs": [],
   "source": [
    "X_train = X_train.reshape(X_train.shape[0], X_train.shape[1], 1)\n",
    "X_val = X_val.reshape(X_val.shape[0], X_val.shape[1], 1)\n",
    "X_test = X_test.reshape(X_test.shape[0], X_test.shape[1], 1)"
   ]
  },
  {
   "cell_type": "code",
   "execution_count": 60,
   "id": "f4ae3e42-c3bb-49de-a3ed-90dc0d0e1273",
   "metadata": {},
   "outputs": [],
   "source": [
    "from keras.layers import Input\n",
    "\n",
    "model = Sequential()\n",
    "# Dùng Input ở layer đầu tiên\n",
    "model.add(Input(shape=(time_step, 1)))\n",
    "model.add(LSTM(64, return_sequences=True))\n",
    "model.add(LSTM(64, return_sequences=False))\n",
    "model.add(Dropout(0.2))\n",
    "model.add(Dense(1, activation='relu'))\n",
    "model.compile(loss='mean_squared_error', optimizer='adam')"
   ]
  },
  {
   "cell_type": "code",
   "execution_count": 61,
   "id": "77480c7e-df99-43fa-98cd-4b071c99f987",
   "metadata": {},
   "outputs": [
    {
     "name": "stdout",
     "output_type": "stream",
     "text": [
      "Epoch 1/50\n",
      "\u001b[1m84/84\u001b[0m \u001b[32m━━━━━━━━━━━━━━━━━━━━\u001b[0m\u001b[37m\u001b[0m \u001b[1m14s\u001b[0m 99ms/step - loss: 0.0011 - val_loss: 6.0692e-04\n",
      "Epoch 2/50\n",
      "\u001b[1m84/84\u001b[0m \u001b[32m━━━━━━━━━━━━━━━━━━━━\u001b[0m\u001b[37m\u001b[0m \u001b[1m7s\u001b[0m 88ms/step - loss: 2.0964e-04 - val_loss: 7.3895e-04\n",
      "Epoch 3/50\n",
      "\u001b[1m84/84\u001b[0m \u001b[32m━━━━━━━━━━━━━━━━━━━━\u001b[0m\u001b[37m\u001b[0m \u001b[1m8s\u001b[0m 89ms/step - loss: 1.9323e-04 - val_loss: 0.0018\n",
      "Epoch 4/50\n",
      "\u001b[1m84/84\u001b[0m \u001b[32m━━━━━━━━━━━━━━━━━━━━\u001b[0m\u001b[37m\u001b[0m \u001b[1m8s\u001b[0m 92ms/step - loss: 1.7304e-04 - val_loss: 4.8919e-04\n",
      "Epoch 5/50\n",
      "\u001b[1m84/84\u001b[0m \u001b[32m━━━━━━━━━━━━━━━━━━━━\u001b[0m\u001b[37m\u001b[0m \u001b[1m10s\u001b[0m 89ms/step - loss: 1.4894e-04 - val_loss: 4.2394e-04\n",
      "Epoch 6/50\n",
      "\u001b[1m84/84\u001b[0m \u001b[32m━━━━━━━━━━━━━━━━━━━━\u001b[0m\u001b[37m\u001b[0m \u001b[1m7s\u001b[0m 86ms/step - loss: 1.6129e-04 - val_loss: 4.5056e-04\n",
      "Epoch 7/50\n",
      "\u001b[1m84/84\u001b[0m \u001b[32m━━━━━━━━━━━━━━━━━━━━\u001b[0m\u001b[37m\u001b[0m \u001b[1m7s\u001b[0m 87ms/step - loss: 1.2972e-04 - val_loss: 7.4253e-04\n",
      "Epoch 8/50\n",
      "\u001b[1m84/84\u001b[0m \u001b[32m━━━━━━━━━━━━━━━━━━━━\u001b[0m\u001b[37m\u001b[0m \u001b[1m7s\u001b[0m 86ms/step - loss: 1.3850e-04 - val_loss: 3.6659e-04\n",
      "Epoch 9/50\n",
      "\u001b[1m84/84\u001b[0m \u001b[32m━━━━━━━━━━━━━━━━━━━━\u001b[0m\u001b[37m\u001b[0m \u001b[1m8s\u001b[0m 91ms/step - loss: 1.3202e-04 - val_loss: 3.7885e-04\n",
      "Epoch 10/50\n",
      "\u001b[1m84/84\u001b[0m \u001b[32m━━━━━━━━━━━━━━━━━━━━\u001b[0m\u001b[37m\u001b[0m \u001b[1m7s\u001b[0m 88ms/step - loss: 1.3058e-04 - val_loss: 5.1182e-04\n",
      "Epoch 11/50\n",
      "\u001b[1m84/84\u001b[0m \u001b[32m━━━━━━━━━━━━━━━━━━━━\u001b[0m\u001b[37m\u001b[0m \u001b[1m7s\u001b[0m 87ms/step - loss: 1.5785e-04 - val_loss: 0.0032\n",
      "Epoch 12/50\n",
      "\u001b[1m84/84\u001b[0m \u001b[32m━━━━━━━━━━━━━━━━━━━━\u001b[0m\u001b[37m\u001b[0m \u001b[1m8s\u001b[0m 90ms/step - loss: 1.3827e-04 - val_loss: 3.5817e-04\n",
      "Epoch 13/50\n",
      "\u001b[1m84/84\u001b[0m \u001b[32m━━━━━━━━━━━━━━━━━━━━\u001b[0m\u001b[37m\u001b[0m \u001b[1m7s\u001b[0m 88ms/step - loss: 1.0904e-04 - val_loss: 5.2257e-04\n",
      "Epoch 14/50\n",
      "\u001b[1m84/84\u001b[0m \u001b[32m━━━━━━━━━━━━━━━━━━━━\u001b[0m\u001b[37m\u001b[0m \u001b[1m8s\u001b[0m 92ms/step - loss: 8.9148e-05 - val_loss: 3.0350e-04\n",
      "Epoch 15/50\n",
      "\u001b[1m84/84\u001b[0m \u001b[32m━━━━━━━━━━━━━━━━━━━━\u001b[0m\u001b[37m\u001b[0m \u001b[1m8s\u001b[0m 91ms/step - loss: 1.2110e-04 - val_loss: 3.3705e-04\n",
      "Epoch 16/50\n",
      "\u001b[1m84/84\u001b[0m \u001b[32m━━━━━━━━━━━━━━━━━━━━\u001b[0m\u001b[37m\u001b[0m \u001b[1m8s\u001b[0m 92ms/step - loss: 9.7710e-05 - val_loss: 4.4079e-04\n",
      "Epoch 17/50\n",
      "\u001b[1m84/84\u001b[0m \u001b[32m━━━━━━━━━━━━━━━━━━━━\u001b[0m\u001b[37m\u001b[0m \u001b[1m10s\u001b[0m 88ms/step - loss: 1.0624e-04 - val_loss: 4.1540e-04\n",
      "Epoch 18/50\n",
      "\u001b[1m84/84\u001b[0m \u001b[32m━━━━━━━━━━━━━━━━━━━━\u001b[0m\u001b[37m\u001b[0m \u001b[1m7s\u001b[0m 89ms/step - loss: 1.0490e-04 - val_loss: 9.5481e-04\n",
      "Epoch 19/50\n",
      "\u001b[1m84/84\u001b[0m \u001b[32m━━━━━━━━━━━━━━━━━━━━\u001b[0m\u001b[37m\u001b[0m \u001b[1m10s\u001b[0m 85ms/step - loss: 9.7891e-05 - val_loss: 2.6055e-04\n",
      "Epoch 20/50\n",
      "\u001b[1m84/84\u001b[0m \u001b[32m━━━━━━━━━━━━━━━━━━━━\u001b[0m\u001b[37m\u001b[0m \u001b[1m7s\u001b[0m 86ms/step - loss: 9.6992e-05 - val_loss: 3.2618e-04\n",
      "Epoch 21/50\n",
      "\u001b[1m84/84\u001b[0m \u001b[32m━━━━━━━━━━━━━━━━━━━━\u001b[0m\u001b[37m\u001b[0m \u001b[1m10s\u001b[0m 83ms/step - loss: 9.3327e-05 - val_loss: 4.4558e-04\n",
      "Epoch 22/50\n",
      "\u001b[1m84/84\u001b[0m \u001b[32m━━━━━━━━━━━━━━━━━━━━\u001b[0m\u001b[37m\u001b[0m \u001b[1m7s\u001b[0m 82ms/step - loss: 8.8427e-05 - val_loss: 2.5659e-04\n",
      "Epoch 23/50\n",
      "\u001b[1m84/84\u001b[0m \u001b[32m━━━━━━━━━━━━━━━━━━━━\u001b[0m\u001b[37m\u001b[0m \u001b[1m7s\u001b[0m 87ms/step - loss: 8.9947e-05 - val_loss: 2.4281e-04\n",
      "Epoch 24/50\n",
      "\u001b[1m84/84\u001b[0m \u001b[32m━━━━━━━━━━━━━━━━━━━━\u001b[0m\u001b[37m\u001b[0m \u001b[1m7s\u001b[0m 88ms/step - loss: 9.9050e-05 - val_loss: 4.2819e-04\n",
      "Epoch 25/50\n",
      "\u001b[1m84/84\u001b[0m \u001b[32m━━━━━━━━━━━━━━━━━━━━\u001b[0m\u001b[37m\u001b[0m \u001b[1m7s\u001b[0m 87ms/step - loss: 8.1320e-05 - val_loss: 2.3283e-04\n",
      "Epoch 26/50\n",
      "\u001b[1m84/84\u001b[0m \u001b[32m━━━━━━━━━━━━━━━━━━━━\u001b[0m\u001b[37m\u001b[0m \u001b[1m8s\u001b[0m 91ms/step - loss: 9.9341e-05 - val_loss: 8.0470e-04\n",
      "Epoch 27/50\n",
      "\u001b[1m84/84\u001b[0m \u001b[32m━━━━━━━━━━━━━━━━━━━━\u001b[0m\u001b[37m\u001b[0m \u001b[1m8s\u001b[0m 90ms/step - loss: 8.5400e-05 - val_loss: 2.2669e-04\n",
      "Epoch 28/50\n",
      "\u001b[1m84/84\u001b[0m \u001b[32m━━━━━━━━━━━━━━━━━━━━\u001b[0m\u001b[37m\u001b[0m \u001b[1m7s\u001b[0m 88ms/step - loss: 7.6429e-05 - val_loss: 2.2961e-04\n",
      "Epoch 29/50\n",
      "\u001b[1m84/84\u001b[0m \u001b[32m━━━━━━━━━━━━━━━━━━━━\u001b[0m\u001b[37m\u001b[0m \u001b[1m10s\u001b[0m 90ms/step - loss: 8.9470e-05 - val_loss: 2.4358e-04\n",
      "Epoch 30/50\n",
      "\u001b[1m84/84\u001b[0m \u001b[32m━━━━━━━━━━━━━━━━━━━━\u001b[0m\u001b[37m\u001b[0m \u001b[1m8s\u001b[0m 89ms/step - loss: 7.2247e-05 - val_loss: 2.3435e-04\n",
      "Epoch 31/50\n",
      "\u001b[1m84/84\u001b[0m \u001b[32m━━━━━━━━━━━━━━━━━━━━\u001b[0m\u001b[37m\u001b[0m \u001b[1m7s\u001b[0m 88ms/step - loss: 7.3144e-05 - val_loss: 5.1922e-04\n",
      "Epoch 32/50\n",
      "\u001b[1m84/84\u001b[0m \u001b[32m━━━━━━━━━━━━━━━━━━━━\u001b[0m\u001b[37m\u001b[0m \u001b[1m8s\u001b[0m 91ms/step - loss: 9.0654e-05 - val_loss: 3.1748e-04\n"
     ]
    }
   ],
   "source": [
    "history = model.fit(\n",
    "    X_train, y_train,\n",
    "    validation_data=(X_val, y_val),\n",
    "    epochs=50,        # Số epoch bạn muốn train\n",
    "    batch_size=32,    # batch size\n",
    "    verbose=1,\n",
    "    callbacks=[EarlyStopping(monitor='val_loss', patience=5, restore_best_weights=True)]\n",
    ")"
   ]
  },
  {
   "cell_type": "code",
   "execution_count": 62,
   "id": "e5f7b821-c5cf-4eed-884e-d43b6878f068",
   "metadata": {},
   "outputs": [
    {
     "name": "stdout",
     "output_type": "stream",
     "text": [
      "\u001b[1m25/25\u001b[0m \u001b[32m━━━━━━━━━━━━━━━━━━━━\u001b[0m\u001b[37m\u001b[0m \u001b[1m2s\u001b[0m 64ms/step\n",
      "\u001b[1m13/13\u001b[0m \u001b[32m━━━━━━━━━━━━━━━━━━━━\u001b[0m\u001b[37m\u001b[0m \u001b[1m1s\u001b[0m 38ms/step\n"
     ]
    }
   ],
   "source": [
    "y_pred_test = model.predict(X_test)\n",
    "y_pred_val = model.predict(X_val)"
   ]
  },
  {
   "cell_type": "code",
   "execution_count": 63,
   "id": "9f775d52-0c3e-475d-aebc-200a2bd818dc",
   "metadata": {},
   "outputs": [
    {
     "name": "stdout",
     "output_type": "stream",
     "text": [
      "Validation MAPE: 0.021155432992454\n",
      "Validation RMSE: 0.015056149083366098\n",
      "Validation MSLE: 9.359887230229005e-05\n"
     ]
    }
   ],
   "source": [
    "val_mape = mean_absolute_percentage_error(y_pred_val, y_val)\n",
    "val_mse = mean_squared_error(y_pred_val, y_val)\n",
    "val_rmse = np.sqrt(val_mse)\n",
    "val_msle = mean_squared_log_error(y_pred_val, y_val)\n",
    "print(f\"Validation MAPE: {val_mape}\")\n",
    "print(f\"Validation RMSE: {val_rmse}\")\n",
    "print(f\"Validation MSLE: {val_msle}\")"
   ]
  },
  {
   "cell_type": "code",
   "execution_count": 64,
   "id": "f406de62-1f94-4856-a2d6-38e8b86dc8b4",
   "metadata": {},
   "outputs": [
    {
     "name": "stdout",
     "output_type": "stream",
     "text": [
      "Test MAPE: 0.02050733966061599\n",
      "Test RMSE: 0.019740741472342567\n",
      "Test MSLE: 0.00012955042037495878\n"
     ]
    }
   ],
   "source": [
    "test_mape = mean_absolute_percentage_error(y_pred_test, y_test)\n",
    "test_mse = mean_squared_error(y_pred_test, y_test)\n",
    "test_rmse = np.sqrt(test_mse)\n",
    "test_msle = mean_squared_log_error(y_pred_test, y_test)\n",
    "print(f\"Test MAPE: {test_mape}\")\n",
    "print(f\"Test RMSE: {test_rmse}\")\n",
    "print(f\"Test MSLE: {test_msle}\")"
   ]
  },
  {
   "cell_type": "code",
   "execution_count": 65,
   "id": "5571de3b-025d-4a0e-bc13-4dcd7b3c0cfb",
   "metadata": {},
   "outputs": [],
   "source": [
    "x_input = test_data[5:].reshape(1,-1)\n",
    "temp_input = list(x_input[0])\n",
    "prediction_next30_days = []\n",
    "\n",
    "for i in range(30):\n",
    "    if len(temp_input) > time_step:\n",
    "        x_input = np.array(temp_input[-time_step:])\n",
    "        x_input = x_input.reshape((1, time_step, 1))\n",
    "        y_hat = model.predict(x_input, verbose=0)\n",
    "        temp_input.extend(y_hat[0].tolist())\n",
    "        prediction_next30_days.extend(y_hat.tolist())\n",
    "    else:\n",
    "        x_input = np.array(temp_input).reshape((1, time_step, 1))\n",
    "        y_hat = model.predict(x_input, verbose=0)\n",
    "        temp_input.extend(y_hat[0].tolist())\n",
    "        prediction_next30_days.extend(y_hat.tolist())"
   ]
  },
  {
   "cell_type": "code",
   "execution_count": 66,
   "id": "e162bd56-62b4-4a29-81e7-03f46a7d53ac",
   "metadata": {},
   "outputs": [],
   "source": [
    "last_date = stock_apple.index.max()\n",
    "future_dates = pd.date_range(start=last_date + pd.DateOffset(days=1), periods=30, freq='D')"
   ]
  },
  {
   "cell_type": "code",
   "execution_count": 67,
   "id": "2170cab5-9546-4039-bfc8-87d5ee8333b9",
   "metadata": {},
   "outputs": [],
   "source": [
    "prediction_next30_days = scaler.inverse_transform(prediction_next30_days).reshape(-1)\n",
    "y_pred_test = scaler.inverse_transform(y_pred_test)\n",
    "y_pred_val = scaler.inverse_transform(y_pred_val)\n",
    "train_data_inv = scaler.inverse_transform(train_data) \n",
    "val_data_inv = scaler.inverse_transform(val_data)\n",
    "test_data_inv = scaler.inverse_transform(test_data)"
   ]
  },
  {
   "cell_type": "code",
   "execution_count": 68,
   "id": "68f6acae-3d30-4d33-b64e-8ab871c30e7b",
   "metadata": {},
   "outputs": [
    {
     "data": {
      "image/png": "[encoded data removed]",
      "text/plain": [
       "<Figure size 1600x500 with 1 Axes>"
      ]
     },
     "metadata": {},
     "output_type": "display_data"
    }
   ],
   "source": [
    "plt.figure(figsize=(16,5))\n",
    "plt.plot(stock_apple.index[:train_size], train_data_inv)\n",
    "plt.plot(stock_apple.index[train_size:train_size+val_size], val_data_inv)\n",
    "plt.plot(stock_apple.index[train_size:train_size+val_size], y_pred_val)\n",
    "plt.plot(stock_apple.index[train_size+val_size:], test_data_inv)\n",
    "plt.plot(stock_apple.index[train_size+val_size:], y_pred_test)\n",
    "plt.plot(future_dates, prediction_next30_days)\n",
    "plt.xlabel('Date')\n",
    "plt.ylabel('Close Value')\n",
    "plt.title('Samsung Closing Price Prediction')\n",
    "plt.legend(['Train','Validation','PredictValidation','Test','PredictTest','Next30Days'])\n",
    "plt.grid()\n",
    "plt.show()"
   ]
  },
  {
   "cell_type": "code",
   "execution_count": null,
   "id": "bd031e0b-fe0a-405b-9d9c-724f5f63f38a",
   "metadata": {},
   "outputs": [],
   "source": []
  },
  {
   "cell_type": "code",
   "execution_count": null,
   "id": "23822eba-ff1a-4759-9ea2-dfcf97a80d51",
   "metadata": {},
   "outputs": [],
   "source": []
  }
 ],
 "metadata": {
  "kernelspec": {
   "display_name": "Python 3 (ipykernel)",
   "language": "python",
   "name": "python3"
  },
  "language_info": {
   "codemirror_mode": {
    "name": "ipython",
    "version": 3
   },
   "file_extension": ".py",
   "mimetype": "text/x-python",
   "name": "python",
   "nbconvert_exporter": "python",
   "pygments_lexer": "ipython3",
   "version": "3.13.7"
  }
 },
 "nbformat": 4,
 "nbformat_minor": 5
}
