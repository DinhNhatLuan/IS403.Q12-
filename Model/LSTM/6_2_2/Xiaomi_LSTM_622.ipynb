{
 "cells": [
  {
   "cell_type": "code",
   "execution_count": 21,
   "id": "a0dd72eb-dc05-4eb4-885e-bab6a64e6e2d",
   "metadata": {},
   "outputs": [],
   "source": [
    "import numpy as np\n",
    "import pandas as pd\n",
    "import matplotlib.pyplot as plt\n",
    "\n",
    "from numpy import array\n",
    "from keras.models import Sequential\n",
    "from keras.layers import Dense, LSTM, Dropout\n",
    "from keras.callbacks import EarlyStopping, ModelCheckpoint\n",
    "from sklearn.preprocessing import MinMaxScaler\n",
    "from sklearn.metrics import mean_squared_error, mean_absolute_percentage_error, mean_squared_log_error\n"
   ]
  },
  {
   "cell_type": "code",
   "execution_count": 22,
   "id": "60bc2a52-46a8-432b-b7f4-f4350d2757aa",
   "metadata": {},
   "outputs": [
    {
     "data": {
      "text/html": [
       "<div>\n",
       "<style scoped>\n",
       "    .dataframe tbody tr th:only-of-type {\n",
       "        vertical-align: middle;\n",
       "    }\n",
       "\n",
       "    .dataframe tbody tr th {\n",
       "        vertical-align: top;\n",
       "    }\n",
       "\n",
       "    .dataframe thead th {\n",
       "        text-align: right;\n",
       "    }\n",
       "</style>\n",
       "<table border=\"1\" class=\"dataframe\">\n",
       "  <thead>\n",
       "    <tr style=\"text-align: right;\">\n",
       "      <th></th>\n",
       "      <th>Date</th>\n",
       "      <th>Open</th>\n",
       "      <th>High</th>\n",
       "      <th>Low</th>\n",
       "      <th>Close</th>\n",
       "      <th>Adj Close</th>\n",
       "      <th>Volume</th>\n",
       "    </tr>\n",
       "  </thead>\n",
       "  <tbody>\n",
       "    <tr>\n",
       "      <th>0</th>\n",
       "      <td>2018-07-09</td>\n",
       "      <td>16.600000</td>\n",
       "      <td>17.000000</td>\n",
       "      <td>16.000000</td>\n",
       "      <td>16.799999</td>\n",
       "      <td>16.799999</td>\n",
       "      <td>462182642</td>\n",
       "    </tr>\n",
       "    <tr>\n",
       "      <th>1</th>\n",
       "      <td>2018-07-10</td>\n",
       "      <td>17.000000</td>\n",
       "      <td>19.340000</td>\n",
       "      <td>17.000000</td>\n",
       "      <td>19.000000</td>\n",
       "      <td>19.000000</td>\n",
       "      <td>534072218</td>\n",
       "    </tr>\n",
       "    <tr>\n",
       "      <th>2</th>\n",
       "      <td>2018-07-11</td>\n",
       "      <td>18.500000</td>\n",
       "      <td>19.799999</td>\n",
       "      <td>18.299999</td>\n",
       "      <td>19.000000</td>\n",
       "      <td>19.000000</td>\n",
       "      <td>374721138</td>\n",
       "    </tr>\n",
       "    <tr>\n",
       "      <th>3</th>\n",
       "      <td>2018-07-12</td>\n",
       "      <td>19.400000</td>\n",
       "      <td>19.700001</td>\n",
       "      <td>19.020000</td>\n",
       "      <td>19.260000</td>\n",
       "      <td>19.260000</td>\n",
       "      <td>132592630</td>\n",
       "    </tr>\n",
       "    <tr>\n",
       "      <th>4</th>\n",
       "      <td>2018-07-13</td>\n",
       "      <td>19.600000</td>\n",
       "      <td>21.799999</td>\n",
       "      <td>19.520000</td>\n",
       "      <td>21.450001</td>\n",
       "      <td>21.450001</td>\n",
       "      <td>364065075</td>\n",
       "    </tr>\n",
       "    <tr>\n",
       "      <th>...</th>\n",
       "      <td>...</td>\n",
       "      <td>...</td>\n",
       "      <td>...</td>\n",
       "      <td>...</td>\n",
       "      <td>...</td>\n",
       "      <td>...</td>\n",
       "      <td>...</td>\n",
       "    </tr>\n",
       "    <tr>\n",
       "      <th>1795</th>\n",
       "      <td>2025-10-22</td>\n",
       "      <td>46.000000</td>\n",
       "      <td>46.740002</td>\n",
       "      <td>45.700001</td>\n",
       "      <td>46.340000</td>\n",
       "      <td>46.340000</td>\n",
       "      <td>121391262</td>\n",
       "    </tr>\n",
       "    <tr>\n",
       "      <th>1796</th>\n",
       "      <td>2025-10-23</td>\n",
       "      <td>46.020000</td>\n",
       "      <td>47.080002</td>\n",
       "      <td>45.700001</td>\n",
       "      <td>46.740002</td>\n",
       "      <td>46.740002</td>\n",
       "      <td>106829656</td>\n",
       "    </tr>\n",
       "    <tr>\n",
       "      <th>1797</th>\n",
       "      <td>2025-10-24</td>\n",
       "      <td>47.099998</td>\n",
       "      <td>47.400002</td>\n",
       "      <td>45.740002</td>\n",
       "      <td>45.919998</td>\n",
       "      <td>45.919998</td>\n",
       "      <td>170946122</td>\n",
       "    </tr>\n",
       "    <tr>\n",
       "      <th>1798</th>\n",
       "      <td>2025-10-27</td>\n",
       "      <td>45.720001</td>\n",
       "      <td>46.000000</td>\n",
       "      <td>43.880001</td>\n",
       "      <td>45.799999</td>\n",
       "      <td>45.799999</td>\n",
       "      <td>282836746</td>\n",
       "    </tr>\n",
       "    <tr>\n",
       "      <th>1799</th>\n",
       "      <td>2025-10-28</td>\n",
       "      <td>45.400002</td>\n",
       "      <td>45.480000</td>\n",
       "      <td>44.299999</td>\n",
       "      <td>44.919998</td>\n",
       "      <td>44.919998</td>\n",
       "      <td>184222833</td>\n",
       "    </tr>\n",
       "  </tbody>\n",
       "</table>\n",
       "<p>1800 rows × 7 columns</p>\n",
       "</div>"
      ],
      "text/plain": [
       "            Date       Open       High        Low      Close  Adj Close  \\\n",
       "0     2018-07-09  16.600000  17.000000  16.000000  16.799999  16.799999   \n",
       "1     2018-07-10  17.000000  19.340000  17.000000  19.000000  19.000000   \n",
       "2     2018-07-11  18.500000  19.799999  18.299999  19.000000  19.000000   \n",
       "3     2018-07-12  19.400000  19.700001  19.020000  19.260000  19.260000   \n",
       "4     2018-07-13  19.600000  21.799999  19.520000  21.450001  21.450001   \n",
       "...          ...        ...        ...        ...        ...        ...   \n",
       "1795  2025-10-22  46.000000  46.740002  45.700001  46.340000  46.340000   \n",
       "1796  2025-10-23  46.020000  47.080002  45.700001  46.740002  46.740002   \n",
       "1797  2025-10-24  47.099998  47.400002  45.740002  45.919998  45.919998   \n",
       "1798  2025-10-27  45.720001  46.000000  43.880001  45.799999  45.799999   \n",
       "1799  2025-10-28  45.400002  45.480000  44.299999  44.919998  44.919998   \n",
       "\n",
       "         Volume  \n",
       "0     462182642  \n",
       "1     534072218  \n",
       "2     374721138  \n",
       "3     132592630  \n",
       "4     364065075  \n",
       "...         ...  \n",
       "1795  121391262  \n",
       "1796  106829656  \n",
       "1797  170946122  \n",
       "1798  282836746  \n",
       "1799  184222833  \n",
       "\n",
       "[1800 rows x 7 columns]"
      ]
     },
     "execution_count": 22,
     "metadata": {},
     "output_type": "execute_result"
    }
   ],
   "source": [
    "stock_xiaomi = pd.read_csv('Xiaomi_clean.csv')\n",
    "stock_xiaomi"
   ]
  },
  {
   "cell_type": "code",
   "execution_count": 23,
   "id": "1d499eaa-458c-4b20-ae8b-12160bf00573",
   "metadata": {},
   "outputs": [],
   "source": [
    "stock_xiaomi['Date'] = pd.to_datetime(stock_xiaomi['Date'])\n",
    "stock_xiaomi = stock_xiaomi.set_index(pd.DatetimeIndex(stock_xiaomi['Date'].values))\n",
    "df_xiaomi = pd.DataFrame(stock_xiaomi, columns=['Close'])\n"
   ]
  },
  {
   "cell_type": "code",
   "execution_count": 24,
   "id": "201b5e8c-96d1-43c1-982a-ed6e68075258",
   "metadata": {},
   "outputs": [],
   "source": [
    "scaler = MinMaxScaler(feature_range=(0,1))\n",
    "df_xiaomi_scaled = scaler.fit_transform(np.array(df_xiaomi).reshape(-1,1))"
   ]
  },
  {
   "cell_type": "code",
   "execution_count": 25,
   "id": "0c5b47c2-7c7e-4f9e-b4db-1ff42474aee7",
   "metadata": {},
   "outputs": [],
   "source": [
    "train_size = int(len(df_xiaomi_scaled) * 0.6)\n",
    "val_size = int(len(df_xiaomi_scaled) * 0.2)\n",
    "test_size = len(df_xiaomi_scaled) - train_size - val_size\n",
    "\n",
    "train_data = df_xiaomi_scaled[:train_size]\n",
    "val_data = df_xiaomi_scaled[train_size:train_size+val_size]\n",
    "test_data = df_xiaomi_scaled[train_size+val_size:]"
   ]
  },
  {
   "cell_type": "code",
   "execution_count": 26,
   "id": "376b209c-233e-4de3-996c-9b7feaab9c46",
   "metadata": {},
   "outputs": [],
   "source": [
    "def create_dataset(dataset, time_step=1):\n",
    "    dataX, dataY = [], []\n",
    "    for i in range(len(dataset) - time_step):\n",
    "        a = dataset[i:(i + time_step), 0]\n",
    "        dataX.append(a)\n",
    "        dataY.append(dataset[i + time_step, 0])\n",
    "    return np.array(dataX), np.array(dataY)\n",
    "\n",
    "time_step = 100"
   ]
  },
  {
   "cell_type": "code",
   "execution_count": 27,
   "id": "a305c674-c556-4e1b-ad87-9df8aec88718",
   "metadata": {},
   "outputs": [],
   "source": [
    "train_last_window = train_data[-time_step:]\n",
    "val_data_extended = np.concatenate((train_last_window, val_data), axis=0)\n",
    "val_last_window = val_data[-time_step:]\n",
    "test_data_extended = np.concatenate((val_last_window, test_data), axis=0)\n",
    "\n",
    "X_train, y_train = create_dataset(train_data, time_step)\n",
    "X_val, y_val = create_dataset(val_data_extended, time_step)\n",
    "X_test, y_test = create_dataset(test_data_extended, time_step)"
   ]
  },
  {
   "cell_type": "code",
   "execution_count": 28,
   "id": "40b9db6c-b013-4bd0-b762-276d8eac8f21",
   "metadata": {},
   "outputs": [],
   "source": [
    "X_train = X_train.reshape(X_train.shape[0], X_train.shape[1], 1)\n",
    "X_val = X_val.reshape(X_val.shape[0], X_val.shape[1], 1)\n",
    "X_test = X_test.reshape(X_test.shape[0], X_test.shape[1], 1)"
   ]
  },
  {
   "cell_type": "code",
   "execution_count": 29,
   "id": "ca6d6296-4dde-4a59-b425-a26a9572456c",
   "metadata": {},
   "outputs": [],
   "source": [
    "from keras.layers import Input\n",
    "\n",
    "model = Sequential()\n",
    "# Dùng Input ở layer đầu tiên\n",
    "model.add(Input(shape=(time_step, 1)))\n",
    "model.add(LSTM(64, return_sequences=True))\n",
    "model.add(LSTM(64, return_sequences=False))\n",
    "model.add(Dropout(0.2))\n",
    "model.add(Dense(1, activation='relu'))\n",
    "model.compile(loss='mean_squared_error', optimizer='adam')\n"
   ]
  },
  {
   "cell_type": "code",
   "execution_count": 30,
   "id": "8722fbc3-76f1-4b37-935f-382a22b43353",
   "metadata": {},
   "outputs": [
    {
     "name": "stdout",
     "output_type": "stream",
     "text": [
      "Epoch 1/50\n",
      "\u001b[1m31/31\u001b[0m \u001b[32m━━━━━━━━━━━━━━━━━━━━\u001b[0m\u001b[37m\u001b[0m \u001b[1m8s\u001b[0m 117ms/step - loss: 0.0053 - val_loss: 7.3421e-04\n",
      "Epoch 2/50\n",
      "\u001b[1m31/31\u001b[0m \u001b[32m━━━━━━━━━━━━━━━━━━━━\u001b[0m\u001b[37m\u001b[0m \u001b[1m3s\u001b[0m 83ms/step - loss: 9.5214e-04 - val_loss: 2.3009e-04\n",
      "Epoch 3/50\n",
      "\u001b[1m31/31\u001b[0m \u001b[32m━━━━━━━━━━━━━━━━━━━━\u001b[0m\u001b[37m\u001b[0m \u001b[1m3s\u001b[0m 93ms/step - loss: 8.4974e-04 - val_loss: 2.5821e-04\n",
      "Epoch 4/50\n",
      "\u001b[1m31/31\u001b[0m \u001b[32m━━━━━━━━━━━━━━━━━━━━\u001b[0m\u001b[37m\u001b[0m \u001b[1m3s\u001b[0m 87ms/step - loss: 7.8178e-04 - val_loss: 1.9966e-04\n",
      "Epoch 5/50\n",
      "\u001b[1m31/31\u001b[0m \u001b[32m━━━━━━━━━━━━━━━━━━━━\u001b[0m\u001b[37m\u001b[0m \u001b[1m3s\u001b[0m 82ms/step - loss: 8.1444e-04 - val_loss: 1.6643e-04\n",
      "Epoch 6/50\n",
      "\u001b[1m31/31\u001b[0m \u001b[32m━━━━━━━━━━━━━━━━━━━━\u001b[0m\u001b[37m\u001b[0m \u001b[1m3s\u001b[0m 86ms/step - loss: 7.3127e-04 - val_loss: 1.8682e-04\n",
      "Epoch 7/50\n",
      "\u001b[1m31/31\u001b[0m \u001b[32m━━━━━━━━━━━━━━━━━━━━\u001b[0m\u001b[37m\u001b[0m \u001b[1m3s\u001b[0m 83ms/step - loss: 6.5073e-04 - val_loss: 2.2120e-04\n",
      "Epoch 8/50\n",
      "\u001b[1m31/31\u001b[0m \u001b[32m━━━━━━━━━━━━━━━━━━━━\u001b[0m\u001b[37m\u001b[0m \u001b[1m3s\u001b[0m 86ms/step - loss: 6.6447e-04 - val_loss: 1.4341e-04\n",
      "Epoch 9/50\n",
      "\u001b[1m31/31\u001b[0m \u001b[32m━━━━━━━━━━━━━━━━━━━━\u001b[0m\u001b[37m\u001b[0m \u001b[1m3s\u001b[0m 94ms/step - loss: 5.9530e-04 - val_loss: 1.4007e-04\n",
      "Epoch 10/50\n",
      "\u001b[1m31/31\u001b[0m \u001b[32m━━━━━━━━━━━━━━━━━━━━\u001b[0m\u001b[37m\u001b[0m \u001b[1m3s\u001b[0m 85ms/step - loss: 6.2245e-04 - val_loss: 1.6013e-04\n",
      "Epoch 11/50\n",
      "\u001b[1m31/31\u001b[0m \u001b[32m━━━━━━━━━━━━━━━━━━━━\u001b[0m\u001b[37m\u001b[0m \u001b[1m3s\u001b[0m 82ms/step - loss: 5.8927e-04 - val_loss: 1.3094e-04\n",
      "Epoch 12/50\n",
      "\u001b[1m31/31\u001b[0m \u001b[32m━━━━━━━━━━━━━━━━━━━━\u001b[0m\u001b[37m\u001b[0m \u001b[1m3s\u001b[0m 85ms/step - loss: 5.9424e-04 - val_loss: 1.5444e-04\n",
      "Epoch 13/50\n",
      "\u001b[1m31/31\u001b[0m \u001b[32m━━━━━━━━━━━━━━━━━━━━\u001b[0m\u001b[37m\u001b[0m \u001b[1m3s\u001b[0m 85ms/step - loss: 5.8279e-04 - val_loss: 1.7537e-04\n",
      "Epoch 14/50\n",
      "\u001b[1m31/31\u001b[0m \u001b[32m━━━━━━━━━━━━━━━━━━━━\u001b[0m\u001b[37m\u001b[0m \u001b[1m3s\u001b[0m 96ms/step - loss: 5.9780e-04 - val_loss: 1.5489e-04\n",
      "Epoch 15/50\n",
      "\u001b[1m31/31\u001b[0m \u001b[32m━━━━━━━━━━━━━━━━━━━━\u001b[0m\u001b[37m\u001b[0m \u001b[1m3s\u001b[0m 96ms/step - loss: 5.9073e-04 - val_loss: 1.4050e-04\n",
      "Epoch 16/50\n",
      "\u001b[1m31/31\u001b[0m \u001b[32m━━━━━━━━━━━━━━━━━━━━\u001b[0m\u001b[37m\u001b[0m \u001b[1m3s\u001b[0m 89ms/step - loss: 4.8648e-04 - val_loss: 1.2784e-04\n",
      "Epoch 17/50\n",
      "\u001b[1m31/31\u001b[0m \u001b[32m━━━━━━━━━━━━━━━━━━━━\u001b[0m\u001b[37m\u001b[0m \u001b[1m3s\u001b[0m 97ms/step - loss: 5.4334e-04 - val_loss: 1.6736e-04\n",
      "Epoch 18/50\n",
      "\u001b[1m31/31\u001b[0m \u001b[32m━━━━━━━━━━━━━━━━━━━━\u001b[0m\u001b[37m\u001b[0m \u001b[1m3s\u001b[0m 85ms/step - loss: 5.1437e-04 - val_loss: 2.0648e-04\n",
      "Epoch 19/50\n",
      "\u001b[1m31/31\u001b[0m \u001b[32m━━━━━━━━━━━━━━━━━━━━\u001b[0m\u001b[37m\u001b[0m \u001b[1m3s\u001b[0m 85ms/step - loss: 5.6325e-04 - val_loss: 4.5808e-04\n",
      "Epoch 20/50\n",
      "\u001b[1m31/31\u001b[0m \u001b[32m━━━━━━━━━━━━━━━━━━━━\u001b[0m\u001b[37m\u001b[0m \u001b[1m5s\u001b[0m 83ms/step - loss: 5.7474e-04 - val_loss: 1.0720e-04\n",
      "Epoch 21/50\n",
      "\u001b[1m31/31\u001b[0m \u001b[32m━━━━━━━━━━━━━━━━━━━━\u001b[0m\u001b[37m\u001b[0m \u001b[1m3s\u001b[0m 82ms/step - loss: 5.0541e-04 - val_loss: 1.0323e-04\n",
      "Epoch 22/50\n",
      "\u001b[1m31/31\u001b[0m \u001b[32m━━━━━━━━━━━━━━━━━━━━\u001b[0m\u001b[37m\u001b[0m \u001b[1m3s\u001b[0m 85ms/step - loss: 4.7141e-04 - val_loss: 1.2210e-04\n",
      "Epoch 23/50\n",
      "\u001b[1m31/31\u001b[0m \u001b[32m━━━━━━━━━━━━━━━━━━━━\u001b[0m\u001b[37m\u001b[0m \u001b[1m3s\u001b[0m 82ms/step - loss: 4.0828e-04 - val_loss: 1.0839e-04\n",
      "Epoch 24/50\n",
      "\u001b[1m31/31\u001b[0m \u001b[32m━━━━━━━━━━━━━━━━━━━━\u001b[0m\u001b[37m\u001b[0m \u001b[1m3s\u001b[0m 97ms/step - loss: 4.3661e-04 - val_loss: 9.9410e-05\n",
      "Epoch 25/50\n",
      "\u001b[1m31/31\u001b[0m \u001b[32m━━━━━━━━━━━━━━━━━━━━\u001b[0m\u001b[37m\u001b[0m \u001b[1m3s\u001b[0m 87ms/step - loss: 4.0766e-04 - val_loss: 1.3577e-04\n",
      "Epoch 26/50\n",
      "\u001b[1m31/31\u001b[0m \u001b[32m━━━━━━━━━━━━━━━━━━━━\u001b[0m\u001b[37m\u001b[0m \u001b[1m3s\u001b[0m 96ms/step - loss: 4.7798e-04 - val_loss: 1.1145e-04\n",
      "Epoch 27/50\n",
      "\u001b[1m31/31\u001b[0m \u001b[32m━━━━━━━━━━━━━━━━━━━━\u001b[0m\u001b[37m\u001b[0m \u001b[1m5s\u001b[0m 93ms/step - loss: 4.5349e-04 - val_loss: 9.8258e-05\n",
      "Epoch 28/50\n",
      "\u001b[1m31/31\u001b[0m \u001b[32m━━━━━━━━━━━━━━━━━━━━\u001b[0m\u001b[37m\u001b[0m \u001b[1m5s\u001b[0m 88ms/step - loss: 4.1882e-04 - val_loss: 1.0520e-04\n",
      "Epoch 29/50\n",
      "\u001b[1m31/31\u001b[0m \u001b[32m━━━━━━━━━━━━━━━━━━━━\u001b[0m\u001b[37m\u001b[0m \u001b[1m3s\u001b[0m 85ms/step - loss: 4.3317e-04 - val_loss: 1.2827e-04\n",
      "Epoch 30/50\n",
      "\u001b[1m31/31\u001b[0m \u001b[32m━━━━━━━━━━━━━━━━━━━━\u001b[0m\u001b[37m\u001b[0m \u001b[1m3s\u001b[0m 82ms/step - loss: 4.2205e-04 - val_loss: 1.3611e-04\n",
      "Epoch 31/50\n",
      "\u001b[1m31/31\u001b[0m \u001b[32m━━━━━━━━━━━━━━━━━━━━\u001b[0m\u001b[37m\u001b[0m \u001b[1m3s\u001b[0m 84ms/step - loss: 4.4756e-04 - val_loss: 2.2265e-04\n",
      "Epoch 32/50\n",
      "\u001b[1m31/31\u001b[0m \u001b[32m━━━━━━━━━━━━━━━━━━━━\u001b[0m\u001b[37m\u001b[0m \u001b[1m5s\u001b[0m 84ms/step - loss: 4.2112e-04 - val_loss: 9.5673e-05\n",
      "Epoch 33/50\n",
      "\u001b[1m31/31\u001b[0m \u001b[32m━━━━━━━━━━━━━━━━━━━━\u001b[0m\u001b[37m\u001b[0m \u001b[1m3s\u001b[0m 84ms/step - loss: 3.5802e-04 - val_loss: 8.7507e-05\n",
      "Epoch 34/50\n",
      "\u001b[1m31/31\u001b[0m \u001b[32m━━━━━━━━━━━━━━━━━━━━\u001b[0m\u001b[37m\u001b[0m \u001b[1m3s\u001b[0m 86ms/step - loss: 4.2174e-04 - val_loss: 9.2971e-05\n",
      "Epoch 35/50\n",
      "\u001b[1m31/31\u001b[0m \u001b[32m━━━━━━━━━━━━━━━━━━━━\u001b[0m\u001b[37m\u001b[0m \u001b[1m3s\u001b[0m 89ms/step - loss: 3.8441e-04 - val_loss: 8.4183e-05\n",
      "Epoch 36/50\n",
      "\u001b[1m31/31\u001b[0m \u001b[32m━━━━━━━━━━━━━━━━━━━━\u001b[0m\u001b[37m\u001b[0m \u001b[1m3s\u001b[0m 87ms/step - loss: 3.8624e-04 - val_loss: 1.1134e-04\n",
      "Epoch 37/50\n",
      "\u001b[1m31/31\u001b[0m \u001b[32m━━━━━━━━━━━━━━━━━━━━\u001b[0m\u001b[37m\u001b[0m \u001b[1m3s\u001b[0m 88ms/step - loss: 3.8510e-04 - val_loss: 8.7503e-05\n",
      "Epoch 38/50\n",
      "\u001b[1m31/31\u001b[0m \u001b[32m━━━━━━━━━━━━━━━━━━━━\u001b[0m\u001b[37m\u001b[0m \u001b[1m3s\u001b[0m 86ms/step - loss: 3.9558e-04 - val_loss: 1.1823e-04\n",
      "Epoch 39/50\n",
      "\u001b[1m31/31\u001b[0m \u001b[32m━━━━━━━━━━━━━━━━━━━━\u001b[0m\u001b[37m\u001b[0m \u001b[1m5s\u001b[0m 92ms/step - loss: 4.0531e-04 - val_loss: 8.2361e-05\n",
      "Epoch 40/50\n",
      "\u001b[1m31/31\u001b[0m \u001b[32m━━━━━━━━━━━━━━━━━━━━\u001b[0m\u001b[37m\u001b[0m \u001b[1m5s\u001b[0m 83ms/step - loss: 3.7548e-04 - val_loss: 8.5913e-05\n",
      "Epoch 41/50\n",
      "\u001b[1m31/31\u001b[0m \u001b[32m━━━━━━━━━━━━━━━━━━━━\u001b[0m\u001b[37m\u001b[0m \u001b[1m3s\u001b[0m 93ms/step - loss: 3.4487e-04 - val_loss: 8.3517e-05\n",
      "Epoch 42/50\n",
      "\u001b[1m31/31\u001b[0m \u001b[32m━━━━━━━━━━━━━━━━━━━━\u001b[0m\u001b[37m\u001b[0m \u001b[1m3s\u001b[0m 86ms/step - loss: 3.4920e-04 - val_loss: 9.1348e-05\n",
      "Epoch 43/50\n",
      "\u001b[1m31/31\u001b[0m \u001b[32m━━━━━━━━━━━━━━━━━━━━\u001b[0m\u001b[37m\u001b[0m \u001b[1m3s\u001b[0m 83ms/step - loss: 3.3070e-04 - val_loss: 8.4793e-05\n",
      "Epoch 44/50\n",
      "\u001b[1m31/31\u001b[0m \u001b[32m━━━━━━━━━━━━━━━━━━━━\u001b[0m\u001b[37m\u001b[0m \u001b[1m3s\u001b[0m 94ms/step - loss: 3.5379e-04 - val_loss: 8.2372e-05\n"
     ]
    }
   ],
   "source": [
    "history = model.fit(\n",
    "    X_train, y_train,\n",
    "    validation_data=(X_val, y_val),\n",
    "    epochs=50,        # Số epoch bạn muốn train\n",
    "    batch_size=32,    # batch size\n",
    "    verbose=1,\n",
    "    callbacks=[EarlyStopping(monitor='val_loss', patience=5, restore_best_weights=True)]\n",
    ")"
   ]
  },
  {
   "cell_type": "code",
   "execution_count": 31,
   "id": "d6dc6c80-58e0-452e-adc9-48b60309380f",
   "metadata": {},
   "outputs": [
    {
     "name": "stdout",
     "output_type": "stream",
     "text": [
      "\u001b[1m12/12\u001b[0m \u001b[32m━━━━━━━━━━━━━━━━━━━━\u001b[0m\u001b[37m\u001b[0m \u001b[1m1s\u001b[0m 66ms/step\n",
      "\u001b[1m12/12\u001b[0m \u001b[32m━━━━━━━━━━━━━━━━━━━━\u001b[0m\u001b[37m\u001b[0m \u001b[1m0s\u001b[0m 31ms/step\n"
     ]
    }
   ],
   "source": [
    "y_pred_test = model.predict(X_test)\n",
    "y_pred_val = model.predict(X_val)"
   ]
  },
  {
   "cell_type": "code",
   "execution_count": 32,
   "id": "b0db3099-5ab5-469b-ab2d-aa06ecdef355",
   "metadata": {},
   "outputs": [
    {
     "name": "stdout",
     "output_type": "stream",
     "text": [
      "Validation MAPE: 0.09473305715505699\n",
      "Validation RMSE: 0.00907530552108884\n",
      "Validation MSLE: 6.886408085396344e-05\n"
     ]
    }
   ],
   "source": [
    "val_mape = mean_absolute_percentage_error(y_pred_val, y_val)\n",
    "val_mse = mean_squared_error(y_pred_val, y_val)\n",
    "val_rmse = np.sqrt(val_mse)\n",
    "val_msle = mean_squared_log_error(y_pred_val, y_val)\n",
    "print(f\"Validation MAPE: {val_mape}\")\n",
    "print(f\"Validation RMSE: {val_rmse}\")\n",
    "print(f\"Validation MSLE: {val_msle}\")"
   ]
  },
  {
   "cell_type": "code",
   "execution_count": 33,
   "id": "5cbdfff3-5086-41c1-8014-31aa8482a4e2",
   "metadata": {},
   "outputs": [
    {
     "name": "stdout",
     "output_type": "stream",
     "text": [
      "Test MAPE: 0.03947893917449988\n",
      "Test RMSE: 0.02874046522986862\n",
      "Test MSLE: 0.0002862583806042287\n"
     ]
    }
   ],
   "source": [
    "test_mape = mean_absolute_percentage_error(y_pred_test, y_test)\n",
    "test_mse = mean_squared_error(y_pred_test, y_test)\n",
    "test_rmse = np.sqrt(test_mse)\n",
    "test_msle = mean_squared_log_error(y_pred_test, y_test)\n",
    "print(f\"Test MAPE: {test_mape}\")\n",
    "print(f\"Test RMSE: {test_rmse}\")\n",
    "print(f\"Test MSLE: {test_msle}\")"
   ]
  },
  {
   "cell_type": "code",
   "execution_count": 34,
   "id": "053ede6f-2e9f-4068-9330-bed8a431120e",
   "metadata": {},
   "outputs": [],
   "source": [
    "x_input = test_data[5:].reshape(1,-1)\n",
    "temp_input = list(x_input[0])\n",
    "prediction_next30_days = []\n",
    "\n",
    "for i in range(30):\n",
    "    if len(temp_input) > time_step:\n",
    "        x_input = np.array(temp_input[-time_step:])\n",
    "        x_input = x_input.reshape((1, time_step, 1))\n",
    "        y_hat = model.predict(x_input, verbose=0)\n",
    "        temp_input.extend(y_hat[0].tolist())\n",
    "        prediction_next30_days.extend(y_hat.tolist())\n",
    "    else:\n",
    "        x_input = np.array(temp_input).reshape((1, time_step, 1))\n",
    "        y_hat = model.predict(x_input, verbose=0)\n",
    "        temp_input.extend(y_hat[0].tolist())\n",
    "        prediction_next30_days.extend(y_hat.tolist())"
   ]
  },
  {
   "cell_type": "code",
   "execution_count": 35,
   "id": "7417f939-4fca-4bca-9e30-0892079b388d",
   "metadata": {},
   "outputs": [],
   "source": [
    "last_date = stock_xiaomi.index.max()\n",
    "future_dates = pd.date_range(start=last_date + pd.DateOffset(days=1), periods=30, freq='D')"
   ]
  },
  {
   "cell_type": "code",
   "execution_count": 36,
   "id": "f779ac6f-e471-45a2-9823-024db1ede0e5",
   "metadata": {},
   "outputs": [],
   "source": [
    "prediction_next30_days = scaler.inverse_transform(prediction_next30_days).reshape(-1)\n",
    "y_pred_test = scaler.inverse_transform(y_pred_test)\n",
    "y_pred_val = scaler.inverse_transform(y_pred_val)\n",
    "train_data_inv = scaler.inverse_transform(train_data) \n",
    "val_data_inv = scaler.inverse_transform(val_data)\n",
    "test_data_inv = scaler.inverse_transform(test_data)"
   ]
  },
  {
   "cell_type": "code",
   "execution_count": 37,
   "id": "0c62865a-e623-4961-b064-5c2f3c175bcb",
   "metadata": {},
   "outputs": [
    {
     "data": {
      "image/png": "[encoded data removed]",
      "text/plain": [
       "<Figure size 1600x500 with 1 Axes>"
      ]
     },
     "metadata": {},
     "output_type": "display_data"
    }
   ],
   "source": [
    "plt.figure(figsize=(16,5))\n",
    "plt.plot(stock_xiaomi.index[:train_size], train_data_inv)\n",
    "plt.plot(stock_xiaomi.index[train_size:train_size+val_size], val_data_inv)\n",
    "plt.plot(stock_xiaomi.index[train_size:train_size+val_size], y_pred_val)\n",
    "plt.plot(stock_xiaomi.index[train_size+val_size:], test_data_inv)\n",
    "plt.plot(stock_xiaomi.index[train_size+val_size:], y_pred_test)\n",
    "plt.plot(future_dates, prediction_next30_days)\n",
    "plt.xlabel('Date')\n",
    "plt.ylabel('Close Value')\n",
    "plt.title('Samsung Closing Price Prediction')\n",
    "plt.legend(['Train','Validation','PredictValidation','Test','PredictTest','Next30Days'])\n",
    "plt.grid()\n",
    "plt.show()"
   ]
  },
  {
   "cell_type": "code",
   "execution_count": null,
   "id": "f4127659-9a6f-4aef-9377-8542d4b9eeaa",
   "metadata": {},
   "outputs": [],
   "source": []
  }
 ],
 "metadata": {
  "kernelspec": {
   "display_name": "Python 3 (ipykernel)",
   "language": "python",
   "name": "python3"
  },
  "language_info": {
   "codemirror_mode": {
    "name": "ipython",
    "version": 3
   },
   "file_extension": ".py",
   "mimetype": "text/x-python",
   "name": "python",
   "nbconvert_exporter": "python",
   "pygments_lexer": "ipython3",
   "version": "3.13.7"
  }
 },
 "nbformat": 4,
 "nbformat_minor": 5
}
