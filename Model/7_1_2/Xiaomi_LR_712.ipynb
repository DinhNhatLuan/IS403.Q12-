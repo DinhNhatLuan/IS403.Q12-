{
 "cells": [
  {
   "cell_type": "markdown",
   "id": "6bcae2e7",
   "metadata": {},
   "source": [
    "Import Libraries"
   ]
  },
  {
   "cell_type": "code",
   "execution_count": 1,
   "id": "876fa03c",
   "metadata": {},
   "outputs": [],
   "source": [
    "import pandas as pd\n",
    "import numpy as np\n",
    "import pandas as pd\n",
    "import matplotlib.pyplot as plt\n",
    "from sklearn.preprocessing import MinMaxScaler\n",
    "from sklearn.linear_model import LinearRegression\n",
    "from sklearn.metrics import mean_squared_error, mean_absolute_percentage_error, mean_squared_log_error\n"
   ]
  },
  {
   "cell_type": "markdown",
   "id": "cb352c3f",
   "metadata": {},
   "source": [
    "Data preprocessing"
   ]
  },
  {
   "cell_type": "markdown",
   "id": "69b17257",
   "metadata": {},
   "source": [
    "Read data"
   ]
  },
  {
   "cell_type": "code",
   "execution_count": 2,
   "id": "db508588",
   "metadata": {},
   "outputs": [
    {
     "data": {
      "text/html": [
       "<div>\n",
       "<style scoped>\n",
       "    .dataframe tbody tr th:only-of-type {\n",
       "        vertical-align: middle;\n",
       "    }\n",
       "\n",
       "    .dataframe tbody tr th {\n",
       "        vertical-align: top;\n",
       "    }\n",
       "\n",
       "    .dataframe thead th {\n",
       "        text-align: right;\n",
       "    }\n",
       "</style>\n",
       "<table border=\"1\" class=\"dataframe\">\n",
       "  <thead>\n",
       "    <tr style=\"text-align: right;\">\n",
       "      <th></th>\n",
       "      <th>Date</th>\n",
       "      <th>Open</th>\n",
       "      <th>High</th>\n",
       "      <th>Low</th>\n",
       "      <th>Close</th>\n",
       "      <th>Adj Close</th>\n",
       "      <th>Volume</th>\n",
       "    </tr>\n",
       "  </thead>\n",
       "  <tbody>\n",
       "    <tr>\n",
       "      <th>0</th>\n",
       "      <td>2018-07-09</td>\n",
       "      <td>16.6</td>\n",
       "      <td>17.000000</td>\n",
       "      <td>16.000000</td>\n",
       "      <td>16.799999</td>\n",
       "      <td>16.799999</td>\n",
       "      <td>462182642</td>\n",
       "    </tr>\n",
       "    <tr>\n",
       "      <th>1</th>\n",
       "      <td>2018-07-10</td>\n",
       "      <td>17.0</td>\n",
       "      <td>19.340000</td>\n",
       "      <td>17.000000</td>\n",
       "      <td>19.000000</td>\n",
       "      <td>19.000000</td>\n",
       "      <td>534072218</td>\n",
       "    </tr>\n",
       "    <tr>\n",
       "      <th>2</th>\n",
       "      <td>2018-07-11</td>\n",
       "      <td>18.5</td>\n",
       "      <td>19.799999</td>\n",
       "      <td>18.299999</td>\n",
       "      <td>19.000000</td>\n",
       "      <td>19.000000</td>\n",
       "      <td>374721138</td>\n",
       "    </tr>\n",
       "    <tr>\n",
       "      <th>3</th>\n",
       "      <td>2018-07-12</td>\n",
       "      <td>19.4</td>\n",
       "      <td>19.700001</td>\n",
       "      <td>19.020000</td>\n",
       "      <td>19.260000</td>\n",
       "      <td>19.260000</td>\n",
       "      <td>132592630</td>\n",
       "    </tr>\n",
       "    <tr>\n",
       "      <th>4</th>\n",
       "      <td>2018-07-13</td>\n",
       "      <td>19.6</td>\n",
       "      <td>21.799999</td>\n",
       "      <td>19.520000</td>\n",
       "      <td>21.450001</td>\n",
       "      <td>21.450001</td>\n",
       "      <td>364065075</td>\n",
       "    </tr>\n",
       "  </tbody>\n",
       "</table>\n",
       "</div>"
      ],
      "text/plain": [
       "         Date  Open       High        Low      Close  Adj Close     Volume\n",
       "0  2018-07-09  16.6  17.000000  16.000000  16.799999  16.799999  462182642\n",
       "1  2018-07-10  17.0  19.340000  17.000000  19.000000  19.000000  534072218\n",
       "2  2018-07-11  18.5  19.799999  18.299999  19.000000  19.000000  374721138\n",
       "3  2018-07-12  19.4  19.700001  19.020000  19.260000  19.260000  132592630\n",
       "4  2018-07-13  19.6  21.799999  19.520000  21.450001  21.450001  364065075"
      ]
     },
     "execution_count": 2,
     "metadata": {},
     "output_type": "execute_result"
    }
   ],
   "source": [
    "df = pd.read_csv('Xiaomi_clean.csv')\n",
    "df.head()"
   ]
  },
  {
   "cell_type": "markdown",
   "id": "0758ba31",
   "metadata": {},
   "source": [
    "Reset index"
   ]
  },
  {
   "cell_type": "code",
   "execution_count": 3,
   "id": "6275b589",
   "metadata": {},
   "outputs": [],
   "source": [
    "# Convert 'Date' to datetime and set as index\n",
    "df['Date'] = pd.to_datetime(df['Date'])\n",
    "df.set_index('Date', inplace=True)\n",
    "\n",
    "# Select the Close column as dependent variable\n",
    "df_Close = df[['Close']].reset_index(drop=True)"
   ]
  },
  {
   "cell_type": "markdown",
   "id": "6eaba443",
   "metadata": {},
   "source": [
    "Data normalization"
   ]
  },
  {
   "cell_type": "code",
   "execution_count": 4,
   "id": "269701fc",
   "metadata": {},
   "outputs": [],
   "source": [
    "# Min-max normalization\n",
    "scaler = MinMaxScaler(feature_range=(0, 1))\n",
    "data_scaled = scaler.fit_transform(np.array(df_Close))"
   ]
  },
  {
   "cell_type": "markdown",
   "id": "2c2a6c78",
   "metadata": {},
   "source": [
    "Data splitting"
   ]
  },
  {
   "cell_type": "code",
   "execution_count": 5,
   "id": "633bf304",
   "metadata": {},
   "outputs": [],
   "source": [
    "# Split the data into training, validation and test dataset in a ratio of 7:1:2\n",
    "train_size = int(0.7 * len(data_scaled))\n",
    "val_size = int(0.1 * len(data_scaled))\n",
    "test_size = len(data_scaled) - train_size - val_size\n",
    "\n",
    "train_data = data_scaled[: train_size]\n",
    "val_data = data_scaled[train_size : train_size + val_size]\n",
    "test_data = data_scaled[train_size + val_size :]"
   ]
  },
  {
   "cell_type": "markdown",
   "id": "b7bca29f",
   "metadata": {},
   "source": [
    "Model training and testing"
   ]
  },
  {
   "cell_type": "markdown",
   "id": "70950735",
   "metadata": {},
   "source": [
    "Training process"
   ]
  },
  {
   "cell_type": "code",
   "execution_count": 6,
   "id": "e679fcad",
   "metadata": {},
   "outputs": [
    {
     "name": "stdout",
     "output_type": "stream",
     "text": [
      "Intercept: 0.1284184013541686\n",
      "Coefficient: [1.42908575e-05]\n",
      "R²: 0.001807846403825475\n"
     ]
    }
   ],
   "source": [
    "x_train = np.arange(train_size).reshape(-1, 1)\n",
    "y_train = train_data.reshape(-1)\n",
    "\n",
    "model = LinearRegression()\n",
    "model.fit(x_train, y_train)\n",
    "\n",
    "print(\"Intercept:\", model.intercept_)\n",
    "print(\"Coefficient:\", model.coef_)\n",
    "print(\"R²:\", model.score(x_train, y_train))"
   ]
  },
  {
   "cell_type": "markdown",
   "id": "c27102c0",
   "metadata": {},
   "source": [
    "Testing process"
   ]
  },
  {
   "cell_type": "code",
   "execution_count": 7,
   "id": "ed829272",
   "metadata": {},
   "outputs": [
    {
     "name": "stdout",
     "output_type": "stream",
     "text": [
      "MAPE (Validation): 0.16099802937902663\n",
      "RMSE (Validation): 2.540177311202483\n",
      "MSLE (Validation): 0.02765107939059749\n"
     ]
    }
   ],
   "source": [
    "# Validation data\n",
    "x_val = np.array(range(train_size, train_size + val_size)).reshape(-1, 1)\n",
    "y_val = np.array(val_data).reshape(-1)\n",
    "y_pred_val = model.predict(x_val)\n",
    "\n",
    "# Evaluate\n",
    "y_val_inv = scaler.inverse_transform(y_val.reshape(-1, 1))\n",
    "y_pred_val_inv = scaler.inverse_transform(y_pred_val.reshape(-1, 1))\n",
    "\n",
    "val_mape = mean_absolute_percentage_error(y_val_inv, y_pred_val_inv)\n",
    "val_mse = mean_squared_error(y_val_inv, y_pred_val_inv)\n",
    "val_rmse = np.sqrt(val_mse)\n",
    "val_msle = mean_squared_log_error(y_val_inv, y_pred_val_inv)\n",
    "\n",
    "print(f\"MAPE (Validation): {val_mape}\")\n",
    "print(f\"RMSE (Validation): {val_rmse}\")\n",
    "print(f\"MSLE (Validation): {val_msle}\")\n"
   ]
  },
  {
   "cell_type": "code",
   "execution_count": 8,
   "id": "c1872dbf",
   "metadata": {},
   "outputs": [
    {
     "name": "stdout",
     "output_type": "stream",
     "text": [
      "MAPE (Test): 0.4750370761906869\n",
      "RMSE (Test): 26.591840714518142\n",
      "MSLE (Test): 0.7211491469346293\n"
     ]
    }
   ],
   "source": [
    "# Test data\n",
    "x_test = np.array(range(train_size + val_size, len(data_scaled))).reshape(-1, 1)\n",
    "y_test = np.array(test_data).reshape(-1)\n",
    "y_pred_test = model.predict(x_test)\n",
    "\n",
    "# Evaluate\n",
    "y_test_inv = scaler.inverse_transform(y_test.reshape(-1, 1))\n",
    "y_pred_test_inv = scaler.inverse_transform(y_pred_test.reshape(-1, 1))\n",
    "\n",
    "test_mape = mean_absolute_percentage_error(y_test_inv, y_pred_test_inv)\n",
    "test_mse = mean_squared_error(y_test_inv, y_pred_test_inv)\n",
    "test_rmse = np.sqrt(test_mse)\n",
    "test_msle = mean_squared_log_error(y_test_inv, y_pred_test_inv)\n",
    "\n",
    "print(f\"MAPE (Test): {test_mape}\")\n",
    "print(f\"RMSE (Test): {test_rmse}\")\n",
    "print(f\"MSLE (Test): {test_msle}\")\n"
   ]
  },
  {
   "cell_type": "markdown",
   "id": "b3441ad7",
   "metadata": {},
   "source": [
    "Predicting the next 30 days"
   ]
  },
  {
   "cell_type": "code",
   "execution_count": 9,
   "id": "dfae6514",
   "metadata": {},
   "outputs": [],
   "source": [
    "# Create index for next 30 days\n",
    "last_index = df_Close.index[-1]\n",
    "x_next_30_days = np.array(range(last_index + 1, last_index + 31)).reshape(-1, 1)"
   ]
  },
  {
   "cell_type": "markdown",
   "id": "8dd5b84b",
   "metadata": {},
   "source": [
    "Preparing the prediction data"
   ]
  },
  {
   "cell_type": "markdown",
   "id": "e54ad4ec",
   "metadata": {},
   "source": [
    "Prediction process"
   ]
  },
  {
   "cell_type": "code",
   "execution_count": 10,
   "id": "30a751ac",
   "metadata": {},
   "outputs": [
    {
     "name": "stdout",
     "output_type": "stream",
     "text": [
      "Predicted closing prices for the next 30 days:\n",
      "[16.3345533  16.33529357 16.33603383 16.3367741  16.33751437 16.33825463\n",
      " 16.3389949  16.33973517 16.34047543 16.3412157  16.34195597 16.34269623\n",
      " 16.3434365  16.34417677 16.34491703 16.3456573  16.34639756 16.34713783\n",
      " 16.3478781  16.34861836 16.34935863 16.3500989  16.35083916 16.35157943\n",
      " 16.3523197  16.35305996 16.35380023 16.3545405  16.35528076 16.35602103]\n"
     ]
    }
   ],
   "source": [
    "# Predict next 30 days\n",
    "y_next_30_days = model.predict(x_next_30_days)\n",
    "y_next_30_days_inv = scaler.inverse_transform(y_next_30_days.reshape(-1, 1))\n",
    "\n",
    "print(\"Predicted closing prices for the next 30 days:\")\n",
    "print(y_next_30_days_inv.flatten())\n"
   ]
  },
  {
   "cell_type": "markdown",
   "id": "d1c7c2eb",
   "metadata": {},
   "source": [
    "Preparing the forecast date index"
   ]
  },
  {
   "cell_type": "code",
   "execution_count": 11,
   "id": "8c27706a",
   "metadata": {},
   "outputs": [],
   "source": [
    "# Generate future date index\n",
    "last_date = df.index[-1]\n",
    "next_date = last_date + pd.DateOffset(days=1)\n",
    "index_next_30_days = pd.date_range(start=next_date, periods=30).tolist()"
   ]
  },
  {
   "cell_type": "markdown",
   "id": "f5f3c720",
   "metadata": {},
   "source": [
    "Visualization"
   ]
  },
  {
   "cell_type": "code",
   "execution_count": 12,
   "id": "1026a127",
   "metadata": {},
   "outputs": [
    {
     "data": {
      "image/png": "[encoded data removed]",
      "text/plain": [
       "<Figure size 1400x500 with 1 Axes>"
      ]
     },
     "metadata": {},
     "output_type": "display_data"
    }
   ],
   "source": [
    "plt.figure(figsize=(14, 5))\n",
    "\n",
    "plt.plot(df.index[:train_size], scaler.inverse_transform(y_train.reshape(-1, 1)))\n",
    "plt.plot(df.index[train_size:train_size + val_size], y_val_inv)\n",
    "plt.plot(df.index[train_size:train_size + val_size], y_pred_val_inv)\n",
    "plt.plot(df.index[train_size + val_size:], y_test_inv)\n",
    "plt.plot(df.index[train_size + val_size:], y_pred_test_inv)\n",
    "plt.plot(index_next_30_days, y_next_30_days_inv)\n",
    "\n",
    "plt.legend(['Train', 'Validate', 'PredictValidate', 'Test', 'PredictTest', 'Next30Days'])\n",
    "plt.grid()\n",
    "plt.title(f\"Xiaomi Closing Price Data from {df.index[0].strftime('%Y-%m-%d')} to {index_next_30_days[-1].strftime('%Y-%m-%d')}\")\n",
    "plt.xlabel(\"Date\")\n",
    "plt.ylabel(\"Close value\")\n",
    "plt.savefig('LR_712_Xiaomi.png')\n",
    "plt.show()\n"
   ]
  }
 ],
 "metadata": {
  "kernelspec": {
   "display_name": "Python 3",
   "language": "python",
   "name": "python3"
  },
  "language_info": {
   "codemirror_mode": {
    "name": "ipython",
    "version": 3
   },
   "file_extension": ".py",
   "mimetype": "text/x-python",
   "name": "python",
   "nbconvert_exporter": "python",
   "pygments_lexer": "ipython3",
   "version": "3.11.14"
  }
 },
 "nbformat": 4,
 "nbformat_minor": 5
}
