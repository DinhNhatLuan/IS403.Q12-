{
 "cells": [
  {
   "cell_type": "code",
   "execution_count": 1,
   "id": "213f2907",
   "metadata": {},
   "outputs": [],
   "source": [
    "# Library to support working with data\n",
    "import pandas as pd\n",
    "import numpy as np\n",
    "\n",
    "# Data Normalization Support Library\n",
    "from sklearn.preprocessing import MinMaxScaler\n",
    "\n",
    "# Training model\n",
    "from tensorflow.keras.callbacks import EarlyStopping\n",
    "from sklearn.neural_network import MLPRegressor\n",
    "\n",
    "# Performance metrics calculation support library\n",
    "from sklearn.metrics import mean_absolute_error, mean_squared_error, mean_absolute_percentage_error, mean_squared_log_error\n",
    "\n",
    "# Graphing support library\n",
    "from matplotlib import ticker\n",
    "import matplotlib.pyplot as plt\n",
    "\n",
    "import warnings\n",
    "warnings.filterwarnings(\"ignore\")"
   ]
  },
  {
   "cell_type": "code",
   "execution_count": 2,
   "id": "a9130156",
   "metadata": {},
   "outputs": [
    {
     "data": {
      "text/html": [
       "<div>\n",
       "<style scoped>\n",
       "    .dataframe tbody tr th:only-of-type {\n",
       "        vertical-align: middle;\n",
       "    }\n",
       "\n",
       "    .dataframe tbody tr th {\n",
       "        vertical-align: top;\n",
       "    }\n",
       "\n",
       "    .dataframe thead th {\n",
       "        text-align: right;\n",
       "    }\n",
       "</style>\n",
       "<table border=\"1\" class=\"dataframe\">\n",
       "  <thead>\n",
       "    <tr style=\"text-align: right;\">\n",
       "      <th></th>\n",
       "      <th>Date</th>\n",
       "      <th>Open</th>\n",
       "      <th>High</th>\n",
       "      <th>Low</th>\n",
       "      <th>Close</th>\n",
       "      <th>Adj Close</th>\n",
       "      <th>Volume</th>\n",
       "    </tr>\n",
       "  </thead>\n",
       "  <tbody>\n",
       "    <tr>\n",
       "      <th>0</th>\n",
       "      <td>1/4/2010</td>\n",
       "      <td>16060</td>\n",
       "      <td>16180</td>\n",
       "      <td>16000</td>\n",
       "      <td>16180</td>\n",
       "      <td>11978.36523</td>\n",
       "      <td>11950800</td>\n",
       "    </tr>\n",
       "    <tr>\n",
       "      <th>1</th>\n",
       "      <td>1/5/2010</td>\n",
       "      <td>16520</td>\n",
       "      <td>16580</td>\n",
       "      <td>16300</td>\n",
       "      <td>16440</td>\n",
       "      <td>12170.84668</td>\n",
       "      <td>27925850</td>\n",
       "    </tr>\n",
       "    <tr>\n",
       "      <th>2</th>\n",
       "      <td>1/6/2010</td>\n",
       "      <td>16580</td>\n",
       "      <td>16820</td>\n",
       "      <td>16520</td>\n",
       "      <td>16820</td>\n",
       "      <td>12452.17090</td>\n",
       "      <td>22948850</td>\n",
       "    </tr>\n",
       "    <tr>\n",
       "      <th>3</th>\n",
       "      <td>1/7/2010</td>\n",
       "      <td>16820</td>\n",
       "      <td>16820</td>\n",
       "      <td>16260</td>\n",
       "      <td>16260</td>\n",
       "      <td>12037.59082</td>\n",
       "      <td>22107950</td>\n",
       "    </tr>\n",
       "    <tr>\n",
       "      <th>4</th>\n",
       "      <td>1/8/2010</td>\n",
       "      <td>16400</td>\n",
       "      <td>16420</td>\n",
       "      <td>16120</td>\n",
       "      <td>16420</td>\n",
       "      <td>12156.04102</td>\n",
       "      <td>14777550</td>\n",
       "    </tr>\n",
       "    <tr>\n",
       "      <th>...</th>\n",
       "      <td>...</td>\n",
       "      <td>...</td>\n",
       "      <td>...</td>\n",
       "      <td>...</td>\n",
       "      <td>...</td>\n",
       "      <td>...</td>\n",
       "      <td>...</td>\n",
       "    </tr>\n",
       "    <tr>\n",
       "      <th>3887</th>\n",
       "      <td>10/23/2025</td>\n",
       "      <td>96800</td>\n",
       "      <td>98500</td>\n",
       "      <td>96300</td>\n",
       "      <td>96500</td>\n",
       "      <td>96500.00000</td>\n",
       "      <td>18488581</td>\n",
       "    </tr>\n",
       "    <tr>\n",
       "      <th>3888</th>\n",
       "      <td>10/24/2025</td>\n",
       "      <td>97900</td>\n",
       "      <td>99000</td>\n",
       "      <td>97700</td>\n",
       "      <td>98800</td>\n",
       "      <td>98800.00000</td>\n",
       "      <td>18801925</td>\n",
       "    </tr>\n",
       "    <tr>\n",
       "      <th>3889</th>\n",
       "      <td>10/27/2025</td>\n",
       "      <td>101300</td>\n",
       "      <td>102000</td>\n",
       "      <td>100600</td>\n",
       "      <td>102000</td>\n",
       "      <td>102000.00000</td>\n",
       "      <td>22169970</td>\n",
       "    </tr>\n",
       "    <tr>\n",
       "      <th>3890</th>\n",
       "      <td>10/28/2025</td>\n",
       "      <td>100900</td>\n",
       "      <td>101000</td>\n",
       "      <td>99100</td>\n",
       "      <td>99500</td>\n",
       "      <td>99500.00000</td>\n",
       "      <td>20002282</td>\n",
       "    </tr>\n",
       "    <tr>\n",
       "      <th>3891</th>\n",
       "      <td>10/29/2025</td>\n",
       "      <td>100200</td>\n",
       "      <td>101000</td>\n",
       "      <td>99100</td>\n",
       "      <td>100500</td>\n",
       "      <td>100500.00000</td>\n",
       "      <td>20899788</td>\n",
       "    </tr>\n",
       "  </tbody>\n",
       "</table>\n",
       "<p>3892 rows × 7 columns</p>\n",
       "</div>"
      ],
      "text/plain": [
       "            Date    Open    High     Low   Close     Adj Close    Volume\n",
       "0       1/4/2010   16060   16180   16000   16180   11978.36523  11950800\n",
       "1       1/5/2010   16520   16580   16300   16440   12170.84668  27925850\n",
       "2       1/6/2010   16580   16820   16520   16820   12452.17090  22948850\n",
       "3       1/7/2010   16820   16820   16260   16260   12037.59082  22107950\n",
       "4       1/8/2010   16400   16420   16120   16420   12156.04102  14777550\n",
       "...          ...     ...     ...     ...     ...           ...       ...\n",
       "3887  10/23/2025   96800   98500   96300   96500   96500.00000  18488581\n",
       "3888  10/24/2025   97900   99000   97700   98800   98800.00000  18801925\n",
       "3889  10/27/2025  101300  102000  100600  102000  102000.00000  22169970\n",
       "3890  10/28/2025  100900  101000   99100   99500   99500.00000  20002282\n",
       "3891  10/29/2025  100200  101000   99100  100500  100500.00000  20899788\n",
       "\n",
       "[3892 rows x 7 columns]"
      ]
     },
     "execution_count": 2,
     "metadata": {},
     "output_type": "execute_result"
    }
   ],
   "source": [
    "df = pd.read_csv('C:/Users/admin/Documents/HK5 2025-2026/PTDLKD IS403.Q12/DoAn/Dataset/Samsung_clean.csv')\n",
    "df"
   ]
  },
  {
   "cell_type": "code",
   "execution_count": 3,
   "id": "4f46bfa4",
   "metadata": {},
   "outputs": [],
   "source": [
    "# Convert the 'Date' column to datetime format\n",
    "df['Date'] = pd.to_datetime(df['Date'])\n",
    "\n",
    "# Set the 'Date' column as the index value\n",
    "df.set_index('Date', inplace=True)"
   ]
  },
  {
   "cell_type": "code",
   "execution_count": 4,
   "id": "2d078204",
   "metadata": {},
   "outputs": [],
   "source": [
    "# Select 'Close' column\n",
    "df_Close = df[['Close']]\n",
    "df_Close = df_Close.reset_index(drop=True)"
   ]
  },
  {
   "cell_type": "code",
   "execution_count": 5,
   "id": "a7b08000",
   "metadata": {},
   "outputs": [],
   "source": [
    "# Scaler data\n",
    "scaler = MinMaxScaler(feature_range=(0, 1))\n",
    "df_scaled = scaler.fit_transform(np.array(df_Close))"
   ]
  },
  {
   "cell_type": "code",
   "execution_count": 6,
   "id": "a9e1fc82",
   "metadata": {},
   "outputs": [],
   "source": [
    "# Split the data into training, validation and test dataset in a ratio of 6:2:2\n",
    "train_size = int(len(df_scaled) * 0.7)\n",
    "val_size = int(len(df_scaled) * 0.1)\n",
    "test_size = len(df_scaled) - train_size - val_size\n",
    "\n",
    "train_data = df_scaled[0 : train_size, :]\n",
    "val_data = df_scaled[train_size : train_size + val_size, :]\n",
    "test_data = df_scaled[train_size + val_size:, :]"
   ]
  },
  {
   "cell_type": "code",
   "execution_count": 7,
   "id": "d3ebd7d1",
   "metadata": {},
   "outputs": [],
   "source": [
    "# Create Dataset\n",
    "import numpy\n",
    "# convert an array of values into a dataset matrix\n",
    "def create_dataset(dataset, time_step=1):\n",
    "\tdataX, dataY = [], []\n",
    "\tfor i in range(len(dataset)-time_step):\n",
    "\t\ta = dataset[i:(i+time_step), 0]\n",
    "\t\tdataX.append(a)\n",
    "\t\tdataY.append(dataset[i + time_step, 0])\n",
    "\treturn numpy.array(dataX), numpy.array(dataY)"
   ]
  },
  {
   "cell_type": "code",
   "execution_count": 8,
   "id": "3e1a0556",
   "metadata": {},
   "outputs": [],
   "source": [
    "# Add data for train, validation and test set\n",
    "time_step = 30\n",
    "\n",
    "val_last_windowsize = val_data[-time_step:]\n",
    "test_data_extended = np.concatenate((val_last_windowsize, test_data), axis=0)\n",
    "\n",
    "X_train, y_train = create_dataset(train_data, time_step)\n",
    "X_val, y_val = create_dataset(val_data, time_step)\n",
    "X_test, y_test = create_dataset(test_data_extended, time_step)"
   ]
  },
  {
   "cell_type": "code",
   "execution_count": 9,
   "id": "67066f63",
   "metadata": {},
   "outputs": [],
   "source": [
    "# Make input for DNN\n",
    "X_train = X_train.reshape(X_train.shape[0], X_train.shape[1])\n",
    "X_val = X_val.reshape(X_val.shape[0], X_val.shape[1])\n",
    "X_test = X_test.reshape(X_test.shape[0], X_test.shape[1])"
   ]
  },
  {
   "cell_type": "code",
   "execution_count": 10,
   "id": "8be701c2",
   "metadata": {},
   "outputs": [],
   "source": [
    "from sklearn.model_selection import GridSearchCV"
   ]
  },
  {
   "cell_type": "code",
   "execution_count": 11,
   "id": "b9e7d482",
   "metadata": {},
   "outputs": [],
   "source": [
    "# Define the parameter grid\n",
    "param_grid = {\n",
    "    'hidden_layer_sizes': [(16, ),(32, ),(64, ),(128, ),(256, ), (256, 128), (128, 64), (64, 32),(64, 32, 16), (128, 64, 32), (256, 128, 64)],\n",
    "    'activation': ['relu', 'tanh'],\n",
    "    'learning_rate': ['constant', 'adaptive'],\n",
    "}"
   ]
  },
  {
   "cell_type": "code",
   "execution_count": 12,
   "id": "73d26628",
   "metadata": {},
   "outputs": [],
   "source": [
    "# Find best params (GridSearch Idea)\n",
    "best_val_mse = float('inf')\n",
    "best_params = None\n",
    "best_model = None\n",
    "\n",
    "for hidden_layer_sizes in param_grid['hidden_layer_sizes']:\n",
    "    for activation in param_grid['activation']:\n",
    "        for learning_rate in param_grid['learning_rate']:\n",
    "            model = MLPRegressor(hidden_layer_sizes=hidden_layer_sizes, \n",
    "                                 activation=activation, \n",
    "                                 learning_rate=learning_rate,\n",
    "                                 max_iter=200, \n",
    "                                 random_state=42)\n",
    "\n",
    "            # Training\n",
    "            model.fit(X_train, y_train)\n",
    "\n",
    "            # Evaluate on validation set\n",
    "            y_pred_val = model.predict(X_val)\n",
    "\n",
    "            # Inverse\n",
    "            y_pred_val_inv = scaler.inverse_transform(y_pred_val.reshape(-1, 1))\n",
    "            y_val_inv = scaler.inverse_transform(y_val.reshape(-1, 1))\n",
    "\n",
    "            val_mse = mean_squared_error(y_val_inv, y_pred_val_inv)\n",
    "\n",
    "            # Update best model\n",
    "            if val_mse < best_val_mse:\n",
    "                best_val_mse = val_mse\n",
    "                best_params = {'hidden_layer_sizes': hidden_layer_sizes, 'activation': activation, 'learning_rate': learning_rate}\n",
    "                best_model = model"
   ]
  },
  {
   "cell_type": "code",
   "execution_count": 13,
   "id": "316b6f03",
   "metadata": {},
   "outputs": [
    {
     "name": "stdout",
     "output_type": "stream",
     "text": [
      "Best MSE: 2936863.4769558674\n",
      "Best Parameters: {'hidden_layer_sizes': (128,), 'activation': 'tanh', 'learning_rate': 'constant'}\n"
     ]
    }
   ],
   "source": [
    "# Print the results\n",
    "print(\"Best MSE:\", best_val_mse)\n",
    "print(\"Best Parameters:\", best_params)"
   ]
  },
  {
   "cell_type": "code",
   "execution_count": 14,
   "id": "2c08a313",
   "metadata": {},
   "outputs": [],
   "source": [
    "y_pred = best_model.predict(X_test)"
   ]
  },
  {
   "cell_type": "code",
   "execution_count": 15,
   "id": "15dd993f",
   "metadata": {},
   "outputs": [],
   "source": [
    "test_data = scaler.inverse_transform(test_data.reshape(-1, 1))\n",
    "\n",
    "y_val = scaler.inverse_transform(y_val.reshape(-1, 1))\n",
    "\n",
    "y_pred = scaler.inverse_transform(y_pred.reshape(-1, 1))\n",
    "\n",
    "y_test = scaler.inverse_transform(y_test.reshape(-1, 1))"
   ]
  },
  {
   "cell_type": "code",
   "execution_count": 16,
   "id": "50950929",
   "metadata": {},
   "outputs": [
    {
     "name": "stdout",
     "output_type": "stream",
     "text": [
      "Validation MAPE :  0.0222452628073929\n",
      "Validation MSE  :  2936863.4769558674\n",
      "Validation RMSE :  1713.727947182944\n",
      "Validation MSLE :  0.0008018261115911608\n"
     ]
    }
   ],
   "source": [
    "# Evaluate the accuracy of validation\n",
    "val_mape = mean_absolute_percentage_error(y_pred_val_inv, y_val_inv)\n",
    "val_mse = best_val_mse\n",
    "val_rmse = np.sqrt(best_val_mse)\n",
    "val_msle = mean_squared_log_error(y_pred_val_inv, y_val_inv)\n",
    "\n",
    "print(f\"Validation MAPE : \", val_mape)\n",
    "print(f\"Validation MSE  : \", val_mse)\n",
    "print(f\"Validation RMSE : \", val_rmse)\n",
    "print(f\"Validation MSLE : \", val_msle)"
   ]
  },
  {
   "cell_type": "code",
   "execution_count": 17,
   "id": "2aecf2c2",
   "metadata": {},
   "outputs": [
    {
     "name": "stdout",
     "output_type": "stream",
     "text": [
      "Testing MAPE :  0.0264723037158333\n",
      "Testing MSE  :  5556401.930068661\n",
      "Testing RMSE :  2357.202140264738\n",
      "Testing MSLE :  0.0011899756226959107\n"
     ]
    }
   ],
   "source": [
    "# Evaluate the accuracy of test\n",
    "test_mape = mean_absolute_percentage_error(y_pred, y_test)\n",
    "test_mse = mean_squared_error(y_pred, y_test)\n",
    "test_rmse = np.sqrt(test_mse)\n",
    "test_msle = mean_squared_log_error(y_pred, y_test)\n",
    "\n",
    "print(f\"Testing MAPE : \", test_mape)\n",
    "print(f\"Testing MSE  : \", test_mse)\n",
    "print(f\"Testing RMSE : \", test_rmse)\n",
    "print(f\"Testing MSLE : \", test_msle)"
   ]
  },
  {
   "cell_type": "code",
   "execution_count": 18,
   "id": "e4eb5297",
   "metadata": {},
   "outputs": [],
   "source": [
    "x_input = test_data_extended[5:].reshape(1, -1)\n",
    "temp_input = list(x_input)\n",
    "temp_input = temp_input[0].tolist()\n",
    "\n",
    "# Define i\n",
    "i = 0\n",
    "\n",
    "# List storage value for next 30 days\n",
    "prediction_next30_days = []\n",
    "\n",
    "while(i < 30):\n",
    "    if(len(temp_input) > time_step):\n",
    "        x_input = np.array(temp_input[-time_step:])\n",
    "        x_input = x_input.reshape((1, time_step))\n",
    "\n",
    "        y_hat = best_model.predict(x_input)\n",
    "\n",
    "        temp_input.extend(y_hat.tolist())\n",
    "        temp_input = temp_input[1:]\n",
    "\n",
    "        prediction_next30_days.extend(y_hat.tolist())\n",
    "        i = i + 1\n",
    "    else:\n",
    "        x_input = x_input.reshape((1, time_step))\n",
    "        y_hat = best_model.predict(x_input)\n",
    "\n",
    "        temp_input.extend(y_hat.tolist())\n",
    "        \n",
    "        prediction_next30_days.extend(y_hat.tolist())\n",
    "        i = i + 1"
   ]
  },
  {
   "cell_type": "code",
   "execution_count": 19,
   "id": "55e67deb",
   "metadata": {},
   "outputs": [
    {
     "name": "stdout",
     "output_type": "stream",
     "text": [
      "[0.9258124525837566, 0.911474989378793, 0.9222445498226044, 0.9084893920588091, 0.9002400592687829, 0.8980176548416154, 0.8854502946217844, 0.8990990290627674, 0.867503820769153, 0.8560693873303715, 0.8348243708880125, 0.8395969227865823, 0.8332957695539538, 0.8174661325217245, 0.8097915357968024, 0.7992188686806982, 0.784035511575927, 0.784593755085722, 0.7893458482039717, 0.8009185910648995, 0.7847044534040559, 0.7668073083362448, 0.7471527174810271, 0.7411997224178482, 0.7686558148599865, 0.7602306369878442, 0.7636816798421708, 0.760925090329005, 0.7483130620575345, 0.7478994195344928]\n"
     ]
    }
   ],
   "source": [
    "# Print predict next 30 days\n",
    "print(prediction_next30_days)"
   ]
  },
  {
   "cell_type": "code",
   "execution_count": 20,
   "id": "384f3d42",
   "metadata": {},
   "outputs": [],
   "source": [
    "# Get the last date from the current index\n",
    "last_date = df.index.max()\n",
    "\n",
    "# Create a list of indices starting from the next date for 30 days\n",
    "future_dates = pd.date_range(start=pd.to_datetime(last_date) + pd.DateOffset(days=1), periods=30, freq='D')"
   ]
  },
  {
   "cell_type": "code",
   "execution_count": 21,
   "id": "8d492299",
   "metadata": {},
   "outputs": [],
   "source": [
    "# Convert from list to array\n",
    "prediction_next30_days = np.array(prediction_next30_days)\n",
    "\n",
    "# Convert to normal values from 0, 1\n",
    "prediction_next30_days = scaler.inverse_transform(prediction_next30_days.reshape(-1, 1))"
   ]
  },
  {
   "cell_type": "code",
   "execution_count": 22,
   "id": "0971bb0a",
   "metadata": {},
   "outputs": [
    {
     "data": {
      "text/plain": [
       "array([[95441.8208084 ],\n",
       "       [94174.38906109],\n",
       "       [95126.41820432],\n",
       "       [93910.462258  ],\n",
       "       [93181.22123936],\n",
       "       [92984.760688  ],\n",
       "       [91873.80604457],\n",
       "       [93080.35416915],\n",
       "       [90287.33775599],\n",
       "       [89276.53384   ],\n",
       "       [87398.4743865 ],\n",
       "       [87820.36797433],\n",
       "       [87263.34602857],\n",
       "       [85864.00611492],\n",
       "       [85185.57176444],\n",
       "       [84250.94799137],\n",
       "       [82908.73922331],\n",
       "       [82958.08794958],\n",
       "       [83378.17298123],\n",
       "       [84401.20345014],\n",
       "       [82967.87368092],\n",
       "       [81385.76605692],\n",
       "       [79648.30022532],\n",
       "       [79122.05546174],\n",
       "       [81549.17403362],\n",
       "       [80804.38830973],\n",
       "       [81109.46049805],\n",
       "       [80865.77798508],\n",
       "       [79750.87468589],\n",
       "       [79714.30868685]])"
      ]
     },
     "execution_count": 22,
     "metadata": {},
     "output_type": "execute_result"
    }
   ],
   "source": [
    "prediction_next30_days"
   ]
  },
  {
   "cell_type": "code",
   "execution_count": 23,
   "id": "c6e9280c",
   "metadata": {},
   "outputs": [
    {
     "data": {
      "image/png": "[encoded data removed]",
      "text/plain": [
       "<Figure size 1600x500 with 1 Axes>"
      ]
     },
     "metadata": {},
     "output_type": "display_data"
    }
   ],
   "source": [
    "# Visualization\n",
    "plt.figure(figsize=(16, 5))\n",
    "\n",
    "plt.plot(df.index[:train_size], scaler.inverse_transform(train_data))\n",
    "\n",
    "plt.plot(df.index[train_size : train_size + val_size], scaler.inverse_transform(val_data))\n",
    "\n",
    "plt.plot(df.index[train_size + val_size : ], test_data)\n",
    "plt.plot(df.index[train_size + val_size : ], y_pred)\n",
    "\n",
    "plt.plot(future_dates, prediction_next30_days)\n",
    "\n",
    "plt.legend(['Train', 'Validate', 'Test', 'PredictTest', 'Next30days'])\n",
    "\n",
    "plt.grid()\n",
    "plt.title(f\"Samsung Closing Price Data\")\n",
    "plt.xlabel(\"Date\")\n",
    "plt.ylabel(\"Close value\")\n",
    "#plt.savefig('../Image/DNN_712_Samsung.png')\n",
    "plt.show()"
   ]
  }
 ],
 "metadata": {
  "kernelspec": {
   "display_name": "Python 3",
   "language": "python",
   "name": "python3"
  },
  "language_info": {
   "codemirror_mode": {
    "name": "ipython",
    "version": 3
   },
   "file_extension": ".py",
   "mimetype": "text/x-python",
   "name": "python",
   "nbconvert_exporter": "python",
   "pygments_lexer": "ipython3",
   "version": "3.11.9"
  }
 },
 "nbformat": 4,
 "nbformat_minor": 5
}
