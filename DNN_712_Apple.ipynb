{
 "cells": [
  {
   "cell_type": "code",
   "execution_count": 1,
   "id": "8e5ae138",
   "metadata": {},
   "outputs": [],
   "source": [
    "# Library to support working with data\n",
    "import pandas as pd\n",
    "import numpy as np\n",
    "\n",
    "# Data Normalization Support Library\n",
    "from sklearn.preprocessing import MinMaxScaler\n",
    "\n",
    "# Training model\n",
    "from tensorflow.keras.callbacks import EarlyStopping\n",
    "from sklearn.neural_network import MLPRegressor\n",
    "\n",
    "# Performance metrics calculation support library\n",
    "from sklearn.metrics import mean_absolute_error, mean_squared_error, mean_absolute_percentage_error, mean_squared_log_error\n",
    "\n",
    "# Graphing support library\n",
    "from matplotlib import ticker\n",
    "import matplotlib.pyplot as plt\n",
    "\n",
    "import warnings\n",
    "warnings.filterwarnings(\"ignore\")"
   ]
  },
  {
   "cell_type": "code",
   "execution_count": 2,
   "id": "d57f4605",
   "metadata": {},
   "outputs": [
    {
     "data": {
      "text/html": [
       "<div>\n",
       "<style scoped>\n",
       "    .dataframe tbody tr th:only-of-type {\n",
       "        vertical-align: middle;\n",
       "    }\n",
       "\n",
       "    .dataframe tbody tr th {\n",
       "        vertical-align: top;\n",
       "    }\n",
       "\n",
       "    .dataframe thead th {\n",
       "        text-align: right;\n",
       "    }\n",
       "</style>\n",
       "<table border=\"1\" class=\"dataframe\">\n",
       "  <thead>\n",
       "    <tr style=\"text-align: right;\">\n",
       "      <th></th>\n",
       "      <th>Date</th>\n",
       "      <th>Open</th>\n",
       "      <th>High</th>\n",
       "      <th>Low</th>\n",
       "      <th>Close</th>\n",
       "      <th>Adj Close</th>\n",
       "      <th>Volume</th>\n",
       "    </tr>\n",
       "  </thead>\n",
       "  <tbody>\n",
       "    <tr>\n",
       "      <th>0</th>\n",
       "      <td>2009-12-31</td>\n",
       "      <td>7.611786</td>\n",
       "      <td>7.619643</td>\n",
       "      <td>7.520000</td>\n",
       "      <td>7.526071</td>\n",
       "      <td>6.326138</td>\n",
       "      <td>352410800</td>\n",
       "    </tr>\n",
       "    <tr>\n",
       "      <th>1</th>\n",
       "      <td>2010-01-04</td>\n",
       "      <td>7.622500</td>\n",
       "      <td>7.660714</td>\n",
       "      <td>7.585000</td>\n",
       "      <td>7.643214</td>\n",
       "      <td>6.424604</td>\n",
       "      <td>493729600</td>\n",
       "    </tr>\n",
       "    <tr>\n",
       "      <th>2</th>\n",
       "      <td>2010-01-05</td>\n",
       "      <td>7.664286</td>\n",
       "      <td>7.699643</td>\n",
       "      <td>7.616071</td>\n",
       "      <td>7.656429</td>\n",
       "      <td>6.435713</td>\n",
       "      <td>601904800</td>\n",
       "    </tr>\n",
       "    <tr>\n",
       "      <th>3</th>\n",
       "      <td>2010-01-06</td>\n",
       "      <td>7.656429</td>\n",
       "      <td>7.686786</td>\n",
       "      <td>7.526786</td>\n",
       "      <td>7.534643</td>\n",
       "      <td>6.333343</td>\n",
       "      <td>552160000</td>\n",
       "    </tr>\n",
       "    <tr>\n",
       "      <th>4</th>\n",
       "      <td>2010-01-07</td>\n",
       "      <td>7.562500</td>\n",
       "      <td>7.571429</td>\n",
       "      <td>7.466071</td>\n",
       "      <td>7.520714</td>\n",
       "      <td>6.321635</td>\n",
       "      <td>477131200</td>\n",
       "    </tr>\n",
       "    <tr>\n",
       "      <th>...</th>\n",
       "      <td>...</td>\n",
       "      <td>...</td>\n",
       "      <td>...</td>\n",
       "      <td>...</td>\n",
       "      <td>...</td>\n",
       "      <td>...</td>\n",
       "      <td>...</td>\n",
       "    </tr>\n",
       "    <tr>\n",
       "      <th>3977</th>\n",
       "      <td>2025-10-23</td>\n",
       "      <td>259.940002</td>\n",
       "      <td>260.619995</td>\n",
       "      <td>258.010010</td>\n",
       "      <td>259.579987</td>\n",
       "      <td>259.579987</td>\n",
       "      <td>32754900</td>\n",
       "    </tr>\n",
       "    <tr>\n",
       "      <th>3978</th>\n",
       "      <td>2025-10-24</td>\n",
       "      <td>261.190002</td>\n",
       "      <td>264.130005</td>\n",
       "      <td>259.179993</td>\n",
       "      <td>262.820007</td>\n",
       "      <td>262.820007</td>\n",
       "      <td>38253700</td>\n",
       "    </tr>\n",
       "    <tr>\n",
       "      <th>3979</th>\n",
       "      <td>2025-10-27</td>\n",
       "      <td>264.880005</td>\n",
       "      <td>269.119995</td>\n",
       "      <td>264.649994</td>\n",
       "      <td>268.809998</td>\n",
       "      <td>268.809998</td>\n",
       "      <td>44888200</td>\n",
       "    </tr>\n",
       "    <tr>\n",
       "      <th>3980</th>\n",
       "      <td>2025-10-28</td>\n",
       "      <td>268.989990</td>\n",
       "      <td>269.890015</td>\n",
       "      <td>268.149994</td>\n",
       "      <td>269.000000</td>\n",
       "      <td>269.000000</td>\n",
       "      <td>41461500</td>\n",
       "    </tr>\n",
       "    <tr>\n",
       "      <th>3981</th>\n",
       "      <td>2025-10-29</td>\n",
       "      <td>269.274994</td>\n",
       "      <td>271.410004</td>\n",
       "      <td>267.109985</td>\n",
       "      <td>267.994995</td>\n",
       "      <td>267.994995</td>\n",
       "      <td>18090425</td>\n",
       "    </tr>\n",
       "  </tbody>\n",
       "</table>\n",
       "<p>3982 rows × 7 columns</p>\n",
       "</div>"
      ],
      "text/plain": [
       "            Date        Open        High         Low       Close   Adj Close  \\\n",
       "0     2009-12-31    7.611786    7.619643    7.520000    7.526071    6.326138   \n",
       "1     2010-01-04    7.622500    7.660714    7.585000    7.643214    6.424604   \n",
       "2     2010-01-05    7.664286    7.699643    7.616071    7.656429    6.435713   \n",
       "3     2010-01-06    7.656429    7.686786    7.526786    7.534643    6.333343   \n",
       "4     2010-01-07    7.562500    7.571429    7.466071    7.520714    6.321635   \n",
       "...          ...         ...         ...         ...         ...         ...   \n",
       "3977  2025-10-23  259.940002  260.619995  258.010010  259.579987  259.579987   \n",
       "3978  2025-10-24  261.190002  264.130005  259.179993  262.820007  262.820007   \n",
       "3979  2025-10-27  264.880005  269.119995  264.649994  268.809998  268.809998   \n",
       "3980  2025-10-28  268.989990  269.890015  268.149994  269.000000  269.000000   \n",
       "3981  2025-10-29  269.274994  271.410004  267.109985  267.994995  267.994995   \n",
       "\n",
       "         Volume  \n",
       "0     352410800  \n",
       "1     493729600  \n",
       "2     601904800  \n",
       "3     552160000  \n",
       "4     477131200  \n",
       "...         ...  \n",
       "3977   32754900  \n",
       "3978   38253700  \n",
       "3979   44888200  \n",
       "3980   41461500  \n",
       "3981   18090425  \n",
       "\n",
       "[3982 rows x 7 columns]"
      ]
     },
     "execution_count": 2,
     "metadata": {},
     "output_type": "execute_result"
    }
   ],
   "source": [
    "df = pd.read_csv('C:/Users/admin/Documents/HK5 2025-2026/PTDLKD IS403.Q12/DoAn/Dataset/Apple_clean.csv')\n",
    "df"
   ]
  },
  {
   "cell_type": "code",
   "execution_count": 3,
   "id": "66db019c",
   "metadata": {},
   "outputs": [],
   "source": [
    "# Convert the 'Date' column to datetime format\n",
    "df['Date'] = pd.to_datetime(df['Date'])\n",
    "\n",
    "# Set the 'Date' column as the index value\n",
    "df.set_index('Date', inplace=True)"
   ]
  },
  {
   "cell_type": "code",
   "execution_count": 4,
   "id": "fb283ca5",
   "metadata": {},
   "outputs": [],
   "source": [
    "# Select 'Close' column\n",
    "df_Close = df[['Close']]\n",
    "df_Close = df_Close.reset_index(drop=True)"
   ]
  },
  {
   "cell_type": "code",
   "execution_count": 5,
   "id": "156e3ddd",
   "metadata": {},
   "outputs": [],
   "source": [
    "# Scaler data\n",
    "scaler = MinMaxScaler(feature_range=(0, 1))\n",
    "df_scaled = scaler.fit_transform(np.array(df_Close))"
   ]
  },
  {
   "cell_type": "code",
   "execution_count": 6,
   "id": "8cffb2d2",
   "metadata": {},
   "outputs": [],
   "source": [
    "# Split the data into training, validation and test dataset in a ratio of 6:2:2\n",
    "train_size = int(len(df_scaled) * 0.7)\n",
    "val_size = int(len(df_scaled) * 0.1)\n",
    "test_size = len(df_scaled) - train_size - val_size\n",
    "\n",
    "train_data = df_scaled[0 : train_size, :]\n",
    "val_data = df_scaled[train_size : train_size + val_size, :]\n",
    "test_data = df_scaled[train_size + val_size:, :]"
   ]
  },
  {
   "cell_type": "code",
   "execution_count": 7,
   "id": "bccc3f06",
   "metadata": {},
   "outputs": [],
   "source": [
    "# Create Dataset\n",
    "import numpy\n",
    "# convert an array of values into a dataset matrix\n",
    "def create_dataset(dataset, time_step=1):\n",
    "\tdataX, dataY = [], []\n",
    "\tfor i in range(len(dataset)-time_step):\n",
    "\t\ta = dataset[i:(i+time_step), 0]\n",
    "\t\tdataX.append(a)\n",
    "\t\tdataY.append(dataset[i + time_step, 0])\n",
    "\treturn numpy.array(dataX), numpy.array(dataY)"
   ]
  },
  {
   "cell_type": "code",
   "execution_count": 8,
   "id": "a4ff8b88",
   "metadata": {},
   "outputs": [],
   "source": [
    "# Add data for train, validation and test set\n",
    "time_step = 30\n",
    "\n",
    "val_last_windowsize = val_data[-time_step:]\n",
    "test_data_extended = np.concatenate((val_last_windowsize, test_data), axis=0)\n",
    "\n",
    "X_train, y_train = create_dataset(train_data, time_step)\n",
    "X_val, y_val = create_dataset(val_data, time_step)\n",
    "X_test, y_test = create_dataset(test_data_extended, time_step)"
   ]
  },
  {
   "cell_type": "code",
   "execution_count": 9,
   "id": "4ed37fe9",
   "metadata": {},
   "outputs": [],
   "source": [
    "# Make input for DNN\n",
    "X_train = X_train.reshape(X_train.shape[0], X_train.shape[1])\n",
    "X_val = X_val.reshape(X_val.shape[0], X_val.shape[1])\n",
    "X_test = X_test.reshape(X_test.shape[0], X_test.shape[1])"
   ]
  },
  {
   "cell_type": "code",
   "execution_count": 10,
   "id": "60c25980",
   "metadata": {},
   "outputs": [],
   "source": [
    "from sklearn.model_selection import GridSearchCV"
   ]
  },
  {
   "cell_type": "code",
   "execution_count": 11,
   "id": "cf434914",
   "metadata": {},
   "outputs": [],
   "source": [
    "# Define the parameter grid\n",
    "param_grid = {\n",
    "    'hidden_layer_sizes': [(16, ),(32, ),(64, ),(128, ),(256, ), (256, 128), (128, 64), (64, 32),(64, 32, 16), (128, 64, 32), (256, 128, 64)],\n",
    "    'activation': ['relu', 'tanh'],\n",
    "    'learning_rate': ['constant', 'adaptive'],\n",
    "}"
   ]
  },
  {
   "cell_type": "code",
   "execution_count": 12,
   "id": "457ae5d6",
   "metadata": {},
   "outputs": [],
   "source": [
    "# Find best params (GridSearch Idea)\n",
    "best_val_mse = float('inf')\n",
    "best_params = None\n",
    "best_model = None\n",
    "\n",
    "for hidden_layer_sizes in param_grid['hidden_layer_sizes']:\n",
    "    for activation in param_grid['activation']:\n",
    "        for learning_rate in param_grid['learning_rate']:\n",
    "            model = MLPRegressor(hidden_layer_sizes=hidden_layer_sizes, \n",
    "                                 activation=activation, \n",
    "                                 learning_rate=learning_rate,\n",
    "                                 max_iter=200, \n",
    "                                 random_state=42)\n",
    "\n",
    "            # Training\n",
    "            model.fit(X_train, y_train)\n",
    "\n",
    "            # Evaluate on validation set\n",
    "            y_pred_val = model.predict(X_val)\n",
    "\n",
    "            # Inverse\n",
    "            y_pred_val_inv = scaler.inverse_transform(y_pred_val.reshape(-1, 1))\n",
    "            y_val_inv = scaler.inverse_transform(y_val.reshape(-1, 1))\n",
    "\n",
    "            val_mse = mean_squared_error(y_val_inv, y_pred_val_inv)\n",
    "\n",
    "            # Update best model\n",
    "            if val_mse < best_val_mse:\n",
    "                best_val_mse = val_mse\n",
    "                best_params = {'hidden_layer_sizes': hidden_layer_sizes, 'activation': activation, 'learning_rate': learning_rate}\n",
    "                best_model = model"
   ]
  },
  {
   "cell_type": "code",
   "execution_count": 13,
   "id": "5ba47c85",
   "metadata": {},
   "outputs": [
    {
     "name": "stdout",
     "output_type": "stream",
     "text": [
      "Best MSE: 19.362049327590817\n",
      "Best Parameters: {'hidden_layer_sizes': (128, 64), 'activation': 'tanh', 'learning_rate': 'constant'}\n"
     ]
    }
   ],
   "source": [
    "# Print the results\n",
    "print(\"Best MSE:\", best_val_mse)\n",
    "print(\"Best Parameters:\", best_params)"
   ]
  },
  {
   "cell_type": "code",
   "execution_count": 14,
   "id": "6255b129",
   "metadata": {},
   "outputs": [],
   "source": [
    "y_pred = best_model.predict(X_test)"
   ]
  },
  {
   "cell_type": "code",
   "execution_count": 15,
   "id": "eb4b10f1",
   "metadata": {},
   "outputs": [],
   "source": [
    "test_data = scaler.inverse_transform(test_data.reshape(-1, 1))\n",
    "\n",
    "y_val = scaler.inverse_transform(y_val.reshape(-1, 1))\n",
    "\n",
    "y_pred = scaler.inverse_transform(y_pred.reshape(-1, 1))\n",
    "\n",
    "y_test = scaler.inverse_transform(y_test.reshape(-1, 1))"
   ]
  },
  {
   "cell_type": "code",
   "execution_count": 16,
   "id": "ba35e836",
   "metadata": {},
   "outputs": [
    {
     "name": "stdout",
     "output_type": "stream",
     "text": [
      "Validation MAPE :  0.03324122014280184\n",
      "Validation MSE  :  19.362049327590817\n",
      "Validation RMSE :  4.400232871972894\n",
      "Validation MSLE :  0.0016768401372182899\n"
     ]
    }
   ],
   "source": [
    "# Evaluate the accuracy of validation\n",
    "val_mape = mean_absolute_percentage_error(y_pred_val_inv, y_val_inv)\n",
    "val_mse = best_val_mse\n",
    "val_rmse = np.sqrt(best_val_mse)\n",
    "val_msle = mean_squared_log_error(y_pred_val_inv, y_val_inv)\n",
    "\n",
    "print(f\"Validation MAPE : \", val_mape)\n",
    "print(f\"Validation MSE  : \", val_mse)\n",
    "print(f\"Validation RMSE : \", val_rmse)\n",
    "print(f\"Validation MSLE : \", val_msle)"
   ]
  },
  {
   "cell_type": "code",
   "execution_count": 17,
   "id": "6e0e58f1",
   "metadata": {},
   "outputs": [
    {
     "name": "stdout",
     "output_type": "stream",
     "text": [
      "Testing MAPE :  0.030681362230526\n",
      "Testing MSE  :  62.561036620362046\n",
      "Testing RMSE :  7.909553503223936\n",
      "Testing MSLE :  0.0014253924648213831\n"
     ]
    }
   ],
   "source": [
    "# Evaluate the accuracy of test\n",
    "test_mape = mean_absolute_percentage_error(y_pred, y_test)\n",
    "test_mse = mean_squared_error(y_pred, y_test)\n",
    "test_rmse = np.sqrt(test_mse)\n",
    "test_msle = mean_squared_log_error(y_pred, y_test)\n",
    "\n",
    "print(f\"Testing MAPE : \", test_mape)\n",
    "print(f\"Testing MSE  : \", test_mse)\n",
    "print(f\"Testing RMSE : \", test_rmse)\n",
    "print(f\"Testing MSLE : \", test_msle)"
   ]
  },
  {
   "cell_type": "code",
   "execution_count": 18,
   "id": "4977bae0",
   "metadata": {},
   "outputs": [],
   "source": [
    "x_input = test_data_extended[5:].reshape(1, -1)\n",
    "temp_input = list(x_input)\n",
    "temp_input = temp_input[0].tolist()\n",
    "\n",
    "# Define i\n",
    "i = 0\n",
    "\n",
    "# List storage value for next 30 days\n",
    "prediction_next30_days = []\n",
    "\n",
    "while(i < 30):\n",
    "    if(len(temp_input) > time_step):\n",
    "        x_input = np.array(temp_input[-time_step:])\n",
    "        x_input = x_input.reshape((1, time_step))\n",
    "\n",
    "        y_hat = best_model.predict(x_input)\n",
    "\n",
    "        temp_input.extend(y_hat.tolist())\n",
    "        temp_input = temp_input[1:]\n",
    "\n",
    "        prediction_next30_days.extend(y_hat.tolist())\n",
    "        i = i + 1\n",
    "    else:\n",
    "        x_input = x_input.reshape((1, time_step))\n",
    "        y_hat = best_model.predict(x_input)\n",
    "\n",
    "        temp_input.extend(y_hat.tolist())\n",
    "        \n",
    "        prediction_next30_days.extend(y_hat.tolist())\n",
    "        i = i + 1"
   ]
  },
  {
   "cell_type": "code",
   "execution_count": 19,
   "id": "d5243f69",
   "metadata": {},
   "outputs": [
    {
     "name": "stdout",
     "output_type": "stream",
     "text": [
      "[0.9196841241188245, 0.8885769035547142, 0.886036161733921, 0.9113600554256951, 0.8980000345112664, 0.8698432590886533, 0.8532372827003942, 0.8704451555551895, 0.8688716499907305, 0.8523035730492488, 0.8478582394206216, 0.8534561910611911, 0.8223411869203279, 0.7869007128744869, 0.7835202930188547, 0.7987601477434092, 0.7705802322491251, 0.739082999902249, 0.7310715287428733, 0.7442817803480322, 0.7247415305792335, 0.7177290081333694, 0.7315016200690705, 0.7391359200701135, 0.7079328797897475, 0.7029323372265839, 0.7265780995220341, 0.7225497622049128, 0.6725124528533155, 0.659708889257967]\n"
     ]
    }
   ],
   "source": [
    "# Print predict next 30 days\n",
    "print(prediction_next30_days)"
   ]
  },
  {
   "cell_type": "code",
   "execution_count": 20,
   "id": "5f937463",
   "metadata": {},
   "outputs": [],
   "source": [
    "# Get the last date from the current index\n",
    "last_date = df.index.max()\n",
    "\n",
    "# Create a list of indices starting from the next date for 30 days\n",
    "future_dates = pd.date_range(start=pd.to_datetime(last_date) + pd.DateOffset(days=1), periods=30, freq='D')"
   ]
  },
  {
   "cell_type": "code",
   "execution_count": 21,
   "id": "68f5296e",
   "metadata": {},
   "outputs": [
    {
     "data": {
      "text/plain": [
       "[0.9196841241188245,\n",
       " 0.8885769035547142,\n",
       " 0.886036161733921,\n",
       " 0.9113600554256951,\n",
       " 0.8980000345112664,\n",
       " 0.8698432590886533,\n",
       " 0.8532372827003942,\n",
       " 0.8704451555551895,\n",
       " 0.8688716499907305,\n",
       " 0.8523035730492488,\n",
       " 0.8478582394206216,\n",
       " 0.8534561910611911,\n",
       " 0.8223411869203279,\n",
       " 0.7869007128744869,\n",
       " 0.7835202930188547,\n",
       " 0.7987601477434092,\n",
       " 0.7705802322491251,\n",
       " 0.739082999902249,\n",
       " 0.7310715287428733,\n",
       " 0.7442817803480322,\n",
       " 0.7247415305792335,\n",
       " 0.7177290081333694,\n",
       " 0.7315016200690705,\n",
       " 0.7391359200701135,\n",
       " 0.7079328797897475,\n",
       " 0.7029323372265839,\n",
       " 0.7265780995220341,\n",
       " 0.7225497622049128,\n",
       " 0.6725124528533155,\n",
       " 0.659708889257967]"
      ]
     },
     "execution_count": 21,
     "metadata": {},
     "output_type": "execute_result"
    }
   ],
   "source": [
    "prediction_next30_days"
   ]
  },
  {
   "cell_type": "code",
   "execution_count": 22,
   "id": "cadf2611",
   "metadata": {},
   "outputs": [
    {
     "data": {
      "image/png": "[encoded data removed]",
      "text/plain": [
       "<Figure size 1600x500 with 1 Axes>"
      ]
     },
     "metadata": {},
     "output_type": "display_data"
    }
   ],
   "source": [
    "# Visualization\n",
    "plt.figure(figsize=(16, 5))\n",
    "\n",
    "plt.plot(df.index[:train_size], scaler.inverse_transform(train_data))\n",
    "\n",
    "plt.plot(df.index[train_size : train_size + val_size], scaler.inverse_transform(val_data))\n",
    "\n",
    "plt.plot(df.index[train_size + val_size : ], test_data)\n",
    "plt.plot(df.index[train_size + val_size : ], y_pred)\n",
    "\n",
    "plt.plot(future_dates, prediction_next30_days)\n",
    "\n",
    "plt.legend(['Train', 'Validate', 'Test', 'PredictTest', 'Next30days'])\n",
    "\n",
    "plt.grid()\n",
    "plt.title(f\"Apple Closing Price Data\")\n",
    "plt.xlabel(\"Date\")\n",
    "plt.ylabel(\"Close value\")\n",
    "#plt.savefig('../Image/DNN_712_Apple.png')\n",
    "plt.show()"
   ]
  }
 ],
 "metadata": {
  "kernelspec": {
   "display_name": "Python 3",
   "language": "python",
   "name": "python3"
  },
  "language_info": {
   "codemirror_mode": {
    "name": "ipython",
    "version": 3
   },
   "file_extension": ".py",
   "mimetype": "text/x-python",
   "name": "python",
   "nbconvert_exporter": "python",
   "pygments_lexer": "ipython3",
   "version": "3.11.9"
  }
 },
 "nbformat": 4,
 "nbformat_minor": 5
}
