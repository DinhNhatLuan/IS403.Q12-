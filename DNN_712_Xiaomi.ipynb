{
 "cells": [
  {
   "cell_type": "code",
   "execution_count": 1,
   "id": "dd35b189",
   "metadata": {},
   "outputs": [],
   "source": [
    "# Library to support working with data\n",
    "import pandas as pd\n",
    "import numpy as np\n",
    "\n",
    "# Data Normalization Support Library\n",
    "from sklearn.preprocessing import MinMaxScaler\n",
    "\n",
    "# Training model\n",
    "from tensorflow.keras.callbacks import EarlyStopping\n",
    "from sklearn.neural_network import MLPRegressor\n",
    "\n",
    "# Performance metrics calculation support library\n",
    "from sklearn.metrics import mean_absolute_error, mean_squared_error, mean_absolute_percentage_error, mean_squared_log_error\n",
    "\n",
    "# Graphing support library\n",
    "from matplotlib import ticker\n",
    "import matplotlib.pyplot as plt\n",
    "\n",
    "import warnings\n",
    "warnings.filterwarnings(\"ignore\")"
   ]
  },
  {
   "cell_type": "code",
   "execution_count": 2,
   "id": "24f9a8a5",
   "metadata": {},
   "outputs": [
    {
     "data": {
      "text/html": [
       "<div>\n",
       "<style scoped>\n",
       "    .dataframe tbody tr th:only-of-type {\n",
       "        vertical-align: middle;\n",
       "    }\n",
       "\n",
       "    .dataframe tbody tr th {\n",
       "        vertical-align: top;\n",
       "    }\n",
       "\n",
       "    .dataframe thead th {\n",
       "        text-align: right;\n",
       "    }\n",
       "</style>\n",
       "<table border=\"1\" class=\"dataframe\">\n",
       "  <thead>\n",
       "    <tr style=\"text-align: right;\">\n",
       "      <th></th>\n",
       "      <th>Date</th>\n",
       "      <th>Open</th>\n",
       "      <th>High</th>\n",
       "      <th>Low</th>\n",
       "      <th>Close</th>\n",
       "      <th>Adj Close</th>\n",
       "      <th>Volume</th>\n",
       "    </tr>\n",
       "  </thead>\n",
       "  <tbody>\n",
       "    <tr>\n",
       "      <th>0</th>\n",
       "      <td>2018-07-09</td>\n",
       "      <td>16.600000</td>\n",
       "      <td>17.000000</td>\n",
       "      <td>16.000000</td>\n",
       "      <td>16.799999</td>\n",
       "      <td>16.799999</td>\n",
       "      <td>462182642</td>\n",
       "    </tr>\n",
       "    <tr>\n",
       "      <th>1</th>\n",
       "      <td>2018-07-10</td>\n",
       "      <td>17.000000</td>\n",
       "      <td>19.340000</td>\n",
       "      <td>17.000000</td>\n",
       "      <td>19.000000</td>\n",
       "      <td>19.000000</td>\n",
       "      <td>534072218</td>\n",
       "    </tr>\n",
       "    <tr>\n",
       "      <th>2</th>\n",
       "      <td>2018-07-11</td>\n",
       "      <td>18.500000</td>\n",
       "      <td>19.799999</td>\n",
       "      <td>18.299999</td>\n",
       "      <td>19.000000</td>\n",
       "      <td>19.000000</td>\n",
       "      <td>374721138</td>\n",
       "    </tr>\n",
       "    <tr>\n",
       "      <th>3</th>\n",
       "      <td>2018-07-12</td>\n",
       "      <td>19.400000</td>\n",
       "      <td>19.700001</td>\n",
       "      <td>19.020000</td>\n",
       "      <td>19.260000</td>\n",
       "      <td>19.260000</td>\n",
       "      <td>132592630</td>\n",
       "    </tr>\n",
       "    <tr>\n",
       "      <th>4</th>\n",
       "      <td>2018-07-13</td>\n",
       "      <td>19.600000</td>\n",
       "      <td>21.799999</td>\n",
       "      <td>19.520000</td>\n",
       "      <td>21.450001</td>\n",
       "      <td>21.450001</td>\n",
       "      <td>364065075</td>\n",
       "    </tr>\n",
       "    <tr>\n",
       "      <th>...</th>\n",
       "      <td>...</td>\n",
       "      <td>...</td>\n",
       "      <td>...</td>\n",
       "      <td>...</td>\n",
       "      <td>...</td>\n",
       "      <td>...</td>\n",
       "      <td>...</td>\n",
       "    </tr>\n",
       "    <tr>\n",
       "      <th>1795</th>\n",
       "      <td>2025-10-22</td>\n",
       "      <td>46.000000</td>\n",
       "      <td>46.740002</td>\n",
       "      <td>45.700001</td>\n",
       "      <td>46.340000</td>\n",
       "      <td>46.340000</td>\n",
       "      <td>121391262</td>\n",
       "    </tr>\n",
       "    <tr>\n",
       "      <th>1796</th>\n",
       "      <td>2025-10-23</td>\n",
       "      <td>46.020000</td>\n",
       "      <td>47.080002</td>\n",
       "      <td>45.700001</td>\n",
       "      <td>46.740002</td>\n",
       "      <td>46.740002</td>\n",
       "      <td>106829656</td>\n",
       "    </tr>\n",
       "    <tr>\n",
       "      <th>1797</th>\n",
       "      <td>2025-10-24</td>\n",
       "      <td>47.099998</td>\n",
       "      <td>47.400002</td>\n",
       "      <td>45.740002</td>\n",
       "      <td>45.919998</td>\n",
       "      <td>45.919998</td>\n",
       "      <td>170946122</td>\n",
       "    </tr>\n",
       "    <tr>\n",
       "      <th>1798</th>\n",
       "      <td>2025-10-27</td>\n",
       "      <td>45.720001</td>\n",
       "      <td>46.000000</td>\n",
       "      <td>43.880001</td>\n",
       "      <td>45.799999</td>\n",
       "      <td>45.799999</td>\n",
       "      <td>282836746</td>\n",
       "    </tr>\n",
       "    <tr>\n",
       "      <th>1799</th>\n",
       "      <td>2025-10-28</td>\n",
       "      <td>45.400002</td>\n",
       "      <td>45.480000</td>\n",
       "      <td>44.299999</td>\n",
       "      <td>44.919998</td>\n",
       "      <td>44.919998</td>\n",
       "      <td>184222833</td>\n",
       "    </tr>\n",
       "  </tbody>\n",
       "</table>\n",
       "<p>1800 rows × 7 columns</p>\n",
       "</div>"
      ],
      "text/plain": [
       "            Date       Open       High        Low      Close  Adj Close  \\\n",
       "0     2018-07-09  16.600000  17.000000  16.000000  16.799999  16.799999   \n",
       "1     2018-07-10  17.000000  19.340000  17.000000  19.000000  19.000000   \n",
       "2     2018-07-11  18.500000  19.799999  18.299999  19.000000  19.000000   \n",
       "3     2018-07-12  19.400000  19.700001  19.020000  19.260000  19.260000   \n",
       "4     2018-07-13  19.600000  21.799999  19.520000  21.450001  21.450001   \n",
       "...          ...        ...        ...        ...        ...        ...   \n",
       "1795  2025-10-22  46.000000  46.740002  45.700001  46.340000  46.340000   \n",
       "1796  2025-10-23  46.020000  47.080002  45.700001  46.740002  46.740002   \n",
       "1797  2025-10-24  47.099998  47.400002  45.740002  45.919998  45.919998   \n",
       "1798  2025-10-27  45.720001  46.000000  43.880001  45.799999  45.799999   \n",
       "1799  2025-10-28  45.400002  45.480000  44.299999  44.919998  44.919998   \n",
       "\n",
       "         Volume  \n",
       "0     462182642  \n",
       "1     534072218  \n",
       "2     374721138  \n",
       "3     132592630  \n",
       "4     364065075  \n",
       "...         ...  \n",
       "1795  121391262  \n",
       "1796  106829656  \n",
       "1797  170946122  \n",
       "1798  282836746  \n",
       "1799  184222833  \n",
       "\n",
       "[1800 rows x 7 columns]"
      ]
     },
     "execution_count": 2,
     "metadata": {},
     "output_type": "execute_result"
    }
   ],
   "source": [
    "df = pd.read_csv('C:/Users/admin/Documents/HK5 2025-2026/PTDLKD IS403.Q12/DoAn/Dataset/Xiaomi_clean.csv')\n",
    "df"
   ]
  },
  {
   "cell_type": "code",
   "execution_count": 3,
   "id": "ad7f2cd6",
   "metadata": {},
   "outputs": [],
   "source": [
    "# Convert the 'Date' column to datetime format\n",
    "df['Date'] = pd.to_datetime(df['Date'])\n",
    "\n",
    "# Set the 'Date' column as the index value\n",
    "df.set_index('Date', inplace=True)"
   ]
  },
  {
   "cell_type": "code",
   "execution_count": 4,
   "id": "e3e36802",
   "metadata": {},
   "outputs": [],
   "source": [
    "# Select 'Close' column\n",
    "df_Close = df[['Close']]\n",
    "df_Close = df_Close.reset_index(drop=True)"
   ]
  },
  {
   "cell_type": "code",
   "execution_count": 5,
   "id": "39c8092c",
   "metadata": {},
   "outputs": [],
   "source": [
    "# Scaler data\n",
    "scaler = MinMaxScaler(feature_range=(0, 1))\n",
    "df_scaled = scaler.fit_transform(np.array(df_Close))"
   ]
  },
  {
   "cell_type": "code",
   "execution_count": 6,
   "id": "caf296eb",
   "metadata": {},
   "outputs": [],
   "source": [
    "# Split the data into training, validation and test dataset in a ratio of 6:2:2\n",
    "train_size = int(len(df_scaled) * 0.7)\n",
    "val_size = int(len(df_scaled) * 0.1)\n",
    "test_size = len(df_scaled) - train_size - val_size\n",
    "\n",
    "train_data = df_scaled[0 : train_size, :]\n",
    "val_data = df_scaled[train_size : train_size + val_size, :]\n",
    "test_data = df_scaled[train_size + val_size:, :]"
   ]
  },
  {
   "cell_type": "code",
   "execution_count": 7,
   "id": "521f8b2d",
   "metadata": {},
   "outputs": [],
   "source": [
    "# Create Dataset\n",
    "import numpy\n",
    "# convert an array of values into a dataset matrix\n",
    "def create_dataset(dataset, time_step=1):\n",
    "\tdataX, dataY = [], []\n",
    "\tfor i in range(len(dataset)-time_step):\n",
    "\t\ta = dataset[i:(i+time_step), 0]\n",
    "\t\tdataX.append(a)\n",
    "\t\tdataY.append(dataset[i + time_step, 0])\n",
    "\treturn numpy.array(dataX), numpy.array(dataY)"
   ]
  },
  {
   "cell_type": "code",
   "execution_count": 8,
   "id": "d9c5013b",
   "metadata": {},
   "outputs": [],
   "source": [
    "# Add data for train, validation and test set\n",
    "time_step = 30\n",
    "\n",
    "val_last_windowsize = val_data[-time_step:]\n",
    "test_data_extended = np.concatenate((val_last_windowsize, test_data), axis=0)\n",
    "\n",
    "X_train, y_train = create_dataset(train_data, time_step)\n",
    "X_val, y_val = create_dataset(val_data, time_step)\n",
    "X_test, y_test = create_dataset(test_data_extended, time_step)"
   ]
  },
  {
   "cell_type": "code",
   "execution_count": 9,
   "id": "3c20a3c5",
   "metadata": {},
   "outputs": [],
   "source": [
    "# Make input for DNN\n",
    "X_train = X_train.reshape(X_train.shape[0], X_train.shape[1])\n",
    "X_val = X_val.reshape(X_val.shape[0], X_val.shape[1])\n",
    "X_test = X_test.reshape(X_test.shape[0], X_test.shape[1])"
   ]
  },
  {
   "cell_type": "code",
   "execution_count": 10,
   "id": "42b8cc79",
   "metadata": {},
   "outputs": [],
   "source": [
    "from sklearn.model_selection import GridSearchCV"
   ]
  },
  {
   "cell_type": "code",
   "execution_count": 11,
   "id": "1d854859",
   "metadata": {},
   "outputs": [],
   "source": [
    "# Define the parameter grid\n",
    "param_grid = {\n",
    "    'hidden_layer_sizes': [(16, ),(32, ),(64, ),(128, ),(256, ), (256, 128), (128, 64), (64, 32),(64, 32, 16), (128, 64, 32), (256, 128, 64)],\n",
    "    'activation': ['relu', 'tanh'],\n",
    "    'learning_rate': ['constant', 'adaptive'],\n",
    "}"
   ]
  },
  {
   "cell_type": "code",
   "execution_count": 12,
   "id": "690ea016",
   "metadata": {},
   "outputs": [],
   "source": [
    "# Find best params (GridSearch Idea)\n",
    "best_val_mse = float('inf')\n",
    "best_params = None\n",
    "best_model = None\n",
    "\n",
    "for hidden_layer_sizes in param_grid['hidden_layer_sizes']:\n",
    "    for activation in param_grid['activation']:\n",
    "        for learning_rate in param_grid['learning_rate']:\n",
    "            model = MLPRegressor(hidden_layer_sizes=hidden_layer_sizes, \n",
    "                                 activation=activation, \n",
    "                                 learning_rate=learning_rate,\n",
    "                                 max_iter=200, \n",
    "                                 random_state=42)\n",
    "\n",
    "            # Training\n",
    "            model.fit(X_train, y_train)\n",
    "\n",
    "            # Evaluate on validation set\n",
    "            y_pred_val = model.predict(X_val)\n",
    "\n",
    "            # Inverse\n",
    "            y_pred_val_inv = scaler.inverse_transform(y_pred_val.reshape(-1, 1))\n",
    "            y_val_inv = scaler.inverse_transform(y_val.reshape(-1, 1))\n",
    "\n",
    "            val_mse = mean_squared_error(y_val_inv, y_pred_val_inv)\n",
    "\n",
    "            # Update best model\n",
    "            if val_mse < best_val_mse:\n",
    "                best_val_mse = val_mse\n",
    "                best_params = {'hidden_layer_sizes': hidden_layer_sizes, 'activation': activation, 'learning_rate': learning_rate}\n",
    "                best_model = model"
   ]
  },
  {
   "cell_type": "code",
   "execution_count": 13,
   "id": "f7181870",
   "metadata": {},
   "outputs": [
    {
     "name": "stdout",
     "output_type": "stream",
     "text": [
      "Best MSE: 0.26074329488768894\n",
      "Best Parameters: {'hidden_layer_sizes': (256, 128), 'activation': 'tanh', 'learning_rate': 'constant'}\n"
     ]
    }
   ],
   "source": [
    "# Print the results\n",
    "print(\"Best MSE:\", best_val_mse)\n",
    "print(\"Best Parameters:\", best_params)"
   ]
  },
  {
   "cell_type": "code",
   "execution_count": 14,
   "id": "b8eb28ed",
   "metadata": {},
   "outputs": [],
   "source": [
    "y_pred = best_model.predict(X_test)"
   ]
  },
  {
   "cell_type": "code",
   "execution_count": 15,
   "id": "77f91d89",
   "metadata": {},
   "outputs": [],
   "source": [
    "test_data = scaler.inverse_transform(test_data.reshape(-1, 1))\n",
    "\n",
    "y_val = scaler.inverse_transform(y_val.reshape(-1, 1))\n",
    "\n",
    "y_pred = scaler.inverse_transform(y_pred.reshape(-1, 1))\n",
    "\n",
    "y_test = scaler.inverse_transform(y_test.reshape(-1, 1))"
   ]
  },
  {
   "cell_type": "code",
   "execution_count": 16,
   "id": "75d6a739",
   "metadata": {},
   "outputs": [
    {
     "name": "stdout",
     "output_type": "stream",
     "text": [
      "Validation MAPE :  0.03514233631191743\n",
      "Validation MSE  :  0.26074329488768894\n",
      "Validation RMSE :  0.5106302917842702\n",
      "Validation MSLE :  0.0016118479715712542\n"
     ]
    }
   ],
   "source": [
    "# Evaluate the accuracy of validation\n",
    "val_mape = mean_absolute_percentage_error(y_pred_val_inv, y_val_inv)\n",
    "val_mse = best_val_mse\n",
    "val_rmse = np.sqrt(best_val_mse)\n",
    "val_msle = mean_squared_log_error(y_pred_val_inv, y_val_inv)\n",
    "\n",
    "print(f\"Validation MAPE : \", val_mape)\n",
    "print(f\"Validation MSE  : \", val_mse)\n",
    "print(f\"Validation RMSE : \", val_rmse)\n",
    "print(f\"Validation MSLE : \", val_msle)"
   ]
  },
  {
   "cell_type": "code",
   "execution_count": 17,
   "id": "dd03c707",
   "metadata": {},
   "outputs": [
    {
     "name": "stdout",
     "output_type": "stream",
     "text": [
      "Testing MAPE :  0.08942362932541842\n",
      "Testing MSE  :  25.21196417555626\n",
      "Testing RMSE :  5.021151678206531\n",
      "Testing MSLE :  0.010418139147032069\n"
     ]
    }
   ],
   "source": [
    "# Evaluate the accuracy of test\n",
    "test_mape = mean_absolute_percentage_error(y_pred, y_test)\n",
    "test_mse = mean_squared_error(y_pred, y_test)\n",
    "test_rmse = np.sqrt(test_mse)\n",
    "test_msle = mean_squared_log_error(y_pred, y_test)\n",
    "\n",
    "print(f\"Testing MAPE : \", test_mape)\n",
    "print(f\"Testing MSE  : \", test_mse)\n",
    "print(f\"Testing RMSE : \", test_rmse)\n",
    "print(f\"Testing MSLE : \", test_msle)"
   ]
  },
  {
   "cell_type": "code",
   "execution_count": 18,
   "id": "1cc38606",
   "metadata": {},
   "outputs": [],
   "source": [
    "x_input = test_data_extended[5:].reshape(1, -1)\n",
    "temp_input = list(x_input)\n",
    "temp_input = temp_input[0].tolist()\n",
    "\n",
    "# Define i\n",
    "i = 0\n",
    "\n",
    "# List storage value for next 30 days\n",
    "prediction_next30_days = []\n",
    "\n",
    "while(i < 30):\n",
    "    if(len(temp_input) > time_step):\n",
    "        x_input = np.array(temp_input[-time_step:])\n",
    "        x_input = x_input.reshape((1, time_step))\n",
    "\n",
    "        y_hat = best_model.predict(x_input)\n",
    "\n",
    "        temp_input.extend(y_hat.tolist())\n",
    "        temp_input = temp_input[1:]\n",
    "\n",
    "        prediction_next30_days.extend(y_hat.tolist())\n",
    "        i = i + 1\n",
    "    else:\n",
    "        x_input = x_input.reshape((1, time_step))\n",
    "        y_hat = best_model.predict(x_input)\n",
    "\n",
    "        temp_input.extend(y_hat.tolist())\n",
    "        \n",
    "        prediction_next30_days.extend(y_hat.tolist())\n",
    "        i = i + 1"
   ]
  },
  {
   "cell_type": "code",
   "execution_count": 19,
   "id": "f8a501be",
   "metadata": {},
   "outputs": [
    {
     "name": "stdout",
     "output_type": "stream",
     "text": [
      "[0.6197956506159652, 0.6091965040269196, 0.5553020994116331, 0.5211239507165608, 0.5078016596347059, 0.48203387193717, 0.44444522229279987, 0.42314537253537826, 0.4142574307870106, 0.39229424889038517, 0.3682401807230958, 0.3584857473194123, 0.3463966138833396, 0.3436771149833387, 0.33041253768417517, 0.3163006641711979, 0.3231298673551866, 0.3075048623690491, 0.2893105605257549, 0.2876286248388075, 0.2642328728657007, 0.2537182335875519, 0.2545644918405907, 0.23644872261995792, 0.2381686669291891, 0.23760582950205222, 0.2343691033144804, 0.24624363190608478, 0.2454501091414122, 0.2419294686417391]\n"
     ]
    }
   ],
   "source": [
    "# Print predict next 30 days\n",
    "print(prediction_next30_days)"
   ]
  },
  {
   "cell_type": "code",
   "execution_count": 20,
   "id": "25f500b0",
   "metadata": {},
   "outputs": [],
   "source": [
    "# Get the last date from the current index\n",
    "last_date = df.index.max()\n",
    "\n",
    "# Create a list of indices starting from the next date for 30 days\n",
    "future_dates = pd.date_range(start=pd.to_datetime(last_date) + pd.DateOffset(days=1), periods=30, freq='D')"
   ]
  },
  {
   "cell_type": "code",
   "execution_count": 21,
   "id": "031b9607",
   "metadata": {},
   "outputs": [],
   "source": [
    "# Convert from list to array\n",
    "prediction_next30_days = np.array(prediction_next30_days)\n",
    "\n",
    "# Convert to normal values from 0, 1\n",
    "prediction_next30_days = scaler.inverse_transform(prediction_next30_days.reshape(-1, 1))"
   ]
  },
  {
   "cell_type": "code",
   "execution_count": 22,
   "id": "355f455c",
   "metadata": {},
   "outputs": [
    {
     "data": {
      "text/plain": [
       "array([[40.45541579],\n",
       "       [39.90637999],\n",
       "       [37.11464977],\n",
       "       [35.34422162],\n",
       "       [34.65412693],\n",
       "       [33.3193555 ],\n",
       "       [31.3722634 ],\n",
       "       [30.26893116],\n",
       "       [29.80853577],\n",
       "       [28.67084292],\n",
       "       [27.42484216],\n",
       "       [26.9195625 ],\n",
       "       [26.29334538],\n",
       "       [26.15247533],\n",
       "       [25.46537021],\n",
       "       [24.73437515],\n",
       "       [25.08812788],\n",
       "       [24.2787526 ],\n",
       "       [23.33628775],\n",
       "       [23.24916348],\n",
       "       [22.0372635 ],\n",
       "       [21.49260517],\n",
       "       [21.53644135],\n",
       "       [20.59804448],\n",
       "       [20.6871376 ],\n",
       "       [20.65798262],\n",
       "       [20.4903202 ],\n",
       "       [21.1054208 ],\n",
       "       [21.06431632],\n",
       "       [20.88194713]])"
      ]
     },
     "execution_count": 22,
     "metadata": {},
     "output_type": "execute_result"
    }
   ],
   "source": [
    "prediction_next30_days"
   ]
  },
  {
   "cell_type": "code",
   "execution_count": 23,
   "id": "e20c1c1c",
   "metadata": {},
   "outputs": [
    {
     "data": {
      "image/png": "[encoded data removed]",
      "text/plain": [
       "<Figure size 1600x500 with 1 Axes>"
      ]
     },
     "metadata": {},
     "output_type": "display_data"
    }
   ],
   "source": [
    "# Visualization\n",
    "plt.figure(figsize=(16, 5))\n",
    "\n",
    "plt.plot(df.index[:train_size], scaler.inverse_transform(train_data))\n",
    "\n",
    "plt.plot(df.index[train_size : train_size + val_size], scaler.inverse_transform(val_data))\n",
    "\n",
    "plt.plot(df.index[train_size + val_size : ], test_data)\n",
    "plt.plot(df.index[train_size + val_size : ], y_pred)\n",
    "\n",
    "plt.plot(future_dates, prediction_next30_days)\n",
    "\n",
    "plt.legend(['Train', 'Validate', 'Test', 'PredictTest', 'Next30days'])\n",
    "\n",
    "plt.grid()\n",
    "plt.title(f\"Xiaomi Closing Price Data\")\n",
    "plt.xlabel(\"Date\")\n",
    "plt.ylabel(\"Close value\")\n",
    "#plt.savefig('../Image/DNN_712_Xiaomi.png')\n",
    "plt.show()"
   ]
  }
 ],
 "metadata": {
  "kernelspec": {
   "display_name": "Python 3",
   "language": "python",
   "name": "python3"
  },
  "language_info": {
   "codemirror_mode": {
    "name": "ipython",
    "version": 3
   },
   "file_extension": ".py",
   "mimetype": "text/x-python",
   "name": "python",
   "nbconvert_exporter": "python",
   "pygments_lexer": "ipython3",
   "version": "3.11.9"
  }
 },
 "nbformat": 4,
 "nbformat_minor": 5
}
